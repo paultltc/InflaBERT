{
 "cells": [
  {
   "cell_type": "markdown",
   "metadata": {},
   "source": [
    "Authors: Allard Marc-Antoine\n",
    "\n",
    "Course: FIN-407\n",
    "\n",
    "---\n",
    "\n",
    "## News Dataset Exploration\n",
    "\n",
    "- Exploration of the FNSPIDataset (Financial News and Stock Price Integration Dataset)\n",
    "    - Overview of the tools used\n",
    "    - Overview of the dataset\n",
    "- Comprehensive Exploratory Data Analysis (EDA) including topic extraction and analysis\n",
    "- Summary statistics\n",
    "- Introduction: Proposed methods for analysis\n",
    "\n",
    "---"
   ]
  },
  {
   "cell_type": "code",
   "execution_count": 1,
   "metadata": {
    "vscode": {
     "languageId": "shellscript"
    }
   },
   "outputs": [],
   "source": [
    "# TODO in Google Colab \n",
    "# pip install requirements.txt"
   ]
  },
  {
   "cell_type": "code",
   "execution_count": 2,
   "metadata": {},
   "outputs": [],
   "source": [
    "%load_ext autoreload\n",
    "%autoreload 2\n",
    "\n",
    "import warnings; warnings.simplefilter('ignore')\n",
    "import os, codecs, string, random\n",
    "import numpy as np\n",
    "from numpy.random import seed as random_seed\n",
    "from numpy.random import shuffle as random_shuffle\n",
    "import pandas as pd \n",
    "import statsmodels as sm \n",
    "import seaborn as sns \n",
    "import matplotlib.pyplot as plt\n",
    "from datetime import timedelta\n",
    "from datetime import datetime\n",
    "%matplotlib inline  \n",
    "\n",
    "seed = 42\n",
    "random.seed(seed)\n",
    "np.random.seed(seed)\n",
    "\n",
    "#NLP libraries\n",
    "import spacy, nltk, gensim, sklearn\n",
    "import pyLDAvis.gensim_models\n",
    "\n",
    "#Vader\n",
    "import vaderSentiment\n",
    "from vaderSentiment.vaderSentiment import SentimentIntensityAnalyzer\n",
    "\n",
    "# pd plotting option \n",
    "pd.options.plotting.backend = \"plotly\"\n",
    "pd.options.plotting.backend = 'matplotlib'\n",
    "# Plot styling and settings \n",
    "pd.set_option(\"display.max_columns\", 50)\n",
    "pd.set_option(\"display.max_rows\", 700)\n",
    "pd.set_option('display.max_colwidth', None)\n",
    "sns.set_theme()\n"
   ]
  },
  {
   "cell_type": "markdown",
   "metadata": {},
   "source": [
    "---\n",
    "### HELPER"
   ]
  },
  {
   "cell_type": "code",
   "execution_count": 47,
   "metadata": {},
   "outputs": [],
   "source": [
    "def plot_timeseries(df): \n",
    "    df['Date'] = pd.to_datetime(df['Date'])\n",
    "\n",
    "    # Extract the year and month from the Date column\n",
    "    df['YearMonth'] = df['Date'].dt.to_period('M')\n",
    "\n",
    "    # Group by YearMonth and count the number of articles\n",
    "    monthly_counts = df.groupby('YearMonth').size().reset_index(name='Count')\n",
    "    monthly_counts['YearMonth'] = monthly_counts['YearMonth'].dt.to_timestamp()# Create a bar plot using pandas with the plotly backend\n",
    "    fig = monthly_counts.plot(kind='bar', x='YearMonth', y='Count', title='Monthly Count of Sentiment-Labeled News Articles', backend='plotly')\n",
    "\n",
    "    # Customize the layout for better readability\n",
    "    fig.update_layout(\n",
    "        xaxis_title='Month',\n",
    "        yaxis_title='Number of Articles',\n",
    "        xaxis_tickformat='%Y-%m',\n",
    "        xaxis_tickangle=-45\n",
    "    )\n",
    "\n",
    "    # Show the plot\n",
    "    fig.show()\n",
    "\n",
    "\n",
    "def plot_timeseries_sb(df, title='Monthly count of articles', x_title='Date', y_title='Count of articles', log=False):\n",
    "    # Convert the Date column to datetime\n",
    "    df['Date'] = pd.to_datetime(df['Date'])\n",
    "\n",
    "    # Extract the year and month from the Date column\n",
    "    df['YearMonth'] = df['Date'].dt.to_period('M')\n",
    "\n",
    "    # Group by YearMonth and count the number of articles\n",
    "    monthly_counts = df.groupby('YearMonth').size().reset_index(name='Count')\n",
    "    monthly_counts['YearMonth'] = monthly_counts['YearMonth'].dt.strftime('%Y-%m')\n",
    "\n",
    "    # Set the figure size\n",
    "    plt.figure(figsize=(12, 6))\n",
    "\n",
    "    # Create a bar plot using seaborn\n",
    "    sns.barplot(x='YearMonth', y='Count', data=monthly_counts, color='royalblue')\n",
    "\n",
    "    if log:\n",
    "        plt.yscale('log')\n",
    "\n",
    "    # Customize the layout for better readability\n",
    "    plt.title(title)\n",
    "    plt.xlabel(x_title)\n",
    "    plt.ylabel(y_title)\n",
    "    plt.xticks(rotation=45)\n",
    "\n",
    "    # Adjust the visibility of x-axis labels for better readability\n",
    "    for ind, label in enumerate(plt.gca().get_xticklabels()):\n",
    "        if ind % 10 == 0:  # keep every 10th label\n",
    "            label.set_visible(True)\n",
    "        else:\n",
    "            label.set_visible(False)\n",
    "\n",
    "    plt.tight_layout()\n",
    "\n",
    "    # Show the plot\n",
    "    plt.show()\n",
    "\n",
    "\n",
    "def count_words(text):\n",
    "    if pd.isna(text):\n",
    "        return 0\n",
    "    return len(text.split())\n",
    "\n",
    "\n",
    "def filter_by_summary_length(df, min_word_count=100, summary_col='Lsa_summary'):\n",
    "  \"\"\"Filters a DataFrame to keep entries where a specified column has word count exceeding a limit.\n",
    "\n",
    "  Args:\n",
    "      df: The DataFrame to filter.\n",
    "      min_word_count: The minimum word count threshold (default: 100).\n",
    "      summary_col: The column name containing the text to analyze (default: 'Lsa_summary').\n",
    "\n",
    "  Returns:\n",
    "      A new DataFrame containing entries where the specified column meets the word count criteria.\n",
    "  \"\"\"\n",
    "\n",
    "  # Define word count function (assuming 'count_words' is defined elsewhere)\n",
    "  df['word_count'] = df[summary_col].apply(count_words)\n",
    "\n",
    "  # Filter based on word count\n",
    "  filtered_df = df[df['word_count'] < min_word_count]\n",
    "\n",
    "  # Optionally, drop the temporary 'word_count' column\n",
    "  filtered_df = filtered_df.drop('word_count', axis=1)\n",
    "\n",
    "  return filtered_df\n",
    "\n",
    "def plot_sentiment(df): \n",
    "\n",
    "    # Group by sentiment and count the number of articles\n",
    "    monthly_counts = df.groupby('Sentiment_gpt').size().reset_index(name='Count')\n",
    "    fig = monthly_counts.plot(kind='bar', x='Sentiment_gpt', y='Count', title='Count of Sentiment-Labeled News Articles', backend='plotly')\n",
    "\n",
    "    # Customize the layout for better readability\n",
    "    fig.update_layout(\n",
    "        xaxis_title='Sentiment score 1 to 5',\n",
    "        yaxis_title='Number of Articles',\n",
    "    )\n",
    "\n",
    "    # Show the plot\n",
    "    fig.show()\n",
    "\n",
    "def plot_sentiment_evolution(df): \n",
    "    \n",
    "    # Extract the year and month from the Date column\n",
    "    df['YearMonth'] = df['Date'].dt.to_period('M')\n",
    "\n",
    "    # Group by YearMonth and sum the  sentiment score per months\n",
    "    monthly_counts =  df.groupby('YearMonth')['Sentiment_gpt'].sum().reset_index()\n",
    "    monthly_counts['YearMonth'] = monthly_counts['YearMonth'].dt.to_timestamp()# Create a bar plot using pandas with the plotly backend\n",
    "    fig = monthly_counts.plot(kind='bar', x='YearMonth', y='Sentiment_gpt', title='Monthly Count of Sentiment-Labeled News Articles', backend='plotly')\n",
    "\n",
    "    # Customize the layout for better readability\n",
    "    fig.update_layout(\n",
    "        xaxis_title='Month',\n",
    "        yaxis_title='Number of Articles',\n",
    "        xaxis_tickformat='%Y-%m',\n",
    "        xaxis_tickangle=-45\n",
    "    )\n",
    "\n",
    "    # Show the plot\n",
    "    fig.show()\n",
    "\n",
    "def contains_lexicon_terms(text, lexicon):\n",
    "    if pd.isna(text):\n",
    "        return False\n",
    "    text_lower = text.lower()\n",
    "    return any(term.lower() in text_lower for term in lexicon)\n",
    "\n",
    "def filter_by_month(df, max_entries=500):\n",
    "  \"\"\"Filters a DataFrame to keep at most max_entries per month, randomly selecting if needed.\n",
    "\n",
    "  Args:\n",
    "      df: The DataFrame to filter.\n",
    "      max_entries: The maximum number of entries to keep per month (default: 500).\n",
    "\n",
    "  Returns:\n",
    "      A new DataFrame containing at most max_entries entries per month.\n",
    "  \"\"\"\n",
    "  df['YearMonth'] = df['Date'].dt.to_period('M')\n",
    "\n",
    "  # Filter and potentially sample within each month\n",
    "  filtered_df = (df.groupby('YearMonth')\n",
    "                 .apply(lambda x: x.sample(min(max_entries, len(x))))\n",
    "                 .reset_index(drop=True))\n",
    "\n",
    "  return filtered_df\n"
   ]
  },
  {
   "cell_type": "markdown",
   "metadata": {},
   "source": [
    "---"
   ]
  },
  {
   "cell_type": "markdown",
   "metadata": {},
   "source": [
    "### 1. Exploration of the FNSPIDataset (Financial News and Stock Price Integration Dataset)"
   ]
  },
  {
   "cell_type": "markdown",
   "metadata": {},
   "source": [
    "#### 1.1 Overview of the sample datasets\n",
    "\n",
    "> Note that the dataset we are interesting in are the summary news and the gpt sentiment score\n",
    "- First lets explore the sample dataset that has been labelised, and check inflation related news "
   ]
  },
  {
   "cell_type": "code",
   "execution_count": 4,
   "metadata": {},
   "outputs": [
    {
     "name": "stdout",
     "output_type": "stream",
     "text": [
      "Number of summarize news: 1502\n",
      "\n",
      "Oldest Date: 2016-03-22 04:39:00+00:00\n",
      "Newest Date: 2024-01-17 03:52:00+00:00\n"
     ]
    }
   ],
   "source": [
    "# 1. news_data_preprocessed/aa.csv -> date x url x Text summary x Mark\n",
    "path_1 = 'data/FNSPID_Financial_News_Dataset/data_processor/news_data_summarized/aa.csv'\n",
    "\n",
    "summarized_news = pd.read_csv(path_1)\n",
    "\n",
    "print(f\"Number of summarize news: {len(summarized_news)}\")\n",
    "\n",
    "oldest_date = summarized_news['Date'].min()\n",
    "newest_date = summarized_news['Date'].max()\n",
    "\n",
    "# Display the range of dates\n",
    "print()\n",
    "print(\"Oldest Date:\", oldest_date)\n",
    "print(\"Newest Date:\", newest_date)"
   ]
  },
  {
   "cell_type": "code",
   "execution_count": 5,
   "metadata": {},
   "outputs": [
    {
     "data": {
      "text/html": [
       "<div>\n",
       "<style scoped>\n",
       "    .dataframe tbody tr th:only-of-type {\n",
       "        vertical-align: middle;\n",
       "    }\n",
       "\n",
       "    .dataframe tbody tr th {\n",
       "        vertical-align: top;\n",
       "    }\n",
       "\n",
       "    .dataframe thead th {\n",
       "        text-align: right;\n",
       "    }\n",
       "</style>\n",
       "<table border=\"1\" class=\"dataframe\">\n",
       "  <thead>\n",
       "    <tr style=\"text-align: right;\">\n",
       "      <th></th>\n",
       "      <th>Date</th>\n",
       "      <th>Url</th>\n",
       "      <th>Mark</th>\n",
       "      <th>New_text</th>\n",
       "    </tr>\n",
       "  </thead>\n",
       "  <tbody>\n",
       "    <tr>\n",
       "      <th>0</th>\n",
       "      <td>2024-01-17 03:52:00+00:00</td>\n",
       "      <td>https://www.nasdaq.com/articles/sp-futures-slip-ahead-of-key-u.s.-retail-sales-data-chinese-data-disappoints</td>\n",
       "      <td>1</td>\n",
       "      <td>On the earnings front, notable companies like Prologis (PLD), Charles Schwab (SCHW), U.S. Bancorp (USB), Kinder Morgan (KMI), and Alcoa (AA) are set to report their quarterly figures today. You can see more pre-market stock movers here Today’s U.S. Earnings Spotlight: Wednesday - January 17th Prologis (PLD), Charles Schwab (SCHW), U.S. Bancorp (USB), Kinder Morgan (KMI), Discover (DFS), Citizens Financial Group Inc (CFG), Wintrust (WTFC), Synovus (SNV), Alcoa (AA), H B Fuller (FUL). Also, Dutch central bank chief Klaas Knot mentioned that markets are premature in pricing monetary easing.</td>\n",
       "    </tr>\n",
       "    <tr>\n",
       "      <th>1</th>\n",
       "      <td>2024-01-17 03:06:00+00:00</td>\n",
       "      <td>https://www.nasdaq.com/articles/how-the-pieces-add-up%3A-ivov-headed-for-%2492</td>\n",
       "      <td>1</td>\n",
       "      <td>Vanguard S&amp;P Mid-Cap 400 Value ETF IVOV $84.24 $92.34 9.61% Black Hills Corporation BKH $51.58 $59.83 16.00% Alcoa Corporation AA $27.87 $32.05 15.00% Southwest Gas Holdings, Inc. SWX $60.80 $69.67 14.58% Are analysts justified in these targets, or overly optimistic about where these stocks will be trading 12 months from now? Three of IVOV's underlying holdings with notable upside to their analyst target prices are Black Hills Corporation (Symbol: BKH), Alcoa Corporation (Symbol: AA), and Southwest Gas Holdings, Inc. (Symbol: SWX). Similarly, AA has 15.00% upside from the recent share price of $27.87 if the average analyst target price of $32.05/share is reached, and analysts on average are expecting SWX to reach a target price of $69.67/share, which is 14.58% above the recent price of $60.80.</td>\n",
       "    </tr>\n",
       "  </tbody>\n",
       "</table>\n",
       "</div>"
      ],
      "text/plain": [
       "                        Date  \\\n",
       "0  2024-01-17 03:52:00+00:00   \n",
       "1  2024-01-17 03:06:00+00:00   \n",
       "\n",
       "                                                                                                            Url  \\\n",
       "0  https://www.nasdaq.com/articles/sp-futures-slip-ahead-of-key-u.s.-retail-sales-data-chinese-data-disappoints   \n",
       "1                                https://www.nasdaq.com/articles/how-the-pieces-add-up%3A-ivov-headed-for-%2492   \n",
       "\n",
       "   Mark  \\\n",
       "0     1   \n",
       "1     1   \n",
       "\n",
       "                                                                                                                                                                                                                                                                                                                                                                                                                                                                                                                                                                                                                                                                                                                                                                                                                               New_text  \n",
       "0                                                                                                                                                                                                                    On the earnings front, notable companies like Prologis (PLD), Charles Schwab (SCHW), U.S. Bancorp (USB), Kinder Morgan (KMI), and Alcoa (AA) are set to report their quarterly figures today. You can see more pre-market stock movers here Today’s U.S. Earnings Spotlight: Wednesday - January 17th Prologis (PLD), Charles Schwab (SCHW), U.S. Bancorp (USB), Kinder Morgan (KMI), Discover (DFS), Citizens Financial Group Inc (CFG), Wintrust (WTFC), Synovus (SNV), Alcoa (AA), H B Fuller (FUL). Also, Dutch central bank chief Klaas Knot mentioned that markets are premature in pricing monetary easing.  \n",
       "1  Vanguard S&P Mid-Cap 400 Value ETF IVOV $84.24 $92.34 9.61% Black Hills Corporation BKH $51.58 $59.83 16.00% Alcoa Corporation AA $27.87 $32.05 15.00% Southwest Gas Holdings, Inc. SWX $60.80 $69.67 14.58% Are analysts justified in these targets, or overly optimistic about where these stocks will be trading 12 months from now? Three of IVOV's underlying holdings with notable upside to their analyst target prices are Black Hills Corporation (Symbol: BKH), Alcoa Corporation (Symbol: AA), and Southwest Gas Holdings, Inc. (Symbol: SWX). Similarly, AA has 15.00% upside from the recent share price of $27.87 if the average analyst target price of $32.05/share is reached, and analysts on average are expecting SWX to reach a target price of $69.67/share, which is 14.58% above the recent price of $60.80.  "
      ]
     },
     "execution_count": 5,
     "metadata": {},
     "output_type": "execute_result"
    }
   ],
   "source": [
    "summarized_news.head(2)"
   ]
  },
  {
   "cell_type": "code",
   "execution_count": 6,
   "metadata": {},
   "outputs": [
    {
     "name": "stdout",
     "output_type": "stream",
     "text": [
      "Number of sentiment label news: 1502\n",
      "\n",
      "Oldest Date: 2016-03-22 04:39:00+00:00\n",
      "Newest Date: 2024-01-17 03:52:00+00:00\n"
     ]
    }
   ],
   "source": [
    "# 2. news_data_sentiment_scored_by_gpt/aa.csv -> date x url x Text summary x sentiment\n",
    "path_2 = 'data/FNSPID_Financial_News_Dataset/data_processor/news_data_sentiment_scored_by_gpt/aa.csv'\n",
    "\n",
    "sentiment_news = pd.read_csv(path_2)\n",
    "print(f\"Number of sentiment label news: {len(sentiment_news)}\")\n",
    "\n",
    "oldest_date = sentiment_news['Date'].min()\n",
    "newest_date = sentiment_news['Date'].max()\n",
    "\n",
    "# Display the range of dates\n",
    "print()\n",
    "print(\"Oldest Date:\", oldest_date)\n",
    "print(\"Newest Date:\", newest_date)"
   ]
  },
  {
   "cell_type": "code",
   "execution_count": 7,
   "metadata": {},
   "outputs": [
    {
     "data": {
      "text/html": [
       "<div>\n",
       "<style scoped>\n",
       "    .dataframe tbody tr th:only-of-type {\n",
       "        vertical-align: middle;\n",
       "    }\n",
       "\n",
       "    .dataframe tbody tr th {\n",
       "        vertical-align: top;\n",
       "    }\n",
       "\n",
       "    .dataframe thead th {\n",
       "        text-align: right;\n",
       "    }\n",
       "</style>\n",
       "<table border=\"1\" class=\"dataframe\">\n",
       "  <thead>\n",
       "    <tr style=\"text-align: right;\">\n",
       "      <th></th>\n",
       "      <th>Date</th>\n",
       "      <th>Url</th>\n",
       "      <th>Sentiment_gpt</th>\n",
       "    </tr>\n",
       "  </thead>\n",
       "  <tbody>\n",
       "    <tr>\n",
       "      <th>0</th>\n",
       "      <td>2022-03-29 12:36:00+00:00</td>\n",
       "      <td>https://www.nasdaq.com/articles/alcoa-corporation-moves-up-in-market-cap-rank-passing-factset-research-systems</td>\n",
       "      <td>5.0</td>\n",
       "    </tr>\n",
       "    <tr>\n",
       "      <th>1</th>\n",
       "      <td>2018-10-03 07:13:00+00:00</td>\n",
       "      <td>https://www.nasdaq.com/articles/why-century-aluminum-co-stock-plunging-today-2018-10-03</td>\n",
       "      <td>5.0</td>\n",
       "    </tr>\n",
       "    <tr>\n",
       "      <th>2</th>\n",
       "      <td>2016-07-11 06:10:00+00:00</td>\n",
       "      <td>https://www.nasdaq.com/articles/stock-market-news-for-july-11-2016-2016-07-11</td>\n",
       "      <td>5.0</td>\n",
       "    </tr>\n",
       "    <tr>\n",
       "      <th>3</th>\n",
       "      <td>2022-03-21 09:48:00+00:00</td>\n",
       "      <td>https://www.nasdaq.com/articles/why-alcoa-stock-soared-10-on-monday</td>\n",
       "      <td>5.0</td>\n",
       "    </tr>\n",
       "    <tr>\n",
       "      <th>4</th>\n",
       "      <td>2017-03-02 03:49:00+00:00</td>\n",
       "      <td>https://www.nasdaq.com/articles/why-alcoa-aa-could-be-potential-winner-2017-03-02</td>\n",
       "      <td>5.0</td>\n",
       "    </tr>\n",
       "  </tbody>\n",
       "</table>\n",
       "</div>"
      ],
      "text/plain": [
       "                        Date  \\\n",
       "0  2022-03-29 12:36:00+00:00   \n",
       "1  2018-10-03 07:13:00+00:00   \n",
       "2  2016-07-11 06:10:00+00:00   \n",
       "3  2022-03-21 09:48:00+00:00   \n",
       "4  2017-03-02 03:49:00+00:00   \n",
       "\n",
       "                                                                                                              Url  \\\n",
       "0  https://www.nasdaq.com/articles/alcoa-corporation-moves-up-in-market-cap-rank-passing-factset-research-systems   \n",
       "1                         https://www.nasdaq.com/articles/why-century-aluminum-co-stock-plunging-today-2018-10-03   \n",
       "2                                   https://www.nasdaq.com/articles/stock-market-news-for-july-11-2016-2016-07-11   \n",
       "3                                             https://www.nasdaq.com/articles/why-alcoa-stock-soared-10-on-monday   \n",
       "4                               https://www.nasdaq.com/articles/why-alcoa-aa-could-be-potential-winner-2017-03-02   \n",
       "\n",
       "   Sentiment_gpt  \n",
       "0            5.0  \n",
       "1            5.0  \n",
       "2            5.0  \n",
       "3            5.0  \n",
       "4            5.0  "
      ]
     },
     "execution_count": 7,
     "metadata": {},
     "output_type": "execute_result"
    }
   ],
   "source": [
    "sentiment_news.head()"
   ]
  },
  {
   "cell_type": "code",
   "execution_count": 8,
   "metadata": {},
   "outputs": [],
   "source": [
    "# Convert\n",
    "summarized_news['Date'] = pd.to_datetime(summarized_news['Date'])\n",
    "sentiment_news['Date'] = pd.to_datetime(sentiment_news['Date'])\n"
   ]
  },
  {
   "cell_type": "code",
   "execution_count": 9,
   "metadata": {},
   "outputs": [
    {
     "name": "stdout",
     "output_type": "stream",
     "text": [
      "Number of entries in the merged dataset: 1502\n"
     ]
    },
    {
     "data": {
      "text/html": [
       "<div>\n",
       "<style scoped>\n",
       "    .dataframe tbody tr th:only-of-type {\n",
       "        vertical-align: middle;\n",
       "    }\n",
       "\n",
       "    .dataframe tbody tr th {\n",
       "        vertical-align: top;\n",
       "    }\n",
       "\n",
       "    .dataframe thead th {\n",
       "        text-align: right;\n",
       "    }\n",
       "</style>\n",
       "<table border=\"1\" class=\"dataframe\">\n",
       "  <thead>\n",
       "    <tr style=\"text-align: right;\">\n",
       "      <th></th>\n",
       "      <th>Date</th>\n",
       "      <th>Url</th>\n",
       "      <th>Mark</th>\n",
       "      <th>New_text</th>\n",
       "      <th>Sentiment_gpt</th>\n",
       "    </tr>\n",
       "  </thead>\n",
       "  <tbody>\n",
       "    <tr>\n",
       "      <th>0</th>\n",
       "      <td>2024-01-17 03:52:00+00:00</td>\n",
       "      <td>https://www.nasdaq.com/articles/sp-futures-slip-ahead-of-key-u.s.-retail-sales-data-chinese-data-disappoints</td>\n",
       "      <td>1</td>\n",
       "      <td>On the earnings front, notable companies like Prologis (PLD), Charles Schwab (SCHW), U.S. Bancorp (USB), Kinder Morgan (KMI), and Alcoa (AA) are set to report their quarterly figures today. You can see more pre-market stock movers here Today’s U.S. Earnings Spotlight: Wednesday - January 17th Prologis (PLD), Charles Schwab (SCHW), U.S. Bancorp (USB), Kinder Morgan (KMI), Discover (DFS), Citizens Financial Group Inc (CFG), Wintrust (WTFC), Synovus (SNV), Alcoa (AA), H B Fuller (FUL). Also, Dutch central bank chief Klaas Knot mentioned that markets are premature in pricing monetary easing.</td>\n",
       "      <td>3.0</td>\n",
       "    </tr>\n",
       "    <tr>\n",
       "      <th>1</th>\n",
       "      <td>2024-01-17 03:06:00+00:00</td>\n",
       "      <td>https://www.nasdaq.com/articles/how-the-pieces-add-up%3A-ivov-headed-for-%2492</td>\n",
       "      <td>1</td>\n",
       "      <td>Vanguard S&amp;P Mid-Cap 400 Value ETF IVOV $84.24 $92.34 9.61% Black Hills Corporation BKH $51.58 $59.83 16.00% Alcoa Corporation AA $27.87 $32.05 15.00% Southwest Gas Holdings, Inc. SWX $60.80 $69.67 14.58% Are analysts justified in these targets, or overly optimistic about where these stocks will be trading 12 months from now? Three of IVOV's underlying holdings with notable upside to their analyst target prices are Black Hills Corporation (Symbol: BKH), Alcoa Corporation (Symbol: AA), and Southwest Gas Holdings, Inc. (Symbol: SWX). Similarly, AA has 15.00% upside from the recent share price of $27.87 if the average analyst target price of $32.05/share is reached, and analysts on average are expecting SWX to reach a target price of $69.67/share, which is 14.58% above the recent price of $60.80.</td>\n",
       "      <td>3.0</td>\n",
       "    </tr>\n",
       "    <tr>\n",
       "      <th>2</th>\n",
       "      <td>2024-01-17 02:09:00+00:00</td>\n",
       "      <td>https://www.nasdaq.com/articles/sp-futures-tick-lower-ahead-of-key-u.s.-retail-sales-data-chinese-data-disappoints</td>\n",
       "      <td>1</td>\n",
       "      <td>On the earnings front, notable companies like Prologis (PLD), Charles Schwab (SCHW), U.S. Bancorp (USB), Kinder Morgan (KMI), and Alcoa (AA) are set to report their quarterly figures today. You can see more pre-market stock movers here Today’s U.S. Earnings Spotlight: Wednesday - January 17th Prologis (PLD), Charles Schwab (SCHW), U.S. Bancorp (USB), Kinder Morgan (KMI), Discover (DFS), Citizens Financial Group Inc (CFG), Wintrust (WTFC), Synovus (SNV), Alcoa (AA), H B Fuller (FUL). Also, Dutch central bank chief Klaas Knot mentioned that markets are premature in pricing monetary easing.</td>\n",
       "      <td>3.0</td>\n",
       "    </tr>\n",
       "    <tr>\n",
       "      <th>3</th>\n",
       "      <td>2024-01-17 01:00:00+00:00</td>\n",
       "      <td>https://www.nasdaq.com/articles/alcoa-q4-23-earnings-conference-call-at-5%3A00-pm-et</td>\n",
       "      <td>1</td>\n",
       "      <td>(RTTNews) - Alcoa Corp. (AA) will host a conference call at 5:00 PM ET on Jan. 17, 2024, to discuss Q4 23 earnings results. To access the live webcast, log on to https://investors.alcoa.com/events-and-presentations/events-calendar/default.aspx To listen to the call, dial +1 (877) 883-0383 (US) or +1 (412) 902-6506 (International), Conference ID: 5763033 . For a replay call, dial +1 (877) 344-7529 (US) or +1 (412) 317-0088 (International), Access Code: 1842052 .</td>\n",
       "      <td>3.0</td>\n",
       "    </tr>\n",
       "    <tr>\n",
       "      <th>4</th>\n",
       "      <td>2024-01-16 12:51:00+00:00</td>\n",
       "      <td>https://www.nasdaq.com/articles/chipmakers-lead-markets-slip-overall</td>\n",
       "      <td>1</td>\n",
       "      <td>As far as quarterly earnings reports, Chas Schwab SCHW, Prologis PLD and former earnings-season kicker-offer Alcoa AA will bring fresh results for Q4 tomorrow. Click to get this free report Advanced Micro Devices, Inc. (AMD) : Free Stock Analysis Report Prologis, Inc. (PLD) : Free Stock Analysis Report Alcoa (AA) : Free Stock Analysis Report The Charles Schwab Corporation (SCHW) : Free Stock Analysis Report Interactive Brokers Group, Inc. (IBKR) : Free Stock Analysis Report NVIDIA Corporation (NVDA) : Free Stock Analysis Report Synopsys, Inc. (SNPS) : Free Stock Analysis Report ANSYS, Inc. (ANSS) : Free Stock Analysis Report To read this article on Zacks.com click here. There is no guidance in the release, though shares are dropping -3% in late trading on the news, giving back a sizable portion of the +7.5% gains the company has made over the past month.</td>\n",
       "      <td>2.0</td>\n",
       "    </tr>\n",
       "  </tbody>\n",
       "</table>\n",
       "</div>"
      ],
      "text/plain": [
       "                       Date  \\\n",
       "0 2024-01-17 03:52:00+00:00   \n",
       "1 2024-01-17 03:06:00+00:00   \n",
       "2 2024-01-17 02:09:00+00:00   \n",
       "3 2024-01-17 01:00:00+00:00   \n",
       "4 2024-01-16 12:51:00+00:00   \n",
       "\n",
       "                                                                                                                  Url  \\\n",
       "0        https://www.nasdaq.com/articles/sp-futures-slip-ahead-of-key-u.s.-retail-sales-data-chinese-data-disappoints   \n",
       "1                                      https://www.nasdaq.com/articles/how-the-pieces-add-up%3A-ivov-headed-for-%2492   \n",
       "2  https://www.nasdaq.com/articles/sp-futures-tick-lower-ahead-of-key-u.s.-retail-sales-data-chinese-data-disappoints   \n",
       "3                                https://www.nasdaq.com/articles/alcoa-q4-23-earnings-conference-call-at-5%3A00-pm-et   \n",
       "4                                                https://www.nasdaq.com/articles/chipmakers-lead-markets-slip-overall   \n",
       "\n",
       "   Mark  \\\n",
       "0     1   \n",
       "1     1   \n",
       "2     1   \n",
       "3     1   \n",
       "4     1   \n",
       "\n",
       "                                                                                                                                                                                                                                                                                                                                                                                                                                                                                                                                                                                                                                                                                                                                                                                                                                                                                             New_text  \\\n",
       "0                                                                                                                                                                                                                                                                                  On the earnings front, notable companies like Prologis (PLD), Charles Schwab (SCHW), U.S. Bancorp (USB), Kinder Morgan (KMI), and Alcoa (AA) are set to report their quarterly figures today. You can see more pre-market stock movers here Today’s U.S. Earnings Spotlight: Wednesday - January 17th Prologis (PLD), Charles Schwab (SCHW), U.S. Bancorp (USB), Kinder Morgan (KMI), Discover (DFS), Citizens Financial Group Inc (CFG), Wintrust (WTFC), Synovus (SNV), Alcoa (AA), H B Fuller (FUL). Also, Dutch central bank chief Klaas Knot mentioned that markets are premature in pricing monetary easing.   \n",
       "1                                                                Vanguard S&P Mid-Cap 400 Value ETF IVOV $84.24 $92.34 9.61% Black Hills Corporation BKH $51.58 $59.83 16.00% Alcoa Corporation AA $27.87 $32.05 15.00% Southwest Gas Holdings, Inc. SWX $60.80 $69.67 14.58% Are analysts justified in these targets, or overly optimistic about where these stocks will be trading 12 months from now? Three of IVOV's underlying holdings with notable upside to their analyst target prices are Black Hills Corporation (Symbol: BKH), Alcoa Corporation (Symbol: AA), and Southwest Gas Holdings, Inc. (Symbol: SWX). Similarly, AA has 15.00% upside from the recent share price of $27.87 if the average analyst target price of $32.05/share is reached, and analysts on average are expecting SWX to reach a target price of $69.67/share, which is 14.58% above the recent price of $60.80.   \n",
       "2                                                                                                                                                                                                                                                                                  On the earnings front, notable companies like Prologis (PLD), Charles Schwab (SCHW), U.S. Bancorp (USB), Kinder Morgan (KMI), and Alcoa (AA) are set to report their quarterly figures today. You can see more pre-market stock movers here Today’s U.S. Earnings Spotlight: Wednesday - January 17th Prologis (PLD), Charles Schwab (SCHW), U.S. Bancorp (USB), Kinder Morgan (KMI), Discover (DFS), Citizens Financial Group Inc (CFG), Wintrust (WTFC), Synovus (SNV), Alcoa (AA), H B Fuller (FUL). Also, Dutch central bank chief Klaas Knot mentioned that markets are premature in pricing monetary easing.   \n",
       "3                                                                                                                                                                                                                                                                                                                                                                                                                   (RTTNews) - Alcoa Corp. (AA) will host a conference call at 5:00 PM ET on Jan. 17, 2024, to discuss Q4 23 earnings results. To access the live webcast, log on to https://investors.alcoa.com/events-and-presentations/events-calendar/default.aspx To listen to the call, dial +1 (877) 883-0383 (US) or +1 (412) 902-6506 (International), Conference ID: 5763033 . For a replay call, dial +1 (877) 344-7529 (US) or +1 (412) 317-0088 (International), Access Code: 1842052 .   \n",
       "4  As far as quarterly earnings reports, Chas Schwab SCHW, Prologis PLD and former earnings-season kicker-offer Alcoa AA will bring fresh results for Q4 tomorrow. Click to get this free report Advanced Micro Devices, Inc. (AMD) : Free Stock Analysis Report Prologis, Inc. (PLD) : Free Stock Analysis Report Alcoa (AA) : Free Stock Analysis Report The Charles Schwab Corporation (SCHW) : Free Stock Analysis Report Interactive Brokers Group, Inc. (IBKR) : Free Stock Analysis Report NVIDIA Corporation (NVDA) : Free Stock Analysis Report Synopsys, Inc. (SNPS) : Free Stock Analysis Report ANSYS, Inc. (ANSS) : Free Stock Analysis Report To read this article on Zacks.com click here. There is no guidance in the release, though shares are dropping -3% in late trading on the news, giving back a sizable portion of the +7.5% gains the company has made over the past month.   \n",
       "\n",
       "   Sentiment_gpt  \n",
       "0            3.0  \n",
       "1            3.0  \n",
       "2            3.0  \n",
       "3            3.0  \n",
       "4            2.0  "
      ]
     },
     "execution_count": 9,
     "metadata": {},
     "output_type": "execute_result"
    }
   ],
   "source": [
    "# Merge the datasets on the Date column\n",
    "merged_news = pd.merge(summarized_news, sentiment_news[['Date', 'Url', 'Sentiment_gpt']], on=['Date', 'Url'], how='left')\n",
    "\n",
    "# Print the number of entries in the merged dataset\n",
    "print(f\"Number of entries in the merged dataset: {len(merged_news)}\")\n",
    "\n",
    "# Display a few entries of the merged dataset\n",
    "merged_news.head()"
   ]
  },
  {
   "cell_type": "code",
   "execution_count": 10,
   "metadata": {},
   "outputs": [
    {
     "data": {
      "text/html": [
       "<div>\n",
       "<style scoped>\n",
       "    .dataframe tbody tr th:only-of-type {\n",
       "        vertical-align: middle;\n",
       "    }\n",
       "\n",
       "    .dataframe tbody tr th {\n",
       "        vertical-align: top;\n",
       "    }\n",
       "\n",
       "    .dataframe thead th {\n",
       "        text-align: right;\n",
       "    }\n",
       "</style>\n",
       "<table border=\"1\" class=\"dataframe\">\n",
       "  <thead>\n",
       "    <tr style=\"text-align: right;\">\n",
       "      <th></th>\n",
       "      <th>Mark</th>\n",
       "      <th>word_count</th>\n",
       "    </tr>\n",
       "  </thead>\n",
       "  <tbody>\n",
       "    <tr>\n",
       "      <th>count</th>\n",
       "      <td>1502.0</td>\n",
       "      <td>1502.000000</td>\n",
       "    </tr>\n",
       "    <tr>\n",
       "      <th>mean</th>\n",
       "      <td>1.0</td>\n",
       "      <td>94.421438</td>\n",
       "    </tr>\n",
       "    <tr>\n",
       "      <th>std</th>\n",
       "      <td>0.0</td>\n",
       "      <td>63.429210</td>\n",
       "    </tr>\n",
       "    <tr>\n",
       "      <th>min</th>\n",
       "      <td>1.0</td>\n",
       "      <td>26.000000</td>\n",
       "    </tr>\n",
       "    <tr>\n",
       "      <th>25%</th>\n",
       "      <td>1.0</td>\n",
       "      <td>68.000000</td>\n",
       "    </tr>\n",
       "    <tr>\n",
       "      <th>50%</th>\n",
       "      <td>1.0</td>\n",
       "      <td>88.000000</td>\n",
       "    </tr>\n",
       "    <tr>\n",
       "      <th>75%</th>\n",
       "      <td>1.0</td>\n",
       "      <td>109.000000</td>\n",
       "    </tr>\n",
       "    <tr>\n",
       "      <th>max</th>\n",
       "      <td>1.0</td>\n",
       "      <td>965.000000</td>\n",
       "    </tr>\n",
       "  </tbody>\n",
       "</table>\n",
       "</div>"
      ],
      "text/plain": [
       "         Mark   word_count\n",
       "count  1502.0  1502.000000\n",
       "mean      1.0    94.421438\n",
       "std       0.0    63.429210\n",
       "min       1.0    26.000000\n",
       "25%       1.0    68.000000\n",
       "50%       1.0    88.000000\n",
       "75%       1.0   109.000000\n",
       "max       1.0   965.000000"
      ]
     },
     "metadata": {},
     "output_type": "display_data"
    }
   ],
   "source": [
    "# Apply the function to the 'New_text' column to get the word counts\n",
    "summarized_news['word_count'] = summarized_news['New_text'].apply(count_words)\n",
    "\n",
    "# Calculate the average number of words\n",
    "average_word_count = summarized_news['word_count'].describe()\n",
    "\n",
    "display(summarized_news.describe())"
   ]
  },
  {
   "cell_type": "code",
   "execution_count": 11,
   "metadata": {},
   "outputs": [
    {
     "name": "stderr",
     "output_type": "stream",
     "text": [
      "/Users/marc-antoineallard/opt/miniconda3/envs/DataScience/lib/python3.11/site-packages/seaborn/_oldcore.py:1498: DeprecationWarning: is_categorical_dtype is deprecated and will be removed in a future version. Use isinstance(dtype, pd.CategoricalDtype) instead\n",
      "  if pd.api.types.is_categorical_dtype(vector):\n",
      "/Users/marc-antoineallard/opt/miniconda3/envs/DataScience/lib/python3.11/site-packages/seaborn/_oldcore.py:1498: DeprecationWarning: is_categorical_dtype is deprecated and will be removed in a future version. Use isinstance(dtype, pd.CategoricalDtype) instead\n",
      "  if pd.api.types.is_categorical_dtype(vector):\n",
      "/Users/marc-antoineallard/opt/miniconda3/envs/DataScience/lib/python3.11/site-packages/seaborn/_oldcore.py:1498: DeprecationWarning: is_categorical_dtype is deprecated and will be removed in a future version. Use isinstance(dtype, pd.CategoricalDtype) instead\n",
      "  if pd.api.types.is_categorical_dtype(vector):\n"
     ]
    },
    {
     "data": {
      "image/png": "[encoded data removed]",
      "text/plain": [
       "<Figure size 1200x600 with 1 Axes>"
      ]
     },
     "metadata": {},
     "output_type": "display_data"
    }
   ],
   "source": [
    "plot_timeseries_sb(summarized_news)"
   ]
  },
  {
   "cell_type": "markdown",
   "metadata": {},
   "source": [
    "- From now we will focus on article that contains terms related to inflation based on the lexicon that we built"
   ]
  },
  {
   "cell_type": "code",
   "execution_count": 12,
   "metadata": {},
   "outputs": [
    {
     "name": "stdout",
     "output_type": "stream",
     "text": [
      "The number of news articles containing at least one term from the lexicon is: 575\n"
     ]
    }
   ],
   "source": [
    "# check number of these news containing terms related to inflation\n",
    "lexicon = pd.read_json('data/lexicon.json')['terms'].to_list()\n",
    "\n",
    "\n",
    "# Apply the function to filter the DataFrame\n",
    "summarized_news_filtered = summarized_news[summarized_news['New_text'].apply(lambda text: contains_lexicon_terms(text, lexicon))]\n",
    "\n",
    "# Calculate the number of filtered news articles\n",
    "number_of_filtered_news = len(summarized_news_filtered)\n",
    "\n",
    "print(f'The number of news articles containing at least one term from the lexicon is: {number_of_filtered_news}')"
   ]
  },
  {
   "cell_type": "code",
   "execution_count": 13,
   "metadata": {},
   "outputs": [
    {
     "name": "stderr",
     "output_type": "stream",
     "text": [
      "/Users/marc-antoineallard/opt/miniconda3/envs/DataScience/lib/python3.11/site-packages/seaborn/_oldcore.py:1498: DeprecationWarning: is_categorical_dtype is deprecated and will be removed in a future version. Use isinstance(dtype, pd.CategoricalDtype) instead\n",
      "  if pd.api.types.is_categorical_dtype(vector):\n",
      "/Users/marc-antoineallard/opt/miniconda3/envs/DataScience/lib/python3.11/site-packages/seaborn/_oldcore.py:1498: DeprecationWarning: is_categorical_dtype is deprecated and will be removed in a future version. Use isinstance(dtype, pd.CategoricalDtype) instead\n",
      "  if pd.api.types.is_categorical_dtype(vector):\n",
      "/Users/marc-antoineallard/opt/miniconda3/envs/DataScience/lib/python3.11/site-packages/seaborn/_oldcore.py:1498: DeprecationWarning: is_categorical_dtype is deprecated and will be removed in a future version. Use isinstance(dtype, pd.CategoricalDtype) instead\n",
      "  if pd.api.types.is_categorical_dtype(vector):\n"
     ]
    },
    {
     "data": {
      "image/png": "[encoded data removed]",
      "text/plain": [
       "<Figure size 1200x600 with 1 Axes>"
      ]
     },
     "metadata": {},
     "output_type": "display_data"
    }
   ],
   "source": [
    "plot_timeseries_sb(summarized_news_filtered)"
   ]
  },
  {
   "cell_type": "markdown",
   "metadata": {},
   "source": [
    "- Sentiment Distribution: 1 is negative, 2 is somewhat nega- tive, 3 is neutral, 4 is somewhat positive, 5 is positive"
   ]
  },
  {
   "cell_type": "code",
   "execution_count": 14,
   "metadata": {},
   "outputs": [
    {
     "data": {
      "text/html": [
       "<div>\n",
       "<style scoped>\n",
       "    .dataframe tbody tr th:only-of-type {\n",
       "        vertical-align: middle;\n",
       "    }\n",
       "\n",
       "    .dataframe tbody tr th {\n",
       "        vertical-align: top;\n",
       "    }\n",
       "\n",
       "    .dataframe thead th {\n",
       "        text-align: right;\n",
       "    }\n",
       "</style>\n",
       "<table border=\"1\" class=\"dataframe\">\n",
       "  <thead>\n",
       "    <tr style=\"text-align: right;\">\n",
       "      <th></th>\n",
       "      <th>Mark</th>\n",
       "      <th>Sentiment_gpt</th>\n",
       "    </tr>\n",
       "  </thead>\n",
       "  <tbody>\n",
       "    <tr>\n",
       "      <th>count</th>\n",
       "      <td>1502.0</td>\n",
       "      <td>1502.000000</td>\n",
       "    </tr>\n",
       "    <tr>\n",
       "      <th>mean</th>\n",
       "      <td>1.0</td>\n",
       "      <td>3.035952</td>\n",
       "    </tr>\n",
       "    <tr>\n",
       "      <th>std</th>\n",
       "      <td>0.0</td>\n",
       "      <td>0.934945</td>\n",
       "    </tr>\n",
       "    <tr>\n",
       "      <th>min</th>\n",
       "      <td>1.0</td>\n",
       "      <td>1.000000</td>\n",
       "    </tr>\n",
       "    <tr>\n",
       "      <th>25%</th>\n",
       "      <td>1.0</td>\n",
       "      <td>3.000000</td>\n",
       "    </tr>\n",
       "    <tr>\n",
       "      <th>50%</th>\n",
       "      <td>1.0</td>\n",
       "      <td>3.000000</td>\n",
       "    </tr>\n",
       "    <tr>\n",
       "      <th>75%</th>\n",
       "      <td>1.0</td>\n",
       "      <td>3.000000</td>\n",
       "    </tr>\n",
       "    <tr>\n",
       "      <th>max</th>\n",
       "      <td>1.0</td>\n",
       "      <td>5.000000</td>\n",
       "    </tr>\n",
       "  </tbody>\n",
       "</table>\n",
       "</div>"
      ],
      "text/plain": [
       "         Mark  Sentiment_gpt\n",
       "count  1502.0    1502.000000\n",
       "mean      1.0       3.035952\n",
       "std       0.0       0.934945\n",
       "min       1.0       1.000000\n",
       "25%       1.0       3.000000\n",
       "50%       1.0       3.000000\n",
       "75%       1.0       3.000000\n",
       "max       1.0       5.000000"
      ]
     },
     "execution_count": 14,
     "metadata": {},
     "output_type": "execute_result"
    }
   ],
   "source": [
    "merged_news.describe()"
   ]
  },
  {
   "cell_type": "code",
   "execution_count": 15,
   "metadata": {},
   "outputs": [],
   "source": [
    "# Assuming your DataFrame is called 'df'\n",
    "mapping = {1: -1, 2: 0, 3: 0, 4: 0, 5: 1}\n",
    "\n",
    "# Create a new column with the mapped values\n",
    "merged_news['Sentiment_gpt'] = merged_news['Sentiment_gpt'].map(mapping)"
   ]
  },
  {
   "cell_type": "code",
   "execution_count": 16,
   "metadata": {},
   "outputs": [
    {
     "data": {
      "application/vnd.plotly.v1+json": {
       "config": {
        "plotlyServerURL": "https://plot.ly"
       },
       "data": [
        {
         "alignmentgroup": "True",
         "hovertemplate": "Sentiment_gpt=%{x}<br>Count=%{y}<extra></extra>",
         "legendgroup": "",
         "marker": {
          "color": "#636efa",
          "pattern": {
           "shape": ""
          }
         },
         "name": "",
         "offsetgroup": "",
         "orientation": "v",
         "showlegend": false,
         "textposition": "auto",
         "type": "bar",
         "x": [
          -1,
          0,
          1
         ],
         "xaxis": "x",
         "y": [
          58,
          1305,
          139
         ],
         "yaxis": "y"
        }
       ],
       "layout": {
        "barmode": "relative",
        "legend": {
         "tracegroupgap": 0
        },
        "template": {
         "data": {
          "bar": [
           {
            "error_x": {
             "color": "#2a3f5f"
            },
            "error_y": {
             "color": "#2a3f5f"
            },
            "marker": {
             "line": {
              "color": "#E5ECF6",
              "width": 0.5
             },
             "pattern": {
              "fillmode": "overlay",
              "size": 10,
              "solidity": 0.2
             }
            },
            "type": "bar"
           }
          ],
          "barpolar": [
           {
            "marker": {
             "line": {
              "color": "#E5ECF6",
              "width": 0.5
             },
             "pattern": {
              "fillmode": "overlay",
              "size": 10,
              "solidity": 0.2
             }
            },
            "type": "barpolar"
           }
          ],
          "carpet": [
           {
            "aaxis": {
             "endlinecolor": "#2a3f5f",
             "gridcolor": "white",
             "linecolor": "white",
             "minorgridcolor": "white",
             "startlinecolor": "#2a3f5f"
            },
            "baxis": {
             "endlinecolor": "#2a3f5f",
             "gridcolor": "white",
             "linecolor": "white",
             "minorgridcolor": "white",
             "startlinecolor": "#2a3f5f"
            },
            "type": "carpet"
           }
          ],
          "choropleth": [
           {
            "colorbar": {
             "outlinewidth": 0,
             "ticks": ""
            },
            "type": "choropleth"
           }
          ],
          "contour": [
           {
            "colorbar": {
             "outlinewidth": 0,
             "ticks": ""
            },
            "colorscale": [
             [
              0,
              "#0d0887"
             ],
             [
              0.1111111111111111,
              "#46039f"
             ],
             [
              0.2222222222222222,
              "#7201a8"
             ],
             [
              0.3333333333333333,
              "#9c179e"
             ],
             [
              0.4444444444444444,
              "#bd3786"
             ],
             [
              0.5555555555555556,
              "#d8576b"
             ],
             [
              0.6666666666666666,
              "#ed7953"
             ],
             [
              0.7777777777777778,
              "#fb9f3a"
             ],
             [
              0.8888888888888888,
              "#fdca26"
             ],
             [
              1,
              "#f0f921"
             ]
            ],
            "type": "contour"
           }
          ],
          "contourcarpet": [
           {
            "colorbar": {
             "outlinewidth": 0,
             "ticks": ""
            },
            "type": "contourcarpet"
           }
          ],
          "heatmap": [
           {
            "colorbar": {
             "outlinewidth": 0,
             "ticks": ""
            },
            "colorscale": [
             [
              0,
              "#0d0887"
             ],
             [
              0.1111111111111111,
              "#46039f"
             ],
             [
              0.2222222222222222,
              "#7201a8"
             ],
             [
              0.3333333333333333,
              "#9c179e"
             ],
             [
              0.4444444444444444,
              "#bd3786"
             ],
             [
              0.5555555555555556,
              "#d8576b"
             ],
             [
              0.6666666666666666,
              "#ed7953"
             ],
             [
              0.7777777777777778,
              "#fb9f3a"
             ],
             [
              0.8888888888888888,
              "#fdca26"
             ],
             [
              1,
              "#f0f921"
             ]
            ],
            "type": "heatmap"
           }
          ],
          "heatmapgl": [
           {
            "colorbar": {
             "outlinewidth": 0,
             "ticks": ""
            },
            "colorscale": [
             [
              0,
              "#0d0887"
             ],
             [
              0.1111111111111111,
              "#46039f"
             ],
             [
              0.2222222222222222,
              "#7201a8"
             ],
             [
              0.3333333333333333,
              "#9c179e"
             ],
             [
              0.4444444444444444,
              "#bd3786"
             ],
             [
              0.5555555555555556,
              "#d8576b"
             ],
             [
              0.6666666666666666,
              "#ed7953"
             ],
             [
              0.7777777777777778,
              "#fb9f3a"
             ],
             [
              0.8888888888888888,
              "#fdca26"
             ],
             [
              1,
              "#f0f921"
             ]
            ],
            "type": "heatmapgl"
           }
          ],
          "histogram": [
           {
            "marker": {
             "pattern": {
              "fillmode": "overlay",
              "size": 10,
              "solidity": 0.2
             }
            },
            "type": "histogram"
           }
          ],
          "histogram2d": [
           {
            "colorbar": {
             "outlinewidth": 0,
             "ticks": ""
            },
            "colorscale": [
             [
              0,
              "#0d0887"
             ],
             [
              0.1111111111111111,
              "#46039f"
             ],
             [
              0.2222222222222222,
              "#7201a8"
             ],
             [
              0.3333333333333333,
              "#9c179e"
             ],
             [
              0.4444444444444444,
              "#bd3786"
             ],
             [
              0.5555555555555556,
              "#d8576b"
             ],
             [
              0.6666666666666666,
              "#ed7953"
             ],
             [
              0.7777777777777778,
              "#fb9f3a"
             ],
             [
              0.8888888888888888,
              "#fdca26"
             ],
             [
              1,
              "#f0f921"
             ]
            ],
            "type": "histogram2d"
           }
          ],
          "histogram2dcontour": [
           {
            "colorbar": {
             "outlinewidth": 0,
             "ticks": ""
            },
            "colorscale": [
             [
              0,
              "#0d0887"
             ],
             [
              0.1111111111111111,
              "#46039f"
             ],
             [
              0.2222222222222222,
              "#7201a8"
             ],
             [
              0.3333333333333333,
              "#9c179e"
             ],
             [
              0.4444444444444444,
              "#bd3786"
             ],
             [
              0.5555555555555556,
              "#d8576b"
             ],
             [
              0.6666666666666666,
              "#ed7953"
             ],
             [
              0.7777777777777778,
              "#fb9f3a"
             ],
             [
              0.8888888888888888,
              "#fdca26"
             ],
             [
              1,
              "#f0f921"
             ]
            ],
            "type": "histogram2dcontour"
           }
          ],
          "mesh3d": [
           {
            "colorbar": {
             "outlinewidth": 0,
             "ticks": ""
            },
            "type": "mesh3d"
           }
          ],
          "parcoords": [
           {
            "line": {
             "colorbar": {
              "outlinewidth": 0,
              "ticks": ""
             }
            },
            "type": "parcoords"
           }
          ],
          "pie": [
           {
            "automargin": true,
            "type": "pie"
           }
          ],
          "scatter": [
           {
            "fillpattern": {
             "fillmode": "overlay",
             "size": 10,
             "solidity": 0.2
            },
            "type": "scatter"
           }
          ],
          "scatter3d": [
           {
            "line": {
             "colorbar": {
              "outlinewidth": 0,
              "ticks": ""
             }
            },
            "marker": {
             "colorbar": {
              "outlinewidth": 0,
              "ticks": ""
             }
            },
            "type": "scatter3d"
           }
          ],
          "scattercarpet": [
           {
            "marker": {
             "colorbar": {
              "outlinewidth": 0,
              "ticks": ""
             }
            },
            "type": "scattercarpet"
           }
          ],
          "scattergeo": [
           {
            "marker": {
             "colorbar": {
              "outlinewidth": 0,
              "ticks": ""
             }
            },
            "type": "scattergeo"
           }
          ],
          "scattergl": [
           {
            "marker": {
             "colorbar": {
              "outlinewidth": 0,
              "ticks": ""
             }
            },
            "type": "scattergl"
           }
          ],
          "scattermapbox": [
           {
            "marker": {
             "colorbar": {
              "outlinewidth": 0,
              "ticks": ""
             }
            },
            "type": "scattermapbox"
           }
          ],
          "scatterpolar": [
           {
            "marker": {
             "colorbar": {
              "outlinewidth": 0,
              "ticks": ""
             }
            },
            "type": "scatterpolar"
           }
          ],
          "scatterpolargl": [
           {
            "marker": {
             "colorbar": {
              "outlinewidth": 0,
              "ticks": ""
             }
            },
            "type": "scatterpolargl"
           }
          ],
          "scatterternary": [
           {
            "marker": {
             "colorbar": {
              "outlinewidth": 0,
              "ticks": ""
             }
            },
            "type": "scatterternary"
           }
          ],
          "surface": [
           {
            "colorbar": {
             "outlinewidth": 0,
             "ticks": ""
            },
            "colorscale": [
             [
              0,
              "#0d0887"
             ],
             [
              0.1111111111111111,
              "#46039f"
             ],
             [
              0.2222222222222222,
              "#7201a8"
             ],
             [
              0.3333333333333333,
              "#9c179e"
             ],
             [
              0.4444444444444444,
              "#bd3786"
             ],
             [
              0.5555555555555556,
              "#d8576b"
             ],
             [
              0.6666666666666666,
              "#ed7953"
             ],
             [
              0.7777777777777778,
              "#fb9f3a"
             ],
             [
              0.8888888888888888,
              "#fdca26"
             ],
             [
              1,
              "#f0f921"
             ]
            ],
            "type": "surface"
           }
          ],
          "table": [
           {
            "cells": {
             "fill": {
              "color": "#EBF0F8"
             },
             "line": {
              "color": "white"
             }
            },
            "header": {
             "fill": {
              "color": "#C8D4E3"
             },
             "line": {
              "color": "white"
             }
            },
            "type": "table"
           }
          ]
         },
         "layout": {
          "annotationdefaults": {
           "arrowcolor": "#2a3f5f",
           "arrowhead": 0,
           "arrowwidth": 1
          },
          "autotypenumbers": "strict",
          "coloraxis": {
           "colorbar": {
            "outlinewidth": 0,
            "ticks": ""
           }
          },
          "colorscale": {
           "diverging": [
            [
             0,
             "#8e0152"
            ],
            [
             0.1,
             "#c51b7d"
            ],
            [
             0.2,
             "#de77ae"
            ],
            [
             0.3,
             "#f1b6da"
            ],
            [
             0.4,
             "#fde0ef"
            ],
            [
             0.5,
             "#f7f7f7"
            ],
            [
             0.6,
             "#e6f5d0"
            ],
            [
             0.7,
             "#b8e186"
            ],
            [
             0.8,
             "#7fbc41"
            ],
            [
             0.9,
             "#4d9221"
            ],
            [
             1,
             "#276419"
            ]
           ],
           "sequential": [
            [
             0,
             "#0d0887"
            ],
            [
             0.1111111111111111,
             "#46039f"
            ],
            [
             0.2222222222222222,
             "#7201a8"
            ],
            [
             0.3333333333333333,
             "#9c179e"
            ],
            [
             0.4444444444444444,
             "#bd3786"
            ],
            [
             0.5555555555555556,
             "#d8576b"
            ],
            [
             0.6666666666666666,
             "#ed7953"
            ],
            [
             0.7777777777777778,
             "#fb9f3a"
            ],
            [
             0.8888888888888888,
             "#fdca26"
            ],
            [
             1,
             "#f0f921"
            ]
           ],
           "sequentialminus": [
            [
             0,
             "#0d0887"
            ],
            [
             0.1111111111111111,
             "#46039f"
            ],
            [
             0.2222222222222222,
             "#7201a8"
            ],
            [
             0.3333333333333333,
             "#9c179e"
            ],
            [
             0.4444444444444444,
             "#bd3786"
            ],
            [
             0.5555555555555556,
             "#d8576b"
            ],
            [
             0.6666666666666666,
             "#ed7953"
            ],
            [
             0.7777777777777778,
             "#fb9f3a"
            ],
            [
             0.8888888888888888,
             "#fdca26"
            ],
            [
             1,
             "#f0f921"
            ]
           ]
          },
          "colorway": [
           "#636efa",
           "#EF553B",
           "#00cc96",
           "#ab63fa",
           "#FFA15A",
           "#19d3f3",
           "#FF6692",
           "#B6E880",
           "#FF97FF",
           "#FECB52"
          ],
          "font": {
           "color": "#2a3f5f"
          },
          "geo": {
           "bgcolor": "white",
           "lakecolor": "white",
           "landcolor": "#E5ECF6",
           "showlakes": true,
           "showland": true,
           "subunitcolor": "white"
          },
          "hoverlabel": {
           "align": "left"
          },
          "hovermode": "closest",
          "mapbox": {
           "style": "light"
          },
          "paper_bgcolor": "white",
          "plot_bgcolor": "#E5ECF6",
          "polar": {
           "angularaxis": {
            "gridcolor": "white",
            "linecolor": "white",
            "ticks": ""
           },
           "bgcolor": "#E5ECF6",
           "radialaxis": {
            "gridcolor": "white",
            "linecolor": "white",
            "ticks": ""
           }
          },
          "scene": {
           "xaxis": {
            "backgroundcolor": "#E5ECF6",
            "gridcolor": "white",
            "gridwidth": 2,
            "linecolor": "white",
            "showbackground": true,
            "ticks": "",
            "zerolinecolor": "white"
           },
           "yaxis": {
            "backgroundcolor": "#E5ECF6",
            "gridcolor": "white",
            "gridwidth": 2,
            "linecolor": "white",
            "showbackground": true,
            "ticks": "",
            "zerolinecolor": "white"
           },
           "zaxis": {
            "backgroundcolor": "#E5ECF6",
            "gridcolor": "white",
            "gridwidth": 2,
            "linecolor": "white",
            "showbackground": true,
            "ticks": "",
            "zerolinecolor": "white"
           }
          },
          "shapedefaults": {
           "line": {
            "color": "#2a3f5f"
           }
          },
          "ternary": {
           "aaxis": {
            "gridcolor": "white",
            "linecolor": "white",
            "ticks": ""
           },
           "baxis": {
            "gridcolor": "white",
            "linecolor": "white",
            "ticks": ""
           },
           "bgcolor": "#E5ECF6",
           "caxis": {
            "gridcolor": "white",
            "linecolor": "white",
            "ticks": ""
           }
          },
          "title": {
           "x": 0.05
          },
          "xaxis": {
           "automargin": true,
           "gridcolor": "white",
           "linecolor": "white",
           "ticks": "",
           "title": {
            "standoff": 15
           },
           "zerolinecolor": "white",
           "zerolinewidth": 2
          },
          "yaxis": {
           "automargin": true,
           "gridcolor": "white",
           "linecolor": "white",
           "ticks": "",
           "title": {
            "standoff": 15
           },
           "zerolinecolor": "white",
           "zerolinewidth": 2
          }
         }
        },
        "title": {
         "text": "Count of Sentiment-Labeled News Articles"
        },
        "xaxis": {
         "anchor": "y",
         "domain": [
          0,
          1
         ],
         "title": {
          "text": "Sentiment score 1 to 5"
         }
        },
        "yaxis": {
         "anchor": "x",
         "domain": [
          0,
          1
         ],
         "title": {
          "text": "Number of Articles"
         }
        }
       }
      }
     },
     "metadata": {},
     "output_type": "display_data"
    }
   ],
   "source": [
    "plot_sentiment(merged_news)"
   ]
  },
  {
   "cell_type": "code",
   "execution_count": 17,
   "metadata": {},
   "outputs": [],
   "source": [
    "# Extract year and month\n",
    "merged_news['YearMonth'] = pd.to_datetime(merged_news['Date']).dt.to_period('M')  # Assuming 'Date' is datetime format\n",
    "\n",
    "# Group and calculate monthly sentiment sum\n",
    "monthly_sum = merged_news.groupby('YearMonth')['Sentiment_gpt'].sum().reset_index()"
   ]
  },
  {
   "cell_type": "code",
   "execution_count": 18,
   "metadata": {},
   "outputs": [
    {
     "data": {
      "application/vnd.plotly.v1+json": {
       "config": {
        "plotlyServerURL": "https://plot.ly"
       },
       "data": [
        {
         "alignmentgroup": "True",
         "hovertemplate": "YearMonth=%{x}<br>Sentiment_gpt=%{y}<extra></extra>",
         "legendgroup": "",
         "marker": {
          "color": "#636efa",
          "pattern": {
           "shape": ""
          }
         },
         "name": "",
         "offsetgroup": "",
         "orientation": "v",
         "showlegend": false,
         "textposition": "auto",
         "type": "bar",
         "x": [
          "2016-03-01T00:00:00",
          "2016-04-01T00:00:00",
          "2016-05-01T00:00:00",
          "2016-06-01T00:00:00",
          "2016-07-01T00:00:00",
          "2016-08-01T00:00:00",
          "2016-09-01T00:00:00",
          "2016-10-01T00:00:00",
          "2016-11-01T00:00:00",
          "2016-12-01T00:00:00",
          "2017-01-01T00:00:00",
          "2017-02-01T00:00:00",
          "2017-03-01T00:00:00",
          "2017-04-01T00:00:00",
          "2017-05-01T00:00:00",
          "2017-06-01T00:00:00",
          "2017-07-01T00:00:00",
          "2017-08-01T00:00:00",
          "2017-09-01T00:00:00",
          "2017-10-01T00:00:00",
          "2017-11-01T00:00:00",
          "2017-12-01T00:00:00",
          "2018-01-01T00:00:00",
          "2018-02-01T00:00:00",
          "2018-03-01T00:00:00",
          "2018-04-01T00:00:00",
          "2018-05-01T00:00:00",
          "2018-06-01T00:00:00",
          "2018-07-01T00:00:00",
          "2018-08-01T00:00:00",
          "2018-09-01T00:00:00",
          "2018-10-01T00:00:00",
          "2018-11-01T00:00:00",
          "2018-12-01T00:00:00",
          "2019-01-01T00:00:00",
          "2019-02-01T00:00:00",
          "2019-03-01T00:00:00",
          "2019-04-01T00:00:00",
          "2019-05-01T00:00:00",
          "2019-06-01T00:00:00",
          "2019-07-01T00:00:00",
          "2019-08-01T00:00:00",
          "2019-09-01T00:00:00",
          "2019-10-01T00:00:00",
          "2019-11-01T00:00:00",
          "2019-12-01T00:00:00",
          "2020-01-01T00:00:00",
          "2020-02-01T00:00:00",
          "2020-03-01T00:00:00",
          "2020-04-01T00:00:00",
          "2020-05-01T00:00:00",
          "2020-06-01T00:00:00",
          "2020-07-01T00:00:00",
          "2020-08-01T00:00:00",
          "2020-09-01T00:00:00",
          "2020-10-01T00:00:00",
          "2020-11-01T00:00:00",
          "2020-12-01T00:00:00",
          "2021-01-01T00:00:00",
          "2021-02-01T00:00:00",
          "2021-03-01T00:00:00",
          "2021-04-01T00:00:00",
          "2021-05-01T00:00:00",
          "2021-06-01T00:00:00",
          "2021-07-01T00:00:00",
          "2021-08-01T00:00:00",
          "2021-09-01T00:00:00",
          "2021-10-01T00:00:00",
          "2021-11-01T00:00:00",
          "2021-12-01T00:00:00",
          "2022-01-01T00:00:00",
          "2022-02-01T00:00:00",
          "2022-03-01T00:00:00",
          "2022-04-01T00:00:00",
          "2022-05-01T00:00:00",
          "2022-06-01T00:00:00",
          "2022-07-01T00:00:00",
          "2022-08-01T00:00:00",
          "2022-09-01T00:00:00",
          "2022-10-01T00:00:00",
          "2022-11-01T00:00:00",
          "2022-12-01T00:00:00",
          "2023-01-01T00:00:00",
          "2023-02-01T00:00:00",
          "2023-03-01T00:00:00",
          "2023-04-01T00:00:00",
          "2023-05-01T00:00:00",
          "2023-06-01T00:00:00",
          "2023-07-01T00:00:00",
          "2023-08-01T00:00:00",
          "2023-09-01T00:00:00",
          "2023-10-01T00:00:00",
          "2023-11-01T00:00:00",
          "2024-01-01T00:00:00"
         ],
         "xaxis": "x",
         "y": [
          0,
          -3,
          -2,
          0,
          4,
          0,
          0,
          -1,
          0,
          2,
          -2,
          1,
          4,
          0,
          0,
          -1,
          0,
          0,
          4,
          4,
          3,
          1,
          -2,
          4,
          0,
          -1,
          2,
          0,
          -4,
          0,
          3,
          4,
          0,
          -1,
          -2,
          0,
          0,
          -3,
          0,
          0,
          0,
          0,
          -1,
          1,
          0,
          0,
          2,
          6,
          4,
          3,
          -3,
          -1,
          3,
          -1,
          0,
          -1,
          0,
          0,
          0,
          0,
          1,
          5,
          3,
          1,
          5,
          1,
          0,
          5,
          1,
          1,
          3,
          6,
          10,
          9,
          2,
          0,
          -2,
          0,
          0,
          3,
          1,
          1,
          -5,
          0,
          1,
          1,
          3,
          0,
          0,
          0,
          -1,
          0,
          0,
          0
         ],
         "yaxis": "y"
        }
       ],
       "layout": {
        "barmode": "relative",
        "legend": {
         "tracegroupgap": 0
        },
        "template": {
         "data": {
          "bar": [
           {
            "error_x": {
             "color": "#2a3f5f"
            },
            "error_y": {
             "color": "#2a3f5f"
            },
            "marker": {
             "line": {
              "color": "#E5ECF6",
              "width": 0.5
             },
             "pattern": {
              "fillmode": "overlay",
              "size": 10,
              "solidity": 0.2
             }
            },
            "type": "bar"
           }
          ],
          "barpolar": [
           {
            "marker": {
             "line": {
              "color": "#E5ECF6",
              "width": 0.5
             },
             "pattern": {
              "fillmode": "overlay",
              "size": 10,
              "solidity": 0.2
             }
            },
            "type": "barpolar"
           }
          ],
          "carpet": [
           {
            "aaxis": {
             "endlinecolor": "#2a3f5f",
             "gridcolor": "white",
             "linecolor": "white",
             "minorgridcolor": "white",
             "startlinecolor": "#2a3f5f"
            },
            "baxis": {
             "endlinecolor": "#2a3f5f",
             "gridcolor": "white",
             "linecolor": "white",
             "minorgridcolor": "white",
             "startlinecolor": "#2a3f5f"
            },
            "type": "carpet"
           }
          ],
          "choropleth": [
           {
            "colorbar": {
             "outlinewidth": 0,
             "ticks": ""
            },
            "type": "choropleth"
           }
          ],
          "contour": [
           {
            "colorbar": {
             "outlinewidth": 0,
             "ticks": ""
            },
            "colorscale": [
             [
              0,
              "#0d0887"
             ],
             [
              0.1111111111111111,
              "#46039f"
             ],
             [
              0.2222222222222222,
              "#7201a8"
             ],
             [
              0.3333333333333333,
              "#9c179e"
             ],
             [
              0.4444444444444444,
              "#bd3786"
             ],
             [
              0.5555555555555556,
              "#d8576b"
             ],
             [
              0.6666666666666666,
              "#ed7953"
             ],
             [
              0.7777777777777778,
              "#fb9f3a"
             ],
             [
              0.8888888888888888,
              "#fdca26"
             ],
             [
              1,
              "#f0f921"
             ]
            ],
            "type": "contour"
           }
          ],
          "contourcarpet": [
           {
            "colorbar": {
             "outlinewidth": 0,
             "ticks": ""
            },
            "type": "contourcarpet"
           }
          ],
          "heatmap": [
           {
            "colorbar": {
             "outlinewidth": 0,
             "ticks": ""
            },
            "colorscale": [
             [
              0,
              "#0d0887"
             ],
             [
              0.1111111111111111,
              "#46039f"
             ],
             [
              0.2222222222222222,
              "#7201a8"
             ],
             [
              0.3333333333333333,
              "#9c179e"
             ],
             [
              0.4444444444444444,
              "#bd3786"
             ],
             [
              0.5555555555555556,
              "#d8576b"
             ],
             [
              0.6666666666666666,
              "#ed7953"
             ],
             [
              0.7777777777777778,
              "#fb9f3a"
             ],
             [
              0.8888888888888888,
              "#fdca26"
             ],
             [
              1,
              "#f0f921"
             ]
            ],
            "type": "heatmap"
           }
          ],
          "heatmapgl": [
           {
            "colorbar": {
             "outlinewidth": 0,
             "ticks": ""
            },
            "colorscale": [
             [
              0,
              "#0d0887"
             ],
             [
              0.1111111111111111,
              "#46039f"
             ],
             [
              0.2222222222222222,
              "#7201a8"
             ],
             [
              0.3333333333333333,
              "#9c179e"
             ],
             [
              0.4444444444444444,
              "#bd3786"
             ],
             [
              0.5555555555555556,
              "#d8576b"
             ],
             [
              0.6666666666666666,
              "#ed7953"
             ],
             [
              0.7777777777777778,
              "#fb9f3a"
             ],
             [
              0.8888888888888888,
              "#fdca26"
             ],
             [
              1,
              "#f0f921"
             ]
            ],
            "type": "heatmapgl"
           }
          ],
          "histogram": [
           {
            "marker": {
             "pattern": {
              "fillmode": "overlay",
              "size": 10,
              "solidity": 0.2
             }
            },
            "type": "histogram"
           }
          ],
          "histogram2d": [
           {
            "colorbar": {
             "outlinewidth": 0,
             "ticks": ""
            },
            "colorscale": [
             [
              0,
              "#0d0887"
             ],
             [
              0.1111111111111111,
              "#46039f"
             ],
             [
              0.2222222222222222,
              "#7201a8"
             ],
             [
              0.3333333333333333,
              "#9c179e"
             ],
             [
              0.4444444444444444,
              "#bd3786"
             ],
             [
              0.5555555555555556,
              "#d8576b"
             ],
             [
              0.6666666666666666,
              "#ed7953"
             ],
             [
              0.7777777777777778,
              "#fb9f3a"
             ],
             [
              0.8888888888888888,
              "#fdca26"
             ],
             [
              1,
              "#f0f921"
             ]
            ],
            "type": "histogram2d"
           }
          ],
          "histogram2dcontour": [
           {
            "colorbar": {
             "outlinewidth": 0,
             "ticks": ""
            },
            "colorscale": [
             [
              0,
              "#0d0887"
             ],
             [
              0.1111111111111111,
              "#46039f"
             ],
             [
              0.2222222222222222,
              "#7201a8"
             ],
             [
              0.3333333333333333,
              "#9c179e"
             ],
             [
              0.4444444444444444,
              "#bd3786"
             ],
             [
              0.5555555555555556,
              "#d8576b"
             ],
             [
              0.6666666666666666,
              "#ed7953"
             ],
             [
              0.7777777777777778,
              "#fb9f3a"
             ],
             [
              0.8888888888888888,
              "#fdca26"
             ],
             [
              1,
              "#f0f921"
             ]
            ],
            "type": "histogram2dcontour"
           }
          ],
          "mesh3d": [
           {
            "colorbar": {
             "outlinewidth": 0,
             "ticks": ""
            },
            "type": "mesh3d"
           }
          ],
          "parcoords": [
           {
            "line": {
             "colorbar": {
              "outlinewidth": 0,
              "ticks": ""
             }
            },
            "type": "parcoords"
           }
          ],
          "pie": [
           {
            "automargin": true,
            "type": "pie"
           }
          ],
          "scatter": [
           {
            "fillpattern": {
             "fillmode": "overlay",
             "size": 10,
             "solidity": 0.2
            },
            "type": "scatter"
           }
          ],
          "scatter3d": [
           {
            "line": {
             "colorbar": {
              "outlinewidth": 0,
              "ticks": ""
             }
            },
            "marker": {
             "colorbar": {
              "outlinewidth": 0,
              "ticks": ""
             }
            },
            "type": "scatter3d"
           }
          ],
          "scattercarpet": [
           {
            "marker": {
             "colorbar": {
              "outlinewidth": 0,
              "ticks": ""
             }
            },
            "type": "scattercarpet"
           }
          ],
          "scattergeo": [
           {
            "marker": {
             "colorbar": {
              "outlinewidth": 0,
              "ticks": ""
             }
            },
            "type": "scattergeo"
           }
          ],
          "scattergl": [
           {
            "marker": {
             "colorbar": {
              "outlinewidth": 0,
              "ticks": ""
             }
            },
            "type": "scattergl"
           }
          ],
          "scattermapbox": [
           {
            "marker": {
             "colorbar": {
              "outlinewidth": 0,
              "ticks": ""
             }
            },
            "type": "scattermapbox"
           }
          ],
          "scatterpolar": [
           {
            "marker": {
             "colorbar": {
              "outlinewidth": 0,
              "ticks": ""
             }
            },
            "type": "scatterpolar"
           }
          ],
          "scatterpolargl": [
           {
            "marker": {
             "colorbar": {
              "outlinewidth": 0,
              "ticks": ""
             }
            },
            "type": "scatterpolargl"
           }
          ],
          "scatterternary": [
           {
            "marker": {
             "colorbar": {
              "outlinewidth": 0,
              "ticks": ""
             }
            },
            "type": "scatterternary"
           }
          ],
          "surface": [
           {
            "colorbar": {
             "outlinewidth": 0,
             "ticks": ""
            },
            "colorscale": [
             [
              0,
              "#0d0887"
             ],
             [
              0.1111111111111111,
              "#46039f"
             ],
             [
              0.2222222222222222,
              "#7201a8"
             ],
             [
              0.3333333333333333,
              "#9c179e"
             ],
             [
              0.4444444444444444,
              "#bd3786"
             ],
             [
              0.5555555555555556,
              "#d8576b"
             ],
             [
              0.6666666666666666,
              "#ed7953"
             ],
             [
              0.7777777777777778,
              "#fb9f3a"
             ],
             [
              0.8888888888888888,
              "#fdca26"
             ],
             [
              1,
              "#f0f921"
             ]
            ],
            "type": "surface"
           }
          ],
          "table": [
           {
            "cells": {
             "fill": {
              "color": "#EBF0F8"
             },
             "line": {
              "color": "white"
             }
            },
            "header": {
             "fill": {
              "color": "#C8D4E3"
             },
             "line": {
              "color": "white"
             }
            },
            "type": "table"
           }
          ]
         },
         "layout": {
          "annotationdefaults": {
           "arrowcolor": "#2a3f5f",
           "arrowhead": 0,
           "arrowwidth": 1
          },
          "autotypenumbers": "strict",
          "coloraxis": {
           "colorbar": {
            "outlinewidth": 0,
            "ticks": ""
           }
          },
          "colorscale": {
           "diverging": [
            [
             0,
             "#8e0152"
            ],
            [
             0.1,
             "#c51b7d"
            ],
            [
             0.2,
             "#de77ae"
            ],
            [
             0.3,
             "#f1b6da"
            ],
            [
             0.4,
             "#fde0ef"
            ],
            [
             0.5,
             "#f7f7f7"
            ],
            [
             0.6,
             "#e6f5d0"
            ],
            [
             0.7,
             "#b8e186"
            ],
            [
             0.8,
             "#7fbc41"
            ],
            [
             0.9,
             "#4d9221"
            ],
            [
             1,
             "#276419"
            ]
           ],
           "sequential": [
            [
             0,
             "#0d0887"
            ],
            [
             0.1111111111111111,
             "#46039f"
            ],
            [
             0.2222222222222222,
             "#7201a8"
            ],
            [
             0.3333333333333333,
             "#9c179e"
            ],
            [
             0.4444444444444444,
             "#bd3786"
            ],
            [
             0.5555555555555556,
             "#d8576b"
            ],
            [
             0.6666666666666666,
             "#ed7953"
            ],
            [
             0.7777777777777778,
             "#fb9f3a"
            ],
            [
             0.8888888888888888,
             "#fdca26"
            ],
            [
             1,
             "#f0f921"
            ]
           ],
           "sequentialminus": [
            [
             0,
             "#0d0887"
            ],
            [
             0.1111111111111111,
             "#46039f"
            ],
            [
             0.2222222222222222,
             "#7201a8"
            ],
            [
             0.3333333333333333,
             "#9c179e"
            ],
            [
             0.4444444444444444,
             "#bd3786"
            ],
            [
             0.5555555555555556,
             "#d8576b"
            ],
            [
             0.6666666666666666,
             "#ed7953"
            ],
            [
             0.7777777777777778,
             "#fb9f3a"
            ],
            [
             0.8888888888888888,
             "#fdca26"
            ],
            [
             1,
             "#f0f921"
            ]
           ]
          },
          "colorway": [
           "#636efa",
           "#EF553B",
           "#00cc96",
           "#ab63fa",
           "#FFA15A",
           "#19d3f3",
           "#FF6692",
           "#B6E880",
           "#FF97FF",
           "#FECB52"
          ],
          "font": {
           "color": "#2a3f5f"
          },
          "geo": {
           "bgcolor": "white",
           "lakecolor": "white",
           "landcolor": "#E5ECF6",
           "showlakes": true,
           "showland": true,
           "subunitcolor": "white"
          },
          "hoverlabel": {
           "align": "left"
          },
          "hovermode": "closest",
          "mapbox": {
           "style": "light"
          },
          "paper_bgcolor": "white",
          "plot_bgcolor": "#E5ECF6",
          "polar": {
           "angularaxis": {
            "gridcolor": "white",
            "linecolor": "white",
            "ticks": ""
           },
           "bgcolor": "#E5ECF6",
           "radialaxis": {
            "gridcolor": "white",
            "linecolor": "white",
            "ticks": ""
           }
          },
          "scene": {
           "xaxis": {
            "backgroundcolor": "#E5ECF6",
            "gridcolor": "white",
            "gridwidth": 2,
            "linecolor": "white",
            "showbackground": true,
            "ticks": "",
            "zerolinecolor": "white"
           },
           "yaxis": {
            "backgroundcolor": "#E5ECF6",
            "gridcolor": "white",
            "gridwidth": 2,
            "linecolor": "white",
            "showbackground": true,
            "ticks": "",
            "zerolinecolor": "white"
           },
           "zaxis": {
            "backgroundcolor": "#E5ECF6",
            "gridcolor": "white",
            "gridwidth": 2,
            "linecolor": "white",
            "showbackground": true,
            "ticks": "",
            "zerolinecolor": "white"
           }
          },
          "shapedefaults": {
           "line": {
            "color": "#2a3f5f"
           }
          },
          "ternary": {
           "aaxis": {
            "gridcolor": "white",
            "linecolor": "white",
            "ticks": ""
           },
           "baxis": {
            "gridcolor": "white",
            "linecolor": "white",
            "ticks": ""
           },
           "bgcolor": "#E5ECF6",
           "caxis": {
            "gridcolor": "white",
            "linecolor": "white",
            "ticks": ""
           }
          },
          "title": {
           "x": 0.05
          },
          "xaxis": {
           "automargin": true,
           "gridcolor": "white",
           "linecolor": "white",
           "ticks": "",
           "title": {
            "standoff": 15
           },
           "zerolinecolor": "white",
           "zerolinewidth": 2
          },
          "yaxis": {
           "automargin": true,
           "gridcolor": "white",
           "linecolor": "white",
           "ticks": "",
           "title": {
            "standoff": 15
           },
           "zerolinecolor": "white",
           "zerolinewidth": 2
          }
         }
        },
        "title": {
         "text": "Monthly Count of Sentiment-Labeled News Articles"
        },
        "xaxis": {
         "anchor": "y",
         "domain": [
          0,
          1
         ],
         "tickangle": -45,
         "tickformat": "%Y-%m",
         "title": {
          "text": "Month"
         }
        },
        "yaxis": {
         "anchor": "x",
         "domain": [
          0,
          1
         ],
         "title": {
          "text": "Number of Articles"
         }
        }
       }
      }
     },
     "metadata": {},
     "output_type": "display_data"
    }
   ],
   "source": [
    "plot_sentiment_evolution(merged_news)"
   ]
  },
  {
   "cell_type": "code",
   "execution_count": 19,
   "metadata": {},
   "outputs": [
    {
     "data": {
      "application/vnd.plotly.v1+json": {
       "config": {
        "plotlyServerURL": "https://plot.ly"
       },
       "data": [
        {
         "hovertemplate": "YearMonth=%{x}<br>Rolling_Sentiment=%{y}<extra></extra>",
         "legendgroup": "",
         "line": {
          "color": "#636efa",
          "dash": "solid"
         },
         "marker": {
          "symbol": "circle"
         },
         "mode": "lines",
         "name": "",
         "orientation": "v",
         "showlegend": false,
         "type": "scatter",
         "x": [
          "2016-03-01T00:00:00",
          "2016-04-01T00:00:00",
          "2016-05-01T00:00:00",
          "2016-06-01T00:00:00",
          "2016-07-01T00:00:00",
          "2016-08-01T00:00:00",
          "2016-09-01T00:00:00",
          "2016-10-01T00:00:00",
          "2016-11-01T00:00:00",
          "2016-12-01T00:00:00",
          "2017-01-01T00:00:00",
          "2017-02-01T00:00:00",
          "2017-03-01T00:00:00",
          "2017-04-01T00:00:00",
          "2017-05-01T00:00:00",
          "2017-06-01T00:00:00",
          "2017-07-01T00:00:00",
          "2017-08-01T00:00:00",
          "2017-09-01T00:00:00",
          "2017-10-01T00:00:00",
          "2017-11-01T00:00:00",
          "2017-12-01T00:00:00",
          "2018-01-01T00:00:00",
          "2018-02-01T00:00:00",
          "2018-03-01T00:00:00",
          "2018-04-01T00:00:00",
          "2018-05-01T00:00:00",
          "2018-06-01T00:00:00",
          "2018-07-01T00:00:00",
          "2018-08-01T00:00:00",
          "2018-09-01T00:00:00",
          "2018-10-01T00:00:00",
          "2018-11-01T00:00:00",
          "2018-12-01T00:00:00",
          "2019-01-01T00:00:00",
          "2019-02-01T00:00:00",
          "2019-03-01T00:00:00",
          "2019-04-01T00:00:00",
          "2019-05-01T00:00:00",
          "2019-06-01T00:00:00",
          "2019-07-01T00:00:00",
          "2019-08-01T00:00:00",
          "2019-09-01T00:00:00",
          "2019-10-01T00:00:00",
          "2019-11-01T00:00:00",
          "2019-12-01T00:00:00",
          "2020-01-01T00:00:00",
          "2020-02-01T00:00:00",
          "2020-03-01T00:00:00",
          "2020-04-01T00:00:00",
          "2020-05-01T00:00:00",
          "2020-06-01T00:00:00",
          "2020-07-01T00:00:00",
          "2020-08-01T00:00:00",
          "2020-09-01T00:00:00",
          "2020-10-01T00:00:00",
          "2020-11-01T00:00:00",
          "2020-12-01T00:00:00",
          "2021-01-01T00:00:00",
          "2021-02-01T00:00:00",
          "2021-03-01T00:00:00",
          "2021-04-01T00:00:00",
          "2021-05-01T00:00:00",
          "2021-06-01T00:00:00",
          "2021-07-01T00:00:00",
          "2021-08-01T00:00:00",
          "2021-09-01T00:00:00",
          "2021-10-01T00:00:00",
          "2021-11-01T00:00:00",
          "2021-12-01T00:00:00",
          "2022-01-01T00:00:00",
          "2022-02-01T00:00:00",
          "2022-03-01T00:00:00",
          "2022-04-01T00:00:00",
          "2022-05-01T00:00:00",
          "2022-06-01T00:00:00",
          "2022-07-01T00:00:00",
          "2022-08-01T00:00:00",
          "2022-09-01T00:00:00",
          "2022-10-01T00:00:00",
          "2022-11-01T00:00:00",
          "2022-12-01T00:00:00",
          "2023-01-01T00:00:00",
          "2023-02-01T00:00:00",
          "2023-03-01T00:00:00",
          "2023-04-01T00:00:00",
          "2023-05-01T00:00:00",
          "2023-06-01T00:00:00",
          "2023-07-01T00:00:00",
          "2023-08-01T00:00:00",
          "2023-09-01T00:00:00",
          "2023-10-01T00:00:00",
          "2023-11-01T00:00:00",
          "2024-01-01T00:00:00"
         ],
         "xaxis": "x",
         "y": [
          0,
          0,
          -1.6666666666666667,
          -1.6666666666666667,
          0.6666666666666666,
          1.3333333333333333,
          1.3333333333333333,
          -0.3333333333333333,
          -0.3333333333333333,
          0.3333333333333333,
          0,
          0.3333333333333333,
          1,
          1.6666666666666667,
          1.3333333333333333,
          -0.3333333333333333,
          -0.3333333333333333,
          -0.3333333333333333,
          1.3333333333333333,
          2.6666666666666665,
          3.6666666666666665,
          2.6666666666666665,
          0.6666666666666666,
          1,
          0.6666666666666666,
          1,
          0.3333333333333333,
          0.3333333333333333,
          -0.6666666666666666,
          -1.3333333333333333,
          -0.3333333333333333,
          2.3333333333333335,
          2.3333333333333335,
          1,
          -1,
          -1,
          -0.6666666666666666,
          -1,
          -1,
          -1,
          0,
          0,
          -0.3333333333333333,
          0,
          0,
          0.3333333333333333,
          0.6666666666666666,
          2.6666666666666665,
          4,
          4.333333333333333,
          1.3333333333333333,
          -0.3333333333333333,
          -0.3333333333333333,
          0.3333333333333333,
          0.6666666666666666,
          -0.6666666666666666,
          -0.3333333333333333,
          -0.3333333333333333,
          0,
          0,
          0.3333333333333333,
          2,
          3,
          3,
          3,
          2.3333333333333335,
          2,
          2,
          2,
          2.3333333333333335,
          1.6666666666666667,
          3.3333333333333335,
          6.333333333333333,
          8.333333333333334,
          7,
          3.6666666666666665,
          0,
          -0.6666666666666666,
          -0.6666666666666666,
          1,
          1.3333333333333333,
          1.6666666666666667,
          -1,
          -1.3333333333333333,
          -1.3333333333333333,
          0.6666666666666666,
          1.6666666666666667,
          1.3333333333333333,
          1,
          0,
          -0.3333333333333333,
          -0.3333333333333333,
          -0.3333333333333333,
          0
         ],
         "yaxis": "y"
        }
       ],
       "layout": {
        "legend": {
         "tracegroupgap": 0
        },
        "template": {
         "data": {
          "bar": [
           {
            "error_x": {
             "color": "#2a3f5f"
            },
            "error_y": {
             "color": "#2a3f5f"
            },
            "marker": {
             "line": {
              "color": "#E5ECF6",
              "width": 0.5
             },
             "pattern": {
              "fillmode": "overlay",
              "size": 10,
              "solidity": 0.2
             }
            },
            "type": "bar"
           }
          ],
          "barpolar": [
           {
            "marker": {
             "line": {
              "color": "#E5ECF6",
              "width": 0.5
             },
             "pattern": {
              "fillmode": "overlay",
              "size": 10,
              "solidity": 0.2
             }
            },
            "type": "barpolar"
           }
          ],
          "carpet": [
           {
            "aaxis": {
             "endlinecolor": "#2a3f5f",
             "gridcolor": "white",
             "linecolor": "white",
             "minorgridcolor": "white",
             "startlinecolor": "#2a3f5f"
            },
            "baxis": {
             "endlinecolor": "#2a3f5f",
             "gridcolor": "white",
             "linecolor": "white",
             "minorgridcolor": "white",
             "startlinecolor": "#2a3f5f"
            },
            "type": "carpet"
           }
          ],
          "choropleth": [
           {
            "colorbar": {
             "outlinewidth": 0,
             "ticks": ""
            },
            "type": "choropleth"
           }
          ],
          "contour": [
           {
            "colorbar": {
             "outlinewidth": 0,
             "ticks": ""
            },
            "colorscale": [
             [
              0,
              "#0d0887"
             ],
             [
              0.1111111111111111,
              "#46039f"
             ],
             [
              0.2222222222222222,
              "#7201a8"
             ],
             [
              0.3333333333333333,
              "#9c179e"
             ],
             [
              0.4444444444444444,
              "#bd3786"
             ],
             [
              0.5555555555555556,
              "#d8576b"
             ],
             [
              0.6666666666666666,
              "#ed7953"
             ],
             [
              0.7777777777777778,
              "#fb9f3a"
             ],
             [
              0.8888888888888888,
              "#fdca26"
             ],
             [
              1,
              "#f0f921"
             ]
            ],
            "type": "contour"
           }
          ],
          "contourcarpet": [
           {
            "colorbar": {
             "outlinewidth": 0,
             "ticks": ""
            },
            "type": "contourcarpet"
           }
          ],
          "heatmap": [
           {
            "colorbar": {
             "outlinewidth": 0,
             "ticks": ""
            },
            "colorscale": [
             [
              0,
              "#0d0887"
             ],
             [
              0.1111111111111111,
              "#46039f"
             ],
             [
              0.2222222222222222,
              "#7201a8"
             ],
             [
              0.3333333333333333,
              "#9c179e"
             ],
             [
              0.4444444444444444,
              "#bd3786"
             ],
             [
              0.5555555555555556,
              "#d8576b"
             ],
             [
              0.6666666666666666,
              "#ed7953"
             ],
             [
              0.7777777777777778,
              "#fb9f3a"
             ],
             [
              0.8888888888888888,
              "#fdca26"
             ],
             [
              1,
              "#f0f921"
             ]
            ],
            "type": "heatmap"
           }
          ],
          "heatmapgl": [
           {
            "colorbar": {
             "outlinewidth": 0,
             "ticks": ""
            },
            "colorscale": [
             [
              0,
              "#0d0887"
             ],
             [
              0.1111111111111111,
              "#46039f"
             ],
             [
              0.2222222222222222,
              "#7201a8"
             ],
             [
              0.3333333333333333,
              "#9c179e"
             ],
             [
              0.4444444444444444,
              "#bd3786"
             ],
             [
              0.5555555555555556,
              "#d8576b"
             ],
             [
              0.6666666666666666,
              "#ed7953"
             ],
             [
              0.7777777777777778,
              "#fb9f3a"
             ],
             [
              0.8888888888888888,
              "#fdca26"
             ],
             [
              1,
              "#f0f921"
             ]
            ],
            "type": "heatmapgl"
           }
          ],
          "histogram": [
           {
            "marker": {
             "pattern": {
              "fillmode": "overlay",
              "size": 10,
              "solidity": 0.2
             }
            },
            "type": "histogram"
           }
          ],
          "histogram2d": [
           {
            "colorbar": {
             "outlinewidth": 0,
             "ticks": ""
            },
            "colorscale": [
             [
              0,
              "#0d0887"
             ],
             [
              0.1111111111111111,
              "#46039f"
             ],
             [
              0.2222222222222222,
              "#7201a8"
             ],
             [
              0.3333333333333333,
              "#9c179e"
             ],
             [
              0.4444444444444444,
              "#bd3786"
             ],
             [
              0.5555555555555556,
              "#d8576b"
             ],
             [
              0.6666666666666666,
              "#ed7953"
             ],
             [
              0.7777777777777778,
              "#fb9f3a"
             ],
             [
              0.8888888888888888,
              "#fdca26"
             ],
             [
              1,
              "#f0f921"
             ]
            ],
            "type": "histogram2d"
           }
          ],
          "histogram2dcontour": [
           {
            "colorbar": {
             "outlinewidth": 0,
             "ticks": ""
            },
            "colorscale": [
             [
              0,
              "#0d0887"
             ],
             [
              0.1111111111111111,
              "#46039f"
             ],
             [
              0.2222222222222222,
              "#7201a8"
             ],
             [
              0.3333333333333333,
              "#9c179e"
             ],
             [
              0.4444444444444444,
              "#bd3786"
             ],
             [
              0.5555555555555556,
              "#d8576b"
             ],
             [
              0.6666666666666666,
              "#ed7953"
             ],
             [
              0.7777777777777778,
              "#fb9f3a"
             ],
             [
              0.8888888888888888,
              "#fdca26"
             ],
             [
              1,
              "#f0f921"
             ]
            ],
            "type": "histogram2dcontour"
           }
          ],
          "mesh3d": [
           {
            "colorbar": {
             "outlinewidth": 0,
             "ticks": ""
            },
            "type": "mesh3d"
           }
          ],
          "parcoords": [
           {
            "line": {
             "colorbar": {
              "outlinewidth": 0,
              "ticks": ""
             }
            },
            "type": "parcoords"
           }
          ],
          "pie": [
           {
            "automargin": true,
            "type": "pie"
           }
          ],
          "scatter": [
           {
            "fillpattern": {
             "fillmode": "overlay",
             "size": 10,
             "solidity": 0.2
            },
            "type": "scatter"
           }
          ],
          "scatter3d": [
           {
            "line": {
             "colorbar": {
              "outlinewidth": 0,
              "ticks": ""
             }
            },
            "marker": {
             "colorbar": {
              "outlinewidth": 0,
              "ticks": ""
             }
            },
            "type": "scatter3d"
           }
          ],
          "scattercarpet": [
           {
            "marker": {
             "colorbar": {
              "outlinewidth": 0,
              "ticks": ""
             }
            },
            "type": "scattercarpet"
           }
          ],
          "scattergeo": [
           {
            "marker": {
             "colorbar": {
              "outlinewidth": 0,
              "ticks": ""
             }
            },
            "type": "scattergeo"
           }
          ],
          "scattergl": [
           {
            "marker": {
             "colorbar": {
              "outlinewidth": 0,
              "ticks": ""
             }
            },
            "type": "scattergl"
           }
          ],
          "scattermapbox": [
           {
            "marker": {
             "colorbar": {
              "outlinewidth": 0,
              "ticks": ""
             }
            },
            "type": "scattermapbox"
           }
          ],
          "scatterpolar": [
           {
            "marker": {
             "colorbar": {
              "outlinewidth": 0,
              "ticks": ""
             }
            },
            "type": "scatterpolar"
           }
          ],
          "scatterpolargl": [
           {
            "marker": {
             "colorbar": {
              "outlinewidth": 0,
              "ticks": ""
             }
            },
            "type": "scatterpolargl"
           }
          ],
          "scatterternary": [
           {
            "marker": {
             "colorbar": {
              "outlinewidth": 0,
              "ticks": ""
             }
            },
            "type": "scatterternary"
           }
          ],
          "surface": [
           {
            "colorbar": {
             "outlinewidth": 0,
             "ticks": ""
            },
            "colorscale": [
             [
              0,
              "#0d0887"
             ],
             [
              0.1111111111111111,
              "#46039f"
             ],
             [
              0.2222222222222222,
              "#7201a8"
             ],
             [
              0.3333333333333333,
              "#9c179e"
             ],
             [
              0.4444444444444444,
              "#bd3786"
             ],
             [
              0.5555555555555556,
              "#d8576b"
             ],
             [
              0.6666666666666666,
              "#ed7953"
             ],
             [
              0.7777777777777778,
              "#fb9f3a"
             ],
             [
              0.8888888888888888,
              "#fdca26"
             ],
             [
              1,
              "#f0f921"
             ]
            ],
            "type": "surface"
           }
          ],
          "table": [
           {
            "cells": {
             "fill": {
              "color": "#EBF0F8"
             },
             "line": {
              "color": "white"
             }
            },
            "header": {
             "fill": {
              "color": "#C8D4E3"
             },
             "line": {
              "color": "white"
             }
            },
            "type": "table"
           }
          ]
         },
         "layout": {
          "annotationdefaults": {
           "arrowcolor": "#2a3f5f",
           "arrowhead": 0,
           "arrowwidth": 1
          },
          "autotypenumbers": "strict",
          "coloraxis": {
           "colorbar": {
            "outlinewidth": 0,
            "ticks": ""
           }
          },
          "colorscale": {
           "diverging": [
            [
             0,
             "#8e0152"
            ],
            [
             0.1,
             "#c51b7d"
            ],
            [
             0.2,
             "#de77ae"
            ],
            [
             0.3,
             "#f1b6da"
            ],
            [
             0.4,
             "#fde0ef"
            ],
            [
             0.5,
             "#f7f7f7"
            ],
            [
             0.6,
             "#e6f5d0"
            ],
            [
             0.7,
             "#b8e186"
            ],
            [
             0.8,
             "#7fbc41"
            ],
            [
             0.9,
             "#4d9221"
            ],
            [
             1,
             "#276419"
            ]
           ],
           "sequential": [
            [
             0,
             "#0d0887"
            ],
            [
             0.1111111111111111,
             "#46039f"
            ],
            [
             0.2222222222222222,
             "#7201a8"
            ],
            [
             0.3333333333333333,
             "#9c179e"
            ],
            [
             0.4444444444444444,
             "#bd3786"
            ],
            [
             0.5555555555555556,
             "#d8576b"
            ],
            [
             0.6666666666666666,
             "#ed7953"
            ],
            [
             0.7777777777777778,
             "#fb9f3a"
            ],
            [
             0.8888888888888888,
             "#fdca26"
            ],
            [
             1,
             "#f0f921"
            ]
           ],
           "sequentialminus": [
            [
             0,
             "#0d0887"
            ],
            [
             0.1111111111111111,
             "#46039f"
            ],
            [
             0.2222222222222222,
             "#7201a8"
            ],
            [
             0.3333333333333333,
             "#9c179e"
            ],
            [
             0.4444444444444444,
             "#bd3786"
            ],
            [
             0.5555555555555556,
             "#d8576b"
            ],
            [
             0.6666666666666666,
             "#ed7953"
            ],
            [
             0.7777777777777778,
             "#fb9f3a"
            ],
            [
             0.8888888888888888,
             "#fdca26"
            ],
            [
             1,
             "#f0f921"
            ]
           ]
          },
          "colorway": [
           "#636efa",
           "#EF553B",
           "#00cc96",
           "#ab63fa",
           "#FFA15A",
           "#19d3f3",
           "#FF6692",
           "#B6E880",
           "#FF97FF",
           "#FECB52"
          ],
          "font": {
           "color": "#2a3f5f"
          },
          "geo": {
           "bgcolor": "white",
           "lakecolor": "white",
           "landcolor": "#E5ECF6",
           "showlakes": true,
           "showland": true,
           "subunitcolor": "white"
          },
          "hoverlabel": {
           "align": "left"
          },
          "hovermode": "closest",
          "mapbox": {
           "style": "light"
          },
          "paper_bgcolor": "white",
          "plot_bgcolor": "#E5ECF6",
          "polar": {
           "angularaxis": {
            "gridcolor": "white",
            "linecolor": "white",
            "ticks": ""
           },
           "bgcolor": "#E5ECF6",
           "radialaxis": {
            "gridcolor": "white",
            "linecolor": "white",
            "ticks": ""
           }
          },
          "scene": {
           "xaxis": {
            "backgroundcolor": "#E5ECF6",
            "gridcolor": "white",
            "gridwidth": 2,
            "linecolor": "white",
            "showbackground": true,
            "ticks": "",
            "zerolinecolor": "white"
           },
           "yaxis": {
            "backgroundcolor": "#E5ECF6",
            "gridcolor": "white",
            "gridwidth": 2,
            "linecolor": "white",
            "showbackground": true,
            "ticks": "",
            "zerolinecolor": "white"
           },
           "zaxis": {
            "backgroundcolor": "#E5ECF6",
            "gridcolor": "white",
            "gridwidth": 2,
            "linecolor": "white",
            "showbackground": true,
            "ticks": "",
            "zerolinecolor": "white"
           }
          },
          "shapedefaults": {
           "line": {
            "color": "#2a3f5f"
           }
          },
          "ternary": {
           "aaxis": {
            "gridcolor": "white",
            "linecolor": "white",
            "ticks": ""
           },
           "baxis": {
            "gridcolor": "white",
            "linecolor": "white",
            "ticks": ""
           },
           "bgcolor": "#E5ECF6",
           "caxis": {
            "gridcolor": "white",
            "linecolor": "white",
            "ticks": ""
           }
          },
          "title": {
           "x": 0.05
          },
          "xaxis": {
           "automargin": true,
           "gridcolor": "white",
           "linecolor": "white",
           "ticks": "",
           "title": {
            "standoff": 15
           },
           "zerolinecolor": "white",
           "zerolinewidth": 2
          },
          "yaxis": {
           "automargin": true,
           "gridcolor": "white",
           "linecolor": "white",
           "ticks": "",
           "title": {
            "standoff": 15
           },
           "zerolinecolor": "white",
           "zerolinewidth": 2
          }
         }
        },
        "title": {
         "text": "Monthly Count of Sentiment-Labeled News Articles"
        },
        "xaxis": {
         "anchor": "y",
         "domain": [
          0,
          1
         ],
         "tickangle": -45,
         "tickformat": "%Y-%m",
         "title": {
          "text": "Month"
         }
        },
        "yaxis": {
         "anchor": "x",
         "domain": [
          0,
          1
         ],
         "title": {
          "text": "Number of Articles"
         }
        }
       }
      }
     },
     "metadata": {},
     "output_type": "display_data"
    }
   ],
   "source": [
    "# Calculate the 3-month rolling average\n",
    "monthly_sum['Rolling_Sentiment'] = monthly_sum['Sentiment_gpt'].rolling(window=3).mean().fillna(0) \n",
    "\n",
    "monthly_sum['Cumsum'] =  monthly_sum['Sentiment_gpt'].cumsum()\n",
    "monthly_sum['Pct_chge'] = monthly_sum['Cumsum'].pct_change().fillna(0).replace(-np.inf, 0)\n",
    "\n",
    "monthly_sum['YearMonth'] = monthly_sum['YearMonth'].dt.to_timestamp()# Create a bar plot using pandas with the plotly backend\n",
    "\n",
    "fig = monthly_sum.plot(kind='line', x='YearMonth', y='Rolling_Sentiment', title='Monthly Count of Sentiment-Labeled News Articles', backend='plotly')\n",
    "\n",
    "    # Customize the layout for better readability\n",
    "fig.update_layout(\n",
    "    xaxis_title='Month',\n",
    "    yaxis_title='Number of Articles',\n",
    "    xaxis_tickformat='%Y-%m',\n",
    "    xaxis_tickangle=-45\n",
    ")\n",
    "\n",
    "    # Show the plot\n",
    "fig.show()"
   ]
  },
  {
   "cell_type": "markdown",
   "metadata": {},
   "source": [
    "---\n",
    "### 2. EDA "
   ]
  },
  {
   "cell_type": "markdown",
   "metadata": {},
   "source": [
    "#### 2.1 Exploration"
   ]
  },
  {
   "cell_type": "code",
   "execution_count": 20,
   "metadata": {},
   "outputs": [
    {
     "name": "stdout",
     "output_type": "stream",
     "text": [
      "Oldest Date: 1914-09-16 00:00:00 UTC\n",
      "Newest Date: 2020-06-11 13:12:35 UTC\n"
     ]
    }
   ],
   "source": [
    "path_2 = 'data/All_external.csv'\n",
    "\n",
    "external_news = pd.read_csv(path_2, nrows=7000000)\n",
    "\n",
    "oldest_date = external_news['Date'].min()\n",
    "newest_date = external_news['Date'].max()\n",
    "\n",
    "# Display the range of dates\n",
    "print(\"Oldest Date:\", oldest_date)\n",
    "print(\"Newest Date:\", newest_date)"
   ]
  },
  {
   "cell_type": "code",
   "execution_count": 21,
   "metadata": {},
   "outputs": [
    {
     "name": "stdout",
     "output_type": "stream",
     "text": [
      "Oldest Date after filtering: 1999-08-31 00:00:00+00:00\n",
      "Newest Date after filtering: 2020-06-11 13:12:35+00:00\n",
      "\n",
      "Yearly Counts of News Entries after filtering:\n",
      "Date\n",
      "1999      3081\n",
      "2000     16176\n",
      "2001     21974\n",
      "2002     22179\n",
      "2003     21557\n",
      "2004     24386\n",
      "2005     30718\n",
      "2006     35964\n",
      "2007    170238\n",
      "2008    449285\n",
      "2009    359794\n",
      "2010    478447\n",
      "2011    657396\n",
      "2012    639932\n",
      "2013    508547\n",
      "2014    580887\n",
      "2015    810248\n",
      "2016    520764\n",
      "2017    344705\n",
      "2018    523476\n",
      "2019    578683\n",
      "2020    201557\n",
      "Name: count, dtype: int64\n"
     ]
    }
   ],
   "source": [
    "external_news['Date'] = pd.to_datetime(external_news['Date'])\n",
    "\n",
    "# Filter rows to include only entries from 1999 or later\n",
    "external_news_filtered = external_news[external_news['Date'].dt.year >= 1999]\n",
    "\n",
    "# Display the range of dates after filtering\n",
    "oldest_date_filtered = external_news_filtered['Date'].min()\n",
    "newest_date_filtered = external_news_filtered['Date'].max()\n",
    "\n",
    "print(\"Oldest Date after filtering:\", oldest_date_filtered)\n",
    "print(\"Newest Date after filtering:\", newest_date_filtered)\n",
    "\n",
    "# Display the yearly count of entries after filtering\n",
    "yearly_counts_filtered = external_news_filtered['Date'].dt.year.value_counts().sort_index()\n",
    "print(\"\\nYearly Counts of News Entries after filtering:\")\n",
    "print(yearly_counts_filtered)"
   ]
  },
  {
   "cell_type": "code",
   "execution_count": 22,
   "metadata": {},
   "outputs": [
    {
     "data": {
      "text/html": [
       "<div>\n",
       "<style scoped>\n",
       "    .dataframe tbody tr th:only-of-type {\n",
       "        vertical-align: middle;\n",
       "    }\n",
       "\n",
       "    .dataframe tbody tr th {\n",
       "        vertical-align: top;\n",
       "    }\n",
       "\n",
       "    .dataframe thead th {\n",
       "        text-align: right;\n",
       "    }\n",
       "</style>\n",
       "<table border=\"1\" class=\"dataframe\">\n",
       "  <thead>\n",
       "    <tr style=\"text-align: right;\">\n",
       "      <th></th>\n",
       "      <th>Date</th>\n",
       "      <th>Article_title</th>\n",
       "      <th>Stock_symbol</th>\n",
       "      <th>Url</th>\n",
       "      <th>Publisher</th>\n",
       "      <th>Author</th>\n",
       "      <th>Article</th>\n",
       "      <th>Lsa_summary</th>\n",
       "      <th>Luhn_summary</th>\n",
       "      <th>Textrank_summary</th>\n",
       "      <th>Lexrank_summary</th>\n",
       "    </tr>\n",
       "  </thead>\n",
       "  <tbody>\n",
       "    <tr>\n",
       "      <th>0</th>\n",
       "      <td>2020-06-05 06:30:54+00:00</td>\n",
       "      <td>Stocks That Hit 52-Week Highs On Friday</td>\n",
       "      <td>A</td>\n",
       "      <td>https://www.benzinga.com/news/20/06/16190091/stocks-that-hit-52-week-highs-on-friday</td>\n",
       "      <td>Benzinga Insights</td>\n",
       "      <td>NaN</td>\n",
       "      <td>NaN</td>\n",
       "      <td>NaN</td>\n",
       "      <td>NaN</td>\n",
       "      <td>NaN</td>\n",
       "      <td>NaN</td>\n",
       "    </tr>\n",
       "    <tr>\n",
       "      <th>1</th>\n",
       "      <td>2020-06-03 06:45:20+00:00</td>\n",
       "      <td>Stocks That Hit 52-Week Highs On Wednesday</td>\n",
       "      <td>A</td>\n",
       "      <td>https://www.benzinga.com/news/20/06/16170189/stocks-that-hit-52-week-highs-on-wednesday</td>\n",
       "      <td>Benzinga Insights</td>\n",
       "      <td>NaN</td>\n",
       "      <td>NaN</td>\n",
       "      <td>NaN</td>\n",
       "      <td>NaN</td>\n",
       "      <td>NaN</td>\n",
       "      <td>NaN</td>\n",
       "    </tr>\n",
       "    <tr>\n",
       "      <th>2</th>\n",
       "      <td>2020-05-26 00:30:07+00:00</td>\n",
       "      <td>71 Biggest Movers From Friday</td>\n",
       "      <td>A</td>\n",
       "      <td>https://www.benzinga.com/news/20/05/16103463/71-biggest-movers-from-friday</td>\n",
       "      <td>Lisa Levin</td>\n",
       "      <td>NaN</td>\n",
       "      <td>NaN</td>\n",
       "      <td>NaN</td>\n",
       "      <td>NaN</td>\n",
       "      <td>NaN</td>\n",
       "      <td>NaN</td>\n",
       "    </tr>\n",
       "    <tr>\n",
       "      <th>3</th>\n",
       "      <td>2020-05-22 08:45:06+00:00</td>\n",
       "      <td>46 Stocks Moving In Friday's Mid-Day Session</td>\n",
       "      <td>A</td>\n",
       "      <td>https://www.benzinga.com/news/20/05/16095921/46-stocks-moving-in-fridays-mid-day-session</td>\n",
       "      <td>Lisa Levin</td>\n",
       "      <td>NaN</td>\n",
       "      <td>NaN</td>\n",
       "      <td>NaN</td>\n",
       "      <td>NaN</td>\n",
       "      <td>NaN</td>\n",
       "      <td>NaN</td>\n",
       "    </tr>\n",
       "    <tr>\n",
       "      <th>4</th>\n",
       "      <td>2020-05-22 07:38:59+00:00</td>\n",
       "      <td>B of A Securities Maintains Neutral on Agilent Technologies, Raises Price Target to $88</td>\n",
       "      <td>A</td>\n",
       "      <td>https://www.benzinga.com/news/20/05/16095304/b-of-a-securities-maintains-neutral-on-agilent-technologies-raises-price-target-to-88</td>\n",
       "      <td>Vick Meyer</td>\n",
       "      <td>NaN</td>\n",
       "      <td>NaN</td>\n",
       "      <td>NaN</td>\n",
       "      <td>NaN</td>\n",
       "      <td>NaN</td>\n",
       "      <td>NaN</td>\n",
       "    </tr>\n",
       "  </tbody>\n",
       "</table>\n",
       "</div>"
      ],
      "text/plain": [
       "                       Date  \\\n",
       "0 2020-06-05 06:30:54+00:00   \n",
       "1 2020-06-03 06:45:20+00:00   \n",
       "2 2020-05-26 00:30:07+00:00   \n",
       "3 2020-05-22 08:45:06+00:00   \n",
       "4 2020-05-22 07:38:59+00:00   \n",
       "\n",
       "                                                                             Article_title  \\\n",
       "0                                                  Stocks That Hit 52-Week Highs On Friday   \n",
       "1                                               Stocks That Hit 52-Week Highs On Wednesday   \n",
       "2                                                            71 Biggest Movers From Friday   \n",
       "3                                             46 Stocks Moving In Friday's Mid-Day Session   \n",
       "4  B of A Securities Maintains Neutral on Agilent Technologies, Raises Price Target to $88   \n",
       "\n",
       "  Stock_symbol  \\\n",
       "0            A   \n",
       "1            A   \n",
       "2            A   \n",
       "3            A   \n",
       "4            A   \n",
       "\n",
       "                                                                                                                                  Url  \\\n",
       "0                                                https://www.benzinga.com/news/20/06/16190091/stocks-that-hit-52-week-highs-on-friday   \n",
       "1                                             https://www.benzinga.com/news/20/06/16170189/stocks-that-hit-52-week-highs-on-wednesday   \n",
       "2                                                          https://www.benzinga.com/news/20/05/16103463/71-biggest-movers-from-friday   \n",
       "3                                            https://www.benzinga.com/news/20/05/16095921/46-stocks-moving-in-fridays-mid-day-session   \n",
       "4  https://www.benzinga.com/news/20/05/16095304/b-of-a-securities-maintains-neutral-on-agilent-technologies-raises-price-target-to-88   \n",
       "\n",
       "           Publisher Author Article  Lsa_summary  Luhn_summary  \\\n",
       "0  Benzinga Insights    NaN     NaN          NaN           NaN   \n",
       "1  Benzinga Insights    NaN     NaN          NaN           NaN   \n",
       "2         Lisa Levin    NaN     NaN          NaN           NaN   \n",
       "3         Lisa Levin    NaN     NaN          NaN           NaN   \n",
       "4         Vick Meyer    NaN     NaN          NaN           NaN   \n",
       "\n",
       "   Textrank_summary  Lexrank_summary  \n",
       "0               NaN              NaN  \n",
       "1               NaN              NaN  \n",
       "2               NaN              NaN  \n",
       "3               NaN              NaN  \n",
       "4               NaN              NaN  "
      ]
     },
     "execution_count": 22,
     "metadata": {},
     "output_type": "execute_result"
    }
   ],
   "source": [
    "external_news_filtered.head()"
   ]
  },
  {
   "cell_type": "code",
   "execution_count": 23,
   "metadata": {},
   "outputs": [
    {
     "name": "stdout",
     "output_type": "stream",
     "text": [
      "Average String Length of Article Titles (in words): 9.749702035416322\n"
     ]
    }
   ],
   "source": [
    "average_title_length = external_news_filtered['Article_title'].dropna().apply(lambda x: len(x.split())).mean()\n",
    "\n",
    "# Display the average string length\n",
    "print(\"Average String Length of Article Titles (in words):\", average_title_length)"
   ]
  },
  {
   "cell_type": "code",
   "execution_count": 24,
   "metadata": {},
   "outputs": [],
   "source": [
    "lexik = [\n",
    "    \"inflation\",\n",
    "    \"Gasoline prices\",\n",
    "    \"Food prices\",\n",
    "    \"deflation\", \n",
    "    \"Consumer price index\",\n",
    "    \"CPI\",\n",
    "    \"Core CPI\"\n",
    "    ]"
   ]
  },
  {
   "cell_type": "code",
   "execution_count": 25,
   "metadata": {},
   "outputs": [
    {
     "name": "stdout",
     "output_type": "stream",
     "text": [
      "The number of news articles containing at least one term from the lexicon is: 12994\n"
     ]
    }
   ],
   "source": [
    "# Apply the function to filter the DataFrame\n",
    "summarized_news_filtered = external_news_filtered[external_news_filtered['Article_title'].apply(lambda text: contains_lexicon_terms(text, lexik))]\n",
    "\n",
    "# Calculate the number of filtered news articles\n",
    "number_of_filtered_news = len(summarized_news_filtered)\n",
    "\n",
    "print(f'The number of news articles containing at least one term from the lexicon is: {number_of_filtered_news}')"
   ]
  },
  {
   "cell_type": "code",
   "execution_count": 26,
   "metadata": {},
   "outputs": [
    {
     "name": "stderr",
     "output_type": "stream",
     "text": [
      "/Users/marc-antoineallard/opt/miniconda3/envs/DataScience/lib/python3.11/site-packages/seaborn/_oldcore.py:1498: DeprecationWarning:\n",
      "\n",
      "is_categorical_dtype is deprecated and will be removed in a future version. Use isinstance(dtype, pd.CategoricalDtype) instead\n",
      "\n",
      "/Users/marc-antoineallard/opt/miniconda3/envs/DataScience/lib/python3.11/site-packages/seaborn/_oldcore.py:1498: DeprecationWarning:\n",
      "\n",
      "is_categorical_dtype is deprecated and will be removed in a future version. Use isinstance(dtype, pd.CategoricalDtype) instead\n",
      "\n",
      "/Users/marc-antoineallard/opt/miniconda3/envs/DataScience/lib/python3.11/site-packages/seaborn/_oldcore.py:1498: DeprecationWarning:\n",
      "\n",
      "is_categorical_dtype is deprecated and will be removed in a future version. Use isinstance(dtype, pd.CategoricalDtype) instead\n",
      "\n"
     ]
    },
    {
     "data": {
      "image/png": "[encoded data removed]",
      "text/plain": [
       "<Figure size 1200x600 with 1 Axes>"
      ]
     },
     "metadata": {},
     "output_type": "display_data"
    }
   ],
   "source": [
    "plot_timeseries_sb(summarized_news_filtered, title='Monthly Counts of News', x_title='Month', y_title='Number of Articles')"
   ]
  },
  {
   "cell_type": "code",
   "execution_count": 27,
   "metadata": {},
   "outputs": [
    {
     "name": "stdout",
     "output_type": "stream",
     "text": [
      "Sample of 100 Titles containing 'inflation':\n",
      "- CANADA FX DEBT-C$ steady but pressured by U.S. inflation data\n",
      "- SanFran Fed sees core inflation holding below 2 pct\n",
      "- Commodity Inflation May Trigger A Gold Rush\n",
      "- Argentina 2016 inflation seen at 40 to 42 pct -finance minister\n",
      "- U.S. Economic Week In Review: Strong Retail Sales And Modest Inflationary Pressures\n",
      "- FED FOCUS-The coming Great Inflation, real or imagined\n",
      "- UPDATE: Bernanke Says Fed is Not Printing Money with Asset Purchases, Fed Has Been Successful in Keeping Inflation Low; Inflation Expectations Have Stayed Low; Fed Has Wanted to Avoid Deflation\n",
      "- General Mills, peers slide after sounding inflation alarm for food industry\n",
      "- China inflation data fails to impress\n",
      "- McCullough: Get Inflation Right, You Get The Bond Market Right\n",
      "- UPDATE: Trichet Says Inflation to Decline Next Year, Stay Above 2% in Coming Months\n",
      "- UMI Reports That Health Insurance Premium Inflation Shrank in 2014\n",
      "- Japan Flash Manufacturing PMI Signals Intensifying Export And Deflation Woes\n",
      "- Yen struggles, euro subdued ahead of inflation data\n",
      "- Why Lower Inflation In India Is A Good Sign For International Investors\n",
      "- Inflation not yet threat to bonds: fund managers\n",
      "- Japan's Aso says BOJ will respond appropriately if the economy gets inflation via ForexLive\n",
      "- TAKE-A-LOOK-Policymakers turn their fire on inflation\n",
      "- TIP: Inflation Protection Is Having A Big, Happy Run In 2019\n",
      "- Brazil tumbles after weak employment report, strong inflation outlook\n",
      "- La Nina Could Stoke Inflationary Pressures\n",
      "- Higher prices add to labor inflation pressure\n",
      "- A Peek Into The Markets: US Stock Futures Edge Lower Ahead Of Consumer Price Index\n",
      "- RPT-UPDATE 2-China June inflation at 3-yr high; revives rate debate\n",
      "- Macri predicts healthy growth, lower inflation in 2017\n",
      "- FOREX-Dollar hits 2-month high vs yen after CPI boost\n",
      "- NY Fed proposes linking wages of poor to inflation\n",
      "- RPT-ECB cuts rates to ward off euro zone deflation threat\n",
      "- ECB flags beefed up QE as growth, inflation outlook fades\n",
      "- MoneyShow.com Investors' Sentiment Indicator Reveals Investors are Still Bullish but Expect Increased Inflation\n",
      "- The Dollar, Commodities And Inflation\n",
      "- UN food index set to ease, inflation fears remain\n",
      "- Philippines Central Bank Keeps Monetary Policy Steady Amid Signs Of Rising Inflation\n",
      "- RPT-PREVIEW-Canada inflation seen at 1.9 pct in July\n",
      "- SHAREHOLDER ALERT: Pomerantz Law Firm Investigates Claims On Behalf of Investors of CPI ...\n",
      "- Fed Might Not Have Full Control Over Inflation - Cramer's Mad Money (12/6/18)\n",
      "- The Fed's Deflation Problem?\n",
      "- Brazil inflation to close 2011 at 5 pct-govt\n",
      "- Brazil's cbank says watching inflation, evaluating actions\n",
      "- UPDATE 1-Serbia's central bank cuts rates on low inflation, weak growth\n",
      "- Market Volatility Bulletin: Is The Long Bond Yield Too Low Relative To Inflation And GDP Growth?\n",
      "- Brazil monthly inflation seen still racing at over 1 pct\n",
      "- Klingman & Associates, LLC Buys Apple Inc, Vanguard Short-Term Inflation-Protected ...\n",
      "- Stoking Fears Of Deflation?\n",
      "- PREVIEW-Rapid China growth seen easing in Q2, June inflation up\n",
      "- EarlyBirdCapital Suspends Coverage on CPI Aerostructures\n",
      "- Fed's Bostic Says Open To Doing 'Whatever It Takes' To Keep US On Inflation Target\n",
      "- Sarkozy takes G20 case to Obama as food prices soar\n",
      "- China's Trade, Inflation And Money Supply - That Trade War Is Having Its Effect\n",
      "- Using BCX's 7+% Yield, To Hedge Against Inflation In Your Income Portfolio\n",
      "- RBC Out Defending Kroger, Believes Food Inflation Is 'On Its Way,' Limited Downside Remaining From These Levels, On 'Precipice Of Improving Results,' Upgrades To Outperform\n",
      "- The 'Paradox Of Inflation' For Stocks... And A Potentially Massive Opportunity\n",
      "- Australia Faces Lower Inflation With Chinese Growth Stalling, Yuan Onshore Offshore Rate Spread Widens\n",
      "- China's yuan fixing, inflation data in focus\n",
      "-  OSI Geospatial Signs US$1.3 Million ECPINS(R) Software Upgrade Contract for the Australian Navy\n",
      "- Tooth Fairy inflation gone wild\n",
      "- Focus on unemployment as inflation in check, Fed doves say\n",
      "- 11 Stocks Providing an Inflation Hedge with Increasing Dividends\n",
      "- Brazil central bank to stay vigilant, inflation resistant-minutes\n",
      "- REFILE-UPDATE 1-Fed's Bullard says U.S. inflation fails to justify near-zero rates\n",
      "- U.S. consumer inflation rises on high gasoline prices\n",
      "- REITs see strong bid as deflationary signals arise\n",
      "- Eurozone Inflation In Question\n",
      "- UPDATE 2-Mexico central bank united on lower inflation view\n",
      "- More from the Bank of Japan (BOJ) Tankan – Firms inflation expectations via ForexLive\n",
      "- Portugal CPI Nov mm -0.2% vs -0.1% exp via ForexLive\n",
      "- Inflation Is Now 2%, Not Good For Bonds.\n",
      "- CPI Aero Announces $11.45 Million Purchase Order for Wing Kits from Northrop Grumman Corporation\n",
      "- 3 Inflation-Beating Stocks to Watch\n",
      "- U.S. Bond Market Week In Review: Is The Fed Getting Inflation Wrong? Edition\n",
      "- Chinese inflation slows further; Shanghai -1.4%\n",
      "- Mexico CPI rises 0.08 pct in 1st-half June\n",
      "- China raises required reserves as inflation stirs\n",
      "- BOJ signals more aggressive policy, sets inflation goal\n",
      "- Swedish cbank not sure inflation rising as forecast - deputy governor\n",
      "- Food prices to rise 9 percent a year: analyst\n",
      "- Inflation? For Muni Investors, The Right Strategy Is Key\n",
      "- Central Banks Vs. Inflation: Who's Winning?\n",
      "- ECB's Orphanides: Inflation not a concern -press\n",
      "- Hey Janet - Inflation Lags, While The Stock Market Leads\n",
      "- BOJ's Kuroda shrugs off need for more easing, bullish on inflation target\n",
      "- Inflation outpaces earnings, threatens spending\n",
      "- BOJ to cut this fiscal year's CPI forecast, keep upbeat outlook: sources\n",
      "- Sterling rides out inflation's fall to record low\n",
      "- Global Revolutions, Rising Food Prices, Hunger Crisis: Evert Fresh Offers Food-Saving Solution to World`s Retailers, Buyers During International Home + Housewares Show\n",
      "- BOJ official: inflation caused solely by weak yen could hurt economy\n",
      "- U.K. Inflation Continues To Cool\n",
      "- South Africa's rand rally reduces some risk to inflation -central bank\n",
      "- Commodities Brings Needed Inflation Protection for Vulnerable Retirement Portfolios\n",
      "- A Stronger Yen Is Positive For Gold, U.S. Inflation Expectations\n",
      "- TREASURIES-Inch up in Asia on safety bid, CPI eyed\n",
      "- Chinese inflation eases in March\n",
      "- International Economic Week In Review: A Rise In Commodity Prices Brings Inflation\n",
      "- Inflation hits consumers hard\n",
      "- Steinberg Global Asset Management Buys Vanguard Short-Term Inflation-Protected Securities, ...\n",
      "- Consumer Price Index: Inflation Rises On Gas And Shelter\n",
      "- ECB watching deflation risks and ready to act, says Draghi\n",
      "- UPDATE 1-World Cup puts Brazil inflation near target ceiling\n",
      "- U.S. Weekly FundFlows Insight Report: Equity Funds Take In Net New Money For The Week In Spite Of Growing Inflation Fears\n",
      "- Fed Meeting On 1-2 May 2018: Impact On Investment Markets, Inflation, And Recession Risk\n"
     ]
    }
   ],
   "source": [
    "if len(summarized_news_filtered) > 0:\n",
    "    print(\"Sample of 100 Titles containing 'inflation':\")\n",
    "    for title in summarized_news_filtered['Article_title'].sample(min(100, len(summarized_news_filtered))):\n",
    "        print(\"-\", title)\n",
    "else:\n",
    "    print(\"No titles found containing 'inflation'.\")"
   ]
  },
  {
   "cell_type": "code",
   "execution_count": 28,
   "metadata": {},
   "outputs": [
    {
     "data": {
      "text/html": [
       "<div>\n",
       "<style scoped>\n",
       "    .dataframe tbody tr th:only-of-type {\n",
       "        vertical-align: middle;\n",
       "    }\n",
       "\n",
       "    .dataframe tbody tr th {\n",
       "        vertical-align: top;\n",
       "    }\n",
       "\n",
       "    .dataframe thead th {\n",
       "        text-align: right;\n",
       "    }\n",
       "</style>\n",
       "<table border=\"1\" class=\"dataframe\">\n",
       "  <thead>\n",
       "    <tr style=\"text-align: right;\">\n",
       "      <th></th>\n",
       "      <th>Date</th>\n",
       "      <th>Article_title</th>\n",
       "      <th>Url</th>\n",
       "      <th>Lsa_summary</th>\n",
       "    </tr>\n",
       "  </thead>\n",
       "  <tbody>\n",
       "    <tr>\n",
       "      <th>0</th>\n",
       "      <td>2023-12-16 23:00:00 UTC</td>\n",
       "      <td>Interesting A Put And Call Options For August 2024</td>\n",
       "      <td>https://www.nasdaq.com/articles/interesting-a-put-and-call-options-for-august-2024</td>\n",
       "      <td>Because the $125.00 strike represents an approximate 10% discount to the current trading price of the stock (in other words it is out-of-the-money by that percentage), there is also the possibility that the put contract would expire worthless. Of course, a lot of upside could potentially be left on the table if A shares really soar, which is why looking at the trailing twelve month trading history for Agilent Technologies, Inc., as well as studying the business fundamentals becomes important. Below is a chart showing A's trailing twelve month trading history, with the $150.00 strike highlighted in red: Considering the fact that the $150.00 strike represents an approximate 8% premium to the current trading price of the stock (in other words it is out-of-the-money by that percentage), there is also the possibility that the covered call contract would expire worthless, in which case the investor would keep both their shares of stock and the premium collected.</td>\n",
       "    </tr>\n",
       "    <tr>\n",
       "      <th>1</th>\n",
       "      <td>2023-12-12 00:00:00 UTC</td>\n",
       "      <td>Wolfe Research Initiates Coverage of Agilent Technologies (A) with Outperform Recommendation</td>\n",
       "      <td>https://www.nasdaq.com/articles/wolfe-research-initiates-coverage-of-agilent-technologies-a-with-outperform-recommendation</td>\n",
       "      <td>Fintel reports that on December 13, 2023, Wolfe Research initiated coverage of Agilent Technologies (NYSE:A) with a Outperform recommendation. Agilent instruments, software, services, solutions, and people provide trusted answers to customers' most challenging questions. Fintel is one of the most comprehensive investing research platforms available to individual investors, traders, financial advisors, and small hedge funds.</td>\n",
       "    </tr>\n",
       "    <tr>\n",
       "      <th>2</th>\n",
       "      <td>2023-12-12 00:00:00 UTC</td>\n",
       "      <td>Agilent Technologies Reaches Analyst Target Price</td>\n",
       "      <td>https://www.nasdaq.com/articles/agilent-technologies-reaches-analyst-target-price-0</td>\n",
       "      <td>In recent trading, shares of Agilent Technologies, Inc. (Symbol: A) have crossed above the average analyst 12-month target price of $132.36, changing hands for $133.74/share. And so with A crossing above that average target price of $132.36/share, investors in A have been given a good signal to spend fresh time assessing the company and deciding for themselves: is $132.36 just one stop on the way to an even higher target, or has the valuation gotten stretched to the point where it is time to think about taking some chips off the table? The Top 25 Broker Analyst Picks of the S&amp;P 500 » Also see:  PXMD Insider Buying  ETM Insider Buying  Funds Holding FXG The views and opinions expressed herein are the views and opinions of the author and do not necessarily reflect those of Nasdaq, Inc.</td>\n",
       "    </tr>\n",
       "    <tr>\n",
       "      <th>3</th>\n",
       "      <td>2023-12-07 00:00:00 UTC</td>\n",
       "      <td>Agilent (A) Enhances BioTek Cytation C10 With New Technology</td>\n",
       "      <td>https://www.nasdaq.com/articles/agilent-a-enhances-biotek-cytation-c10-with-new-technology</td>\n",
       "      <td>Per a Grand View Research report, the global microplate reader market is expected to grow at a CAGR of 7.6% during the forecast period 2023-2030. A Mordor Intelligence report indicates the global live cell imaging market size will reach $2.95 billion by 2028, exhibiting a CAGR of 7.06% between 2023 and 2028. Some better-ranked stocks in the broader technology sector are Badger Meter BMI, Arista Networks ANET and Adobe ADBE.</td>\n",
       "    </tr>\n",
       "    <tr>\n",
       "      <th>4</th>\n",
       "      <td>2023-12-07 00:00:00 UTC</td>\n",
       "      <td>Pre-Market Most Active for Dec 7, 2023 : SQQQ, PLTR, TQQQ, ALT, UBER, PFE, GILD, MRK, AMD, NIO, JBLU, AI</td>\n",
       "      <td>https://www.nasdaq.com/articles/pre-market-most-active-for-dec-7-2023-%3A-sqqq-pltr-tqqq-alt-uber-pfe-gild-mrk-amd-nio-jblu</td>\n",
       "      <td>ProShares UltraPro Short QQQ (SQQQ) is -0.15 at $16.37, with 2,061,124 shares traded. Over the last four weeks they have had 6 up revisions for the earnings forecast, for the fiscal quarter ending Dec 2023. Over the last four weeks they have had 4 up revisions for the earnings forecast, for the fiscal quarter ending Mar 2024.</td>\n",
       "    </tr>\n",
       "  </tbody>\n",
       "</table>\n",
       "</div>"
      ],
      "text/plain": [
       "                      Date  \\\n",
       "0  2023-12-16 23:00:00 UTC   \n",
       "1  2023-12-12 00:00:00 UTC   \n",
       "2  2023-12-12 00:00:00 UTC   \n",
       "3  2023-12-07 00:00:00 UTC   \n",
       "4  2023-12-07 00:00:00 UTC   \n",
       "\n",
       "                                                                                              Article_title  \\\n",
       "0                                                        Interesting A Put And Call Options For August 2024   \n",
       "1              Wolfe Research Initiates Coverage of Agilent Technologies (A) with Outperform Recommendation   \n",
       "2                                                         Agilent Technologies Reaches Analyst Target Price   \n",
       "3                                              Agilent (A) Enhances BioTek Cytation C10 With New Technology   \n",
       "4  Pre-Market Most Active for Dec 7, 2023 : SQQQ, PLTR, TQQQ, ALT, UBER, PFE, GILD, MRK, AMD, NIO, JBLU, AI   \n",
       "\n",
       "                                                                                                                           Url  \\\n",
       "0                                           https://www.nasdaq.com/articles/interesting-a-put-and-call-options-for-august-2024   \n",
       "1   https://www.nasdaq.com/articles/wolfe-research-initiates-coverage-of-agilent-technologies-a-with-outperform-recommendation   \n",
       "2                                          https://www.nasdaq.com/articles/agilent-technologies-reaches-analyst-target-price-0   \n",
       "3                                   https://www.nasdaq.com/articles/agilent-a-enhances-biotek-cytation-c10-with-new-technology   \n",
       "4  https://www.nasdaq.com/articles/pre-market-most-active-for-dec-7-2023-%3A-sqqq-pltr-tqqq-alt-uber-pfe-gild-mrk-amd-nio-jblu   \n",
       "\n",
       "                                                                                                                                                                                                                                                                                                                                                                                                                                                                                                                                                                                                                                                                                                                                                                                                                                                                                                                                                                                                  Lsa_summary  \n",
       "0  Because the $125.00 strike represents an approximate 10% discount to the current trading price of the stock (in other words it is out-of-the-money by that percentage), there is also the possibility that the put contract would expire worthless. Of course, a lot of upside could potentially be left on the table if A shares really soar, which is why looking at the trailing twelve month trading history for Agilent Technologies, Inc., as well as studying the business fundamentals becomes important. Below is a chart showing A's trailing twelve month trading history, with the $150.00 strike highlighted in red: Considering the fact that the $150.00 strike represents an approximate 8% premium to the current trading price of the stock (in other words it is out-of-the-money by that percentage), there is also the possibility that the covered call contract would expire worthless, in which case the investor would keep both their shares of stock and the premium collected.  \n",
       "1                                                                                                                                                                                                                                                                                                                                                                                                                                                                                                                                                                 Fintel reports that on December 13, 2023, Wolfe Research initiated coverage of Agilent Technologies (NYSE:A) with a Outperform recommendation. Agilent instruments, software, services, solutions, and people provide trusted answers to customers' most challenging questions. Fintel is one of the most comprehensive investing research platforms available to individual investors, traders, financial advisors, and small hedge funds.  \n",
       "2                                                                                                                                                                               In recent trading, shares of Agilent Technologies, Inc. (Symbol: A) have crossed above the average analyst 12-month target price of $132.36, changing hands for $133.74/share. And so with A crossing above that average target price of $132.36/share, investors in A have been given a good signal to spend fresh time assessing the company and deciding for themselves: is $132.36 just one stop on the way to an even higher target, or has the valuation gotten stretched to the point where it is time to think about taking some chips off the table? The Top 25 Broker Analyst Picks of the S&P 500 » Also see:  PXMD Insider Buying  ETM Insider Buying  Funds Holding FXG The views and opinions expressed herein are the views and opinions of the author and do not necessarily reflect those of Nasdaq, Inc.  \n",
       "3                                                                                                                                                                                                                                                                                                                                                                                                                                                                                                                                                                 Per a Grand View Research report, the global microplate reader market is expected to grow at a CAGR of 7.6% during the forecast period 2023-2030. A Mordor Intelligence report indicates the global live cell imaging market size will reach $2.95 billion by 2028, exhibiting a CAGR of 7.06% between 2023 and 2028. Some better-ranked stocks in the broader technology sector are Badger Meter BMI, Arista Networks ANET and Adobe ADBE.  \n",
       "4                                                                                                                                                                                                                                                                                                                                                                                                                                                                                                                                                                                                                                                                     ProShares UltraPro Short QQQ (SQQQ) is -0.15 at $16.37, with 2,061,124 shares traded. Over the last four weeks they have had 6 up revisions for the earnings forecast, for the fiscal quarter ending Dec 2023. Over the last four weeks they have had 4 up revisions for the earnings forecast, for the fiscal quarter ending Mar 2024.  "
      ]
     },
     "execution_count": 28,
     "metadata": {},
     "output_type": "execute_result"
    }
   ],
   "source": [
    "# Path to the extracted CSV file\n",
    "csv_file_path = 'data/nasdaq_external_data.csv'\n",
    "\n",
    "columns_to_read = ['Date', 'Article_title', 'Url', 'Lsa_summary']\n",
    "\n",
    "# Read the specified columns from the CSV file into a pandas DataFrame\n",
    "nasdaq_data = pd.read_csv(csv_file_path, usecols=columns_to_read, nrows=5000000)\n",
    "\n",
    "# Display the first few rows of the DataFrame to verify\n",
    "nasdaq_data.head()"
   ]
  },
  {
   "cell_type": "code",
   "execution_count": 52,
   "metadata": {},
   "outputs": [
    {
     "name": "stderr",
     "output_type": "stream",
     "text": [
      "/Users/marc-antoineallard/opt/miniconda3/envs/DataScience/lib/python3.11/site-packages/seaborn/_oldcore.py:1498: DeprecationWarning:\n",
      "\n",
      "is_categorical_dtype is deprecated and will be removed in a future version. Use isinstance(dtype, pd.CategoricalDtype) instead\n",
      "\n",
      "/Users/marc-antoineallard/opt/miniconda3/envs/DataScience/lib/python3.11/site-packages/seaborn/_oldcore.py:1498: DeprecationWarning:\n",
      "\n",
      "is_categorical_dtype is deprecated and will be removed in a future version. Use isinstance(dtype, pd.CategoricalDtype) instead\n",
      "\n",
      "/Users/marc-antoineallard/opt/miniconda3/envs/DataScience/lib/python3.11/site-packages/seaborn/_oldcore.py:1498: DeprecationWarning:\n",
      "\n",
      "is_categorical_dtype is deprecated and will be removed in a future version. Use isinstance(dtype, pd.CategoricalDtype) instead\n",
      "\n"
     ]
    },
    {
     "data": {
      "image/png": "[encoded data removed]",
      "text/plain": [
       "<Figure size 1200x600 with 1 Axes>"
      ]
     },
     "metadata": {},
     "output_type": "display_data"
    }
   ],
   "source": [
    "plot_timeseries_sb(\n",
    "    nasdaq_data,\n",
    "    title=\"Monthly Count of Articles Raw (Log Scale)\",\n",
    "    x_title=\"Date (Monthly)\",\n",
    "    y_title=\"Number of Articles (Log Scale)\",\n",
    "    log=True\n",
    ")"
   ]
  },
  {
   "cell_type": "code",
   "execution_count": 30,
   "metadata": {},
   "outputs": [
    {
     "name": "stdout",
     "output_type": "stream",
     "text": [
      "Oldest Date after filtering: 1999-08-31 00:00:00+00:00\n",
      "Newest Date after filtering: 2024-01-09 00:00:00+00:00\n",
      "\n",
      "Yearly Counts of News Entries after filtering:\n",
      "Date\n",
      "1999      3081\n",
      "2000     16176\n",
      "2001     21974\n",
      "2002     22179\n",
      "2003     21557\n",
      "2004     24386\n",
      "2005     30718\n",
      "2006     35964\n",
      "2007     36029\n",
      "2008     50389\n",
      "2009     63683\n",
      "2010    138419\n",
      "2011    200698\n",
      "2012    223860\n",
      "2013    248428\n",
      "2014    284477\n",
      "2015    333381\n",
      "2016    370436\n",
      "2017    379784\n",
      "2018    418133\n",
      "2019    388108\n",
      "2020    271971\n",
      "2021    181623\n",
      "2022    280354\n",
      "2023    954117\n",
      "2024        70\n",
      "Name: count, dtype: int64\n"
     ]
    }
   ],
   "source": [
    "nasdaq_data['Date'] = pd.to_datetime(nasdaq_data['Date'])\n",
    "\n",
    "# Filter rows to include only entries from 1999 or later\n",
    "nasdaq_data_filtered = nasdaq_data[nasdaq_data['Date'].dt.year >= 1999]\n",
    "\n",
    "\n",
    "# Display the range of dates after filtering\n",
    "oldest_date_filtered = nasdaq_data_filtered['Date'].min()\n",
    "newest_date_filtered = nasdaq_data_filtered['Date'].max()\n",
    "\n",
    "print(\"Oldest Date after filtering:\", oldest_date_filtered)\n",
    "print(\"Newest Date after filtering:\", newest_date_filtered)\n",
    "\n",
    "# Display the yearly count of entries after filtering\n",
    "yearly_counts_filtered = nasdaq_data_filtered['Date'].dt.year.value_counts().sort_index()\n",
    "print(\"\\nYearly Counts of News Entries after filtering:\")\n",
    "print(yearly_counts_filtered)"
   ]
  },
  {
   "cell_type": "code",
   "execution_count": 31,
   "metadata": {},
   "outputs": [],
   "source": [
    "nasdaq_data_filtered.dropna(inplace=True)"
   ]
  },
  {
   "cell_type": "code",
   "execution_count": 32,
   "metadata": {},
   "outputs": [
    {
     "name": "stdout",
     "output_type": "stream",
     "text": [
      "The number of news articles containing at least one term from the lexicon is: 74386\n"
     ]
    }
   ],
   "source": [
    "# Apply the function to filter the DataFrame\n",
    "titles_with_lexicon_terms = nasdaq_data_filtered[nasdaq_data_filtered['Lsa_summary'].apply(lambda text: contains_lexicon_terms(text, lexik))]\n",
    "\n",
    "# Calculate the number of filtered news articles\n",
    "num_titles_with_lexicon_terms = len(titles_with_lexicon_terms)\n",
    "\n",
    "print(f'The number of news articles containing at least one term from the lexicon is: {num_titles_with_lexicon_terms}')"
   ]
  },
  {
   "cell_type": "code",
   "execution_count": 33,
   "metadata": {},
   "outputs": [
    {
     "name": "stdout",
     "output_type": "stream",
     "text": [
      "Sample of 100 Titles containing 'inflation':\n",
      "- By Echo Wang July 21 (Reuters) - The Nasdaq edged higher on Thursday boosted by gains in electric automaker Tesla on its better-than-expected quarterly results, which helped offset a slide in telecom and energy shares. Tesla TSLA.O surged 10.1%, while AT&T Inc T.N tumbled to bring down telecom shares after the wireless carrier cut its cash flow forecast saying some subscribers were delaying bill payments. Rising inflation also led the European Central Bank to belatedly join global peers in a rate-hike cycle with an aggressive 50-basis point increase. \n",
      "\n",
      "- Gold and gold mining stocks rose, with the VanEck Vectors Gold Miners ETF (NYSEMKT: GDX)  up 1.4%. Stocks made gains on Thursday after the Labor Department reported that consumer prices rose less than expected in April, easing worries about inflation. Ubiquiti reversed a decline in gross margin last quarter that was caused by disappointing sales of a newly released consumer product. \n",
      "\n",
      "- By Kevin Buckland and Abhinav Ramnarayan TOKYO/LONDON Feb 16 (Reuters) - U.S. 10-year Treasury yields raced above 1.26% on Tuesday for the first time since last March as expectations of extended fiscal and monetary stimulus alongside hopes of an economic upswing gave the reflation trade another leg higher. \"The market has fully embraced the prospects of Biden's $1.9 trillion stimulus, and the accelerated vaccine rollout is support of further bearish price action as well,\" Westpac strategists told clients. The view that the Fed may let the economy run hot has pushed 10-year inflation expectations near the highest since 2014 at 2.22% but \"real\" or inflation-adjusted yields remain deep in negative territory. \n",
      "\n"
     ]
    }
   ],
   "source": [
    "if len(titles_with_lexicon_terms) > 0:\n",
    "    print(\"Sample of 100 Titles containing 'inflation':\")\n",
    "    for title in titles_with_lexicon_terms['Lsa_summary'].sample(min(3, len(titles_with_lexicon_terms))):\n",
    "        print(\"-\", title, '\\n')\n",
    "else:\n",
    "    print(\"No titles found containing 'inflation'.\")"
   ]
  },
  {
   "cell_type": "code",
   "execution_count": 51,
   "metadata": {},
   "outputs": [
    {
     "name": "stderr",
     "output_type": "stream",
     "text": [
      "/Users/marc-antoineallard/opt/miniconda3/envs/DataScience/lib/python3.11/site-packages/seaborn/_oldcore.py:1498: DeprecationWarning:\n",
      "\n",
      "is_categorical_dtype is deprecated and will be removed in a future version. Use isinstance(dtype, pd.CategoricalDtype) instead\n",
      "\n",
      "/Users/marc-antoineallard/opt/miniconda3/envs/DataScience/lib/python3.11/site-packages/seaborn/_oldcore.py:1498: DeprecationWarning:\n",
      "\n",
      "is_categorical_dtype is deprecated and will be removed in a future version. Use isinstance(dtype, pd.CategoricalDtype) instead\n",
      "\n",
      "/Users/marc-antoineallard/opt/miniconda3/envs/DataScience/lib/python3.11/site-packages/seaborn/_oldcore.py:1498: DeprecationWarning:\n",
      "\n",
      "is_categorical_dtype is deprecated and will be removed in a future version. Use isinstance(dtype, pd.CategoricalDtype) instead\n",
      "\n"
     ]
    },
    {
     "data": {
      "image/png": "[encoded data removed]",
      "text/plain": [
       "<Figure size 1200x600 with 1 Axes>"
      ]
     },
     "metadata": {},
     "output_type": "display_data"
    }
   ],
   "source": [
    "plot_timeseries_sb(\n",
    "    titles_with_lexicon_terms,\n",
    "    title=\"Monthly Count of Articles Filtered on Inflation Topic (Log Scale)\",\n",
    "    x_title=\"Date (Monthly)\",\n",
    "    y_title=\"Number of Articles (Log Scale)\",\n",
    "    log=True\n",
    ")"
   ]
  },
  {
   "cell_type": "code",
   "execution_count": 35,
   "metadata": {},
   "outputs": [
    {
     "data": {
      "text/plain": [
       "40590"
      ]
     },
     "execution_count": 35,
     "metadata": {},
     "output_type": "execute_result"
    }
   ],
   "source": [
    "# Filter news where 'Lsa_summary' has word count > 100\n",
    "nasdaq_news = filter_by_summary_length(titles_with_lexicon_terms.copy(), min_word_count=100)\n",
    "\n",
    "len(nasdaq_news)"
   ]
  },
  {
   "cell_type": "code",
   "execution_count": 36,
   "metadata": {},
   "outputs": [
    {
     "name": "stderr",
     "output_type": "stream",
     "text": [
      "/var/folders/gx/b0gl84xd4rjflbpgs2bhddcc0000gp/T/ipykernel_22298/1451904340.py:145: DeprecationWarning:\n",
      "\n",
      "DataFrameGroupBy.apply operated on the grouping columns. This behavior is deprecated, and in a future version of pandas the grouping columns will be excluded from the operation. Either pass `include_groups=False` to exclude the groupings or explicitly select the grouping columns after groupby to silence this warning.\n",
      "\n"
     ]
    },
    {
     "data": {
      "application/vnd.plotly.v1+json": {
       "config": {
        "plotlyServerURL": "https://plot.ly"
       },
       "data": [
        {
         "alignmentgroup": "True",
         "hovertemplate": "YearMonth=%{x}<br>Count=%{y}<extra></extra>",
         "legendgroup": "",
         "marker": {
          "color": "#636efa",
          "pattern": {
           "shape": ""
          }
         },
         "name": "",
         "offsetgroup": "",
         "orientation": "v",
         "showlegend": false,
         "textposition": "auto",
         "type": "bar",
         "x": [
          "2009-06-01T00:00:00",
          "2009-08-01T00:00:00",
          "2009-09-01T00:00:00",
          "2009-10-01T00:00:00",
          "2009-11-01T00:00:00",
          "2009-12-01T00:00:00",
          "2010-01-01T00:00:00",
          "2010-02-01T00:00:00",
          "2010-03-01T00:00:00",
          "2010-04-01T00:00:00",
          "2010-05-01T00:00:00",
          "2010-06-01T00:00:00",
          "2010-07-01T00:00:00",
          "2010-08-01T00:00:00",
          "2010-09-01T00:00:00",
          "2010-10-01T00:00:00",
          "2010-11-01T00:00:00",
          "2010-12-01T00:00:00",
          "2011-01-01T00:00:00",
          "2011-02-01T00:00:00",
          "2011-03-01T00:00:00",
          "2011-04-01T00:00:00",
          "2011-05-01T00:00:00",
          "2011-06-01T00:00:00",
          "2011-07-01T00:00:00",
          "2011-08-01T00:00:00",
          "2011-09-01T00:00:00",
          "2011-10-01T00:00:00",
          "2011-11-01T00:00:00",
          "2011-12-01T00:00:00",
          "2012-01-01T00:00:00",
          "2012-02-01T00:00:00",
          "2012-03-01T00:00:00",
          "2012-04-01T00:00:00",
          "2012-05-01T00:00:00",
          "2012-06-01T00:00:00",
          "2012-07-01T00:00:00",
          "2012-08-01T00:00:00",
          "2012-09-01T00:00:00",
          "2012-10-01T00:00:00",
          "2012-11-01T00:00:00",
          "2012-12-01T00:00:00",
          "2013-01-01T00:00:00",
          "2013-02-01T00:00:00",
          "2013-03-01T00:00:00",
          "2013-04-01T00:00:00",
          "2013-05-01T00:00:00",
          "2013-06-01T00:00:00",
          "2013-07-01T00:00:00",
          "2013-08-01T00:00:00",
          "2013-09-01T00:00:00",
          "2013-10-01T00:00:00",
          "2013-11-01T00:00:00",
          "2013-12-01T00:00:00",
          "2014-01-01T00:00:00",
          "2014-02-01T00:00:00",
          "2014-03-01T00:00:00",
          "2014-04-01T00:00:00",
          "2014-05-01T00:00:00",
          "2014-06-01T00:00:00",
          "2014-07-01T00:00:00",
          "2014-08-01T00:00:00",
          "2014-09-01T00:00:00",
          "2014-10-01T00:00:00",
          "2014-11-01T00:00:00",
          "2014-12-01T00:00:00",
          "2015-01-01T00:00:00",
          "2015-02-01T00:00:00",
          "2015-03-01T00:00:00",
          "2015-04-01T00:00:00",
          "2015-05-01T00:00:00",
          "2015-06-01T00:00:00",
          "2015-07-01T00:00:00",
          "2015-08-01T00:00:00",
          "2015-09-01T00:00:00",
          "2015-10-01T00:00:00",
          "2015-11-01T00:00:00",
          "2015-12-01T00:00:00",
          "2016-01-01T00:00:00",
          "2016-02-01T00:00:00",
          "2016-03-01T00:00:00",
          "2016-04-01T00:00:00",
          "2016-05-01T00:00:00",
          "2016-06-01T00:00:00",
          "2016-07-01T00:00:00",
          "2016-08-01T00:00:00",
          "2016-09-01T00:00:00",
          "2016-10-01T00:00:00",
          "2016-11-01T00:00:00",
          "2016-12-01T00:00:00",
          "2017-01-01T00:00:00",
          "2017-02-01T00:00:00",
          "2017-03-01T00:00:00",
          "2017-04-01T00:00:00",
          "2017-05-01T00:00:00",
          "2017-06-01T00:00:00",
          "2017-07-01T00:00:00",
          "2017-08-01T00:00:00",
          "2017-09-01T00:00:00",
          "2017-10-01T00:00:00",
          "2017-11-01T00:00:00",
          "2017-12-01T00:00:00",
          "2018-01-01T00:00:00",
          "2018-02-01T00:00:00",
          "2018-03-01T00:00:00",
          "2018-04-01T00:00:00",
          "2018-05-01T00:00:00",
          "2018-06-01T00:00:00",
          "2018-07-01T00:00:00",
          "2018-08-01T00:00:00",
          "2018-09-01T00:00:00",
          "2018-10-01T00:00:00",
          "2018-11-01T00:00:00",
          "2018-12-01T00:00:00",
          "2019-01-01T00:00:00",
          "2019-02-01T00:00:00",
          "2019-03-01T00:00:00",
          "2019-04-01T00:00:00",
          "2019-05-01T00:00:00",
          "2019-06-01T00:00:00",
          "2019-07-01T00:00:00",
          "2019-08-01T00:00:00",
          "2019-09-01T00:00:00",
          "2019-10-01T00:00:00",
          "2019-11-01T00:00:00",
          "2019-12-01T00:00:00",
          "2020-01-01T00:00:00",
          "2020-02-01T00:00:00",
          "2020-03-01T00:00:00",
          "2020-04-01T00:00:00",
          "2020-05-01T00:00:00",
          "2020-06-01T00:00:00",
          "2020-07-01T00:00:00",
          "2020-08-01T00:00:00",
          "2020-09-01T00:00:00",
          "2020-10-01T00:00:00",
          "2020-11-01T00:00:00",
          "2020-12-01T00:00:00",
          "2021-01-01T00:00:00",
          "2021-02-01T00:00:00",
          "2021-03-01T00:00:00",
          "2021-04-01T00:00:00",
          "2021-05-01T00:00:00",
          "2021-06-01T00:00:00",
          "2021-07-01T00:00:00",
          "2021-08-01T00:00:00",
          "2021-09-01T00:00:00",
          "2021-10-01T00:00:00",
          "2021-11-01T00:00:00",
          "2021-12-01T00:00:00",
          "2022-01-01T00:00:00",
          "2022-02-01T00:00:00",
          "2022-03-01T00:00:00",
          "2022-04-01T00:00:00",
          "2022-05-01T00:00:00",
          "2022-06-01T00:00:00",
          "2022-07-01T00:00:00",
          "2022-08-01T00:00:00",
          "2022-09-01T00:00:00",
          "2022-10-01T00:00:00",
          "2022-11-01T00:00:00",
          "2022-12-01T00:00:00",
          "2023-01-01T00:00:00",
          "2023-02-01T00:00:00",
          "2023-03-01T00:00:00",
          "2023-04-01T00:00:00",
          "2023-05-01T00:00:00",
          "2023-06-01T00:00:00",
          "2023-07-01T00:00:00",
          "2023-08-01T00:00:00",
          "2023-09-01T00:00:00",
          "2023-10-01T00:00:00",
          "2023-11-01T00:00:00",
          "2023-12-01T00:00:00"
         ],
         "xaxis": "x",
         "y": [
          1,
          2,
          1,
          7,
          12,
          5,
          2,
          10,
          11,
          9,
          20,
          20,
          1,
          12,
          12,
          20,
          20,
          20,
          20,
          20,
          20,
          20,
          18,
          14,
          20,
          20,
          14,
          10,
          6,
          8,
          7,
          18,
          15,
          12,
          15,
          14,
          15,
          20,
          20,
          20,
          20,
          20,
          20,
          20,
          20,
          20,
          20,
          20,
          20,
          20,
          12,
          20,
          19,
          18,
          20,
          20,
          19,
          20,
          13,
          20,
          20,
          20,
          20,
          20,
          20,
          20,
          20,
          20,
          20,
          18,
          20,
          11,
          16,
          12,
          20,
          20,
          18,
          20,
          19,
          20,
          20,
          20,
          20,
          20,
          20,
          20,
          20,
          20,
          20,
          20,
          20,
          20,
          20,
          19,
          20,
          20,
          20,
          20,
          20,
          20,
          20,
          20,
          20,
          20,
          20,
          20,
          20,
          20,
          20,
          20,
          20,
          20,
          20,
          20,
          20,
          20,
          20,
          20,
          20,
          20,
          16,
          20,
          18,
          16,
          20,
          20,
          20,
          12,
          7,
          13,
          20,
          20,
          20,
          20,
          20,
          20,
          20,
          20,
          20,
          20,
          20,
          20,
          20,
          20,
          20,
          20,
          20,
          20,
          20,
          20,
          20,
          20,
          20,
          20,
          20,
          20,
          20,
          20,
          20,
          20,
          20,
          20,
          20,
          20,
          20,
          20,
          20,
          20,
          20,
          20,
          20,
          20,
          20,
          20
         ],
         "yaxis": "y"
        }
       ],
       "layout": {
        "barmode": "relative",
        "legend": {
         "tracegroupgap": 0
        },
        "template": {
         "data": {
          "bar": [
           {
            "error_x": {
             "color": "#2a3f5f"
            },
            "error_y": {
             "color": "#2a3f5f"
            },
            "marker": {
             "line": {
              "color": "#E5ECF6",
              "width": 0.5
             },
             "pattern": {
              "fillmode": "overlay",
              "size": 10,
              "solidity": 0.2
             }
            },
            "type": "bar"
           }
          ],
          "barpolar": [
           {
            "marker": {
             "line": {
              "color": "#E5ECF6",
              "width": 0.5
             },
             "pattern": {
              "fillmode": "overlay",
              "size": 10,
              "solidity": 0.2
             }
            },
            "type": "barpolar"
           }
          ],
          "carpet": [
           {
            "aaxis": {
             "endlinecolor": "#2a3f5f",
             "gridcolor": "white",
             "linecolor": "white",
             "minorgridcolor": "white",
             "startlinecolor": "#2a3f5f"
            },
            "baxis": {
             "endlinecolor": "#2a3f5f",
             "gridcolor": "white",
             "linecolor": "white",
             "minorgridcolor": "white",
             "startlinecolor": "#2a3f5f"
            },
            "type": "carpet"
           }
          ],
          "choropleth": [
           {
            "colorbar": {
             "outlinewidth": 0,
             "ticks": ""
            },
            "type": "choropleth"
           }
          ],
          "contour": [
           {
            "colorbar": {
             "outlinewidth": 0,
             "ticks": ""
            },
            "colorscale": [
             [
              0,
              "#0d0887"
             ],
             [
              0.1111111111111111,
              "#46039f"
             ],
             [
              0.2222222222222222,
              "#7201a8"
             ],
             [
              0.3333333333333333,
              "#9c179e"
             ],
             [
              0.4444444444444444,
              "#bd3786"
             ],
             [
              0.5555555555555556,
              "#d8576b"
             ],
             [
              0.6666666666666666,
              "#ed7953"
             ],
             [
              0.7777777777777778,
              "#fb9f3a"
             ],
             [
              0.8888888888888888,
              "#fdca26"
             ],
             [
              1,
              "#f0f921"
             ]
            ],
            "type": "contour"
           }
          ],
          "contourcarpet": [
           {
            "colorbar": {
             "outlinewidth": 0,
             "ticks": ""
            },
            "type": "contourcarpet"
           }
          ],
          "heatmap": [
           {
            "colorbar": {
             "outlinewidth": 0,
             "ticks": ""
            },
            "colorscale": [
             [
              0,
              "#0d0887"
             ],
             [
              0.1111111111111111,
              "#46039f"
             ],
             [
              0.2222222222222222,
              "#7201a8"
             ],
             [
              0.3333333333333333,
              "#9c179e"
             ],
             [
              0.4444444444444444,
              "#bd3786"
             ],
             [
              0.5555555555555556,
              "#d8576b"
             ],
             [
              0.6666666666666666,
              "#ed7953"
             ],
             [
              0.7777777777777778,
              "#fb9f3a"
             ],
             [
              0.8888888888888888,
              "#fdca26"
             ],
             [
              1,
              "#f0f921"
             ]
            ],
            "type": "heatmap"
           }
          ],
          "heatmapgl": [
           {
            "colorbar": {
             "outlinewidth": 0,
             "ticks": ""
            },
            "colorscale": [
             [
              0,
              "#0d0887"
             ],
             [
              0.1111111111111111,
              "#46039f"
             ],
             [
              0.2222222222222222,
              "#7201a8"
             ],
             [
              0.3333333333333333,
              "#9c179e"
             ],
             [
              0.4444444444444444,
              "#bd3786"
             ],
             [
              0.5555555555555556,
              "#d8576b"
             ],
             [
              0.6666666666666666,
              "#ed7953"
             ],
             [
              0.7777777777777778,
              "#fb9f3a"
             ],
             [
              0.8888888888888888,
              "#fdca26"
             ],
             [
              1,
              "#f0f921"
             ]
            ],
            "type": "heatmapgl"
           }
          ],
          "histogram": [
           {
            "marker": {
             "pattern": {
              "fillmode": "overlay",
              "size": 10,
              "solidity": 0.2
             }
            },
            "type": "histogram"
           }
          ],
          "histogram2d": [
           {
            "colorbar": {
             "outlinewidth": 0,
             "ticks": ""
            },
            "colorscale": [
             [
              0,
              "#0d0887"
             ],
             [
              0.1111111111111111,
              "#46039f"
             ],
             [
              0.2222222222222222,
              "#7201a8"
             ],
             [
              0.3333333333333333,
              "#9c179e"
             ],
             [
              0.4444444444444444,
              "#bd3786"
             ],
             [
              0.5555555555555556,
              "#d8576b"
             ],
             [
              0.6666666666666666,
              "#ed7953"
             ],
             [
              0.7777777777777778,
              "#fb9f3a"
             ],
             [
              0.8888888888888888,
              "#fdca26"
             ],
             [
              1,
              "#f0f921"
             ]
            ],
            "type": "histogram2d"
           }
          ],
          "histogram2dcontour": [
           {
            "colorbar": {
             "outlinewidth": 0,
             "ticks": ""
            },
            "colorscale": [
             [
              0,
              "#0d0887"
             ],
             [
              0.1111111111111111,
              "#46039f"
             ],
             [
              0.2222222222222222,
              "#7201a8"
             ],
             [
              0.3333333333333333,
              "#9c179e"
             ],
             [
              0.4444444444444444,
              "#bd3786"
             ],
             [
              0.5555555555555556,
              "#d8576b"
             ],
             [
              0.6666666666666666,
              "#ed7953"
             ],
             [
              0.7777777777777778,
              "#fb9f3a"
             ],
             [
              0.8888888888888888,
              "#fdca26"
             ],
             [
              1,
              "#f0f921"
             ]
            ],
            "type": "histogram2dcontour"
           }
          ],
          "mesh3d": [
           {
            "colorbar": {
             "outlinewidth": 0,
             "ticks": ""
            },
            "type": "mesh3d"
           }
          ],
          "parcoords": [
           {
            "line": {
             "colorbar": {
              "outlinewidth": 0,
              "ticks": ""
             }
            },
            "type": "parcoords"
           }
          ],
          "pie": [
           {
            "automargin": true,
            "type": "pie"
           }
          ],
          "scatter": [
           {
            "fillpattern": {
             "fillmode": "overlay",
             "size": 10,
             "solidity": 0.2
            },
            "type": "scatter"
           }
          ],
          "scatter3d": [
           {
            "line": {
             "colorbar": {
              "outlinewidth": 0,
              "ticks": ""
             }
            },
            "marker": {
             "colorbar": {
              "outlinewidth": 0,
              "ticks": ""
             }
            },
            "type": "scatter3d"
           }
          ],
          "scattercarpet": [
           {
            "marker": {
             "colorbar": {
              "outlinewidth": 0,
              "ticks": ""
             }
            },
            "type": "scattercarpet"
           }
          ],
          "scattergeo": [
           {
            "marker": {
             "colorbar": {
              "outlinewidth": 0,
              "ticks": ""
             }
            },
            "type": "scattergeo"
           }
          ],
          "scattergl": [
           {
            "marker": {
             "colorbar": {
              "outlinewidth": 0,
              "ticks": ""
             }
            },
            "type": "scattergl"
           }
          ],
          "scattermapbox": [
           {
            "marker": {
             "colorbar": {
              "outlinewidth": 0,
              "ticks": ""
             }
            },
            "type": "scattermapbox"
           }
          ],
          "scatterpolar": [
           {
            "marker": {
             "colorbar": {
              "outlinewidth": 0,
              "ticks": ""
             }
            },
            "type": "scatterpolar"
           }
          ],
          "scatterpolargl": [
           {
            "marker": {
             "colorbar": {
              "outlinewidth": 0,
              "ticks": ""
             }
            },
            "type": "scatterpolargl"
           }
          ],
          "scatterternary": [
           {
            "marker": {
             "colorbar": {
              "outlinewidth": 0,
              "ticks": ""
             }
            },
            "type": "scatterternary"
           }
          ],
          "surface": [
           {
            "colorbar": {
             "outlinewidth": 0,
             "ticks": ""
            },
            "colorscale": [
             [
              0,
              "#0d0887"
             ],
             [
              0.1111111111111111,
              "#46039f"
             ],
             [
              0.2222222222222222,
              "#7201a8"
             ],
             [
              0.3333333333333333,
              "#9c179e"
             ],
             [
              0.4444444444444444,
              "#bd3786"
             ],
             [
              0.5555555555555556,
              "#d8576b"
             ],
             [
              0.6666666666666666,
              "#ed7953"
             ],
             [
              0.7777777777777778,
              "#fb9f3a"
             ],
             [
              0.8888888888888888,
              "#fdca26"
             ],
             [
              1,
              "#f0f921"
             ]
            ],
            "type": "surface"
           }
          ],
          "table": [
           {
            "cells": {
             "fill": {
              "color": "#EBF0F8"
             },
             "line": {
              "color": "white"
             }
            },
            "header": {
             "fill": {
              "color": "#C8D4E3"
             },
             "line": {
              "color": "white"
             }
            },
            "type": "table"
           }
          ]
         },
         "layout": {
          "annotationdefaults": {
           "arrowcolor": "#2a3f5f",
           "arrowhead": 0,
           "arrowwidth": 1
          },
          "autotypenumbers": "strict",
          "coloraxis": {
           "colorbar": {
            "outlinewidth": 0,
            "ticks": ""
           }
          },
          "colorscale": {
           "diverging": [
            [
             0,
             "#8e0152"
            ],
            [
             0.1,
             "#c51b7d"
            ],
            [
             0.2,
             "#de77ae"
            ],
            [
             0.3,
             "#f1b6da"
            ],
            [
             0.4,
             "#fde0ef"
            ],
            [
             0.5,
             "#f7f7f7"
            ],
            [
             0.6,
             "#e6f5d0"
            ],
            [
             0.7,
             "#b8e186"
            ],
            [
             0.8,
             "#7fbc41"
            ],
            [
             0.9,
             "#4d9221"
            ],
            [
             1,
             "#276419"
            ]
           ],
           "sequential": [
            [
             0,
             "#0d0887"
            ],
            [
             0.1111111111111111,
             "#46039f"
            ],
            [
             0.2222222222222222,
             "#7201a8"
            ],
            [
             0.3333333333333333,
             "#9c179e"
            ],
            [
             0.4444444444444444,
             "#bd3786"
            ],
            [
             0.5555555555555556,
             "#d8576b"
            ],
            [
             0.6666666666666666,
             "#ed7953"
            ],
            [
             0.7777777777777778,
             "#fb9f3a"
            ],
            [
             0.8888888888888888,
             "#fdca26"
            ],
            [
             1,
             "#f0f921"
            ]
           ],
           "sequentialminus": [
            [
             0,
             "#0d0887"
            ],
            [
             0.1111111111111111,
             "#46039f"
            ],
            [
             0.2222222222222222,
             "#7201a8"
            ],
            [
             0.3333333333333333,
             "#9c179e"
            ],
            [
             0.4444444444444444,
             "#bd3786"
            ],
            [
             0.5555555555555556,
             "#d8576b"
            ],
            [
             0.6666666666666666,
             "#ed7953"
            ],
            [
             0.7777777777777778,
             "#fb9f3a"
            ],
            [
             0.8888888888888888,
             "#fdca26"
            ],
            [
             1,
             "#f0f921"
            ]
           ]
          },
          "colorway": [
           "#636efa",
           "#EF553B",
           "#00cc96",
           "#ab63fa",
           "#FFA15A",
           "#19d3f3",
           "#FF6692",
           "#B6E880",
           "#FF97FF",
           "#FECB52"
          ],
          "font": {
           "color": "#2a3f5f"
          },
          "geo": {
           "bgcolor": "white",
           "lakecolor": "white",
           "landcolor": "#E5ECF6",
           "showlakes": true,
           "showland": true,
           "subunitcolor": "white"
          },
          "hoverlabel": {
           "align": "left"
          },
          "hovermode": "closest",
          "mapbox": {
           "style": "light"
          },
          "paper_bgcolor": "white",
          "plot_bgcolor": "#E5ECF6",
          "polar": {
           "angularaxis": {
            "gridcolor": "white",
            "linecolor": "white",
            "ticks": ""
           },
           "bgcolor": "#E5ECF6",
           "radialaxis": {
            "gridcolor": "white",
            "linecolor": "white",
            "ticks": ""
           }
          },
          "scene": {
           "xaxis": {
            "backgroundcolor": "#E5ECF6",
            "gridcolor": "white",
            "gridwidth": 2,
            "linecolor": "white",
            "showbackground": true,
            "ticks": "",
            "zerolinecolor": "white"
           },
           "yaxis": {
            "backgroundcolor": "#E5ECF6",
            "gridcolor": "white",
            "gridwidth": 2,
            "linecolor": "white",
            "showbackground": true,
            "ticks": "",
            "zerolinecolor": "white"
           },
           "zaxis": {
            "backgroundcolor": "#E5ECF6",
            "gridcolor": "white",
            "gridwidth": 2,
            "linecolor": "white",
            "showbackground": true,
            "ticks": "",
            "zerolinecolor": "white"
           }
          },
          "shapedefaults": {
           "line": {
            "color": "#2a3f5f"
           }
          },
          "ternary": {
           "aaxis": {
            "gridcolor": "white",
            "linecolor": "white",
            "ticks": ""
           },
           "baxis": {
            "gridcolor": "white",
            "linecolor": "white",
            "ticks": ""
           },
           "bgcolor": "#E5ECF6",
           "caxis": {
            "gridcolor": "white",
            "linecolor": "white",
            "ticks": ""
           }
          },
          "title": {
           "x": 0.05
          },
          "xaxis": {
           "automargin": true,
           "gridcolor": "white",
           "linecolor": "white",
           "ticks": "",
           "title": {
            "standoff": 15
           },
           "zerolinecolor": "white",
           "zerolinewidth": 2
          },
          "yaxis": {
           "automargin": true,
           "gridcolor": "white",
           "linecolor": "white",
           "ticks": "",
           "title": {
            "standoff": 15
           },
           "zerolinecolor": "white",
           "zerolinewidth": 2
          }
         }
        },
        "title": {
         "text": "Monthly Count of Sentiment-Labeled News Articles"
        },
        "xaxis": {
         "anchor": "y",
         "domain": [
          0,
          1
         ],
         "tickangle": -45,
         "tickformat": "%Y-%m",
         "title": {
          "text": "Month"
         }
        },
        "yaxis": {
         "anchor": "x",
         "domain": [
          0,
          1
         ],
         "title": {
          "text": "Number of Articles"
         }
        }
       }
      }
     },
     "metadata": {},
     "output_type": "display_data"
    }
   ],
   "source": [
    "nasdaq_news = filter_by_month(nasdaq_news, max_entries=20)\n",
    "plot_timeseries(nasdaq_news)"
   ]
  },
  {
   "cell_type": "code",
   "execution_count": 53,
   "metadata": {},
   "outputs": [
    {
     "name": "stderr",
     "output_type": "stream",
     "text": [
      "/Users/marc-antoineallard/opt/miniconda3/envs/DataScience/lib/python3.11/site-packages/seaborn/_oldcore.py:1498: DeprecationWarning:\n",
      "\n",
      "is_categorical_dtype is deprecated and will be removed in a future version. Use isinstance(dtype, pd.CategoricalDtype) instead\n",
      "\n",
      "/Users/marc-antoineallard/opt/miniconda3/envs/DataScience/lib/python3.11/site-packages/seaborn/_oldcore.py:1498: DeprecationWarning:\n",
      "\n",
      "is_categorical_dtype is deprecated and will be removed in a future version. Use isinstance(dtype, pd.CategoricalDtype) instead\n",
      "\n",
      "/Users/marc-antoineallard/opt/miniconda3/envs/DataScience/lib/python3.11/site-packages/seaborn/_oldcore.py:1498: DeprecationWarning:\n",
      "\n",
      "is_categorical_dtype is deprecated and will be removed in a future version. Use isinstance(dtype, pd.CategoricalDtype) instead\n",
      "\n"
     ]
    },
    {
     "data": {
      "image/png": "[encoded data removed]",
      "text/plain": [
       "<Figure size 1200x600 with 1 Axes>"
      ]
     },
     "metadata": {},
     "output_type": "display_data"
    }
   ],
   "source": [
    "plot_timeseries_sb(\n",
    "    nasdaq_news,\n",
    "    title=\"Monthly Count of Articles Training Set\",\n",
    "    x_title=\"Date (Monthly)\",\n",
    "    y_title=\"Number of Articles\"\n",
    ")"
   ]
  },
  {
   "cell_type": "code",
   "execution_count": 55,
   "metadata": {},
   "outputs": [
    {
     "name": "stdout",
     "output_type": "stream",
     "text": [
      "\n",
      "Yearly Counts of News Entries after filtering:\n",
      "Date\n",
      "2010    157\n",
      "2011    190\n",
      "2012    196\n",
      "2013    229\n",
      "2014    232\n",
      "2015    215\n",
      "2016    239\n",
      "2017    239\n",
      "2018    240\n",
      "2019    230\n",
      "Name: count, dtype: int64\n"
     ]
    }
   ],
   "source": [
    "nasdaq_news_count = nasdaq_news['Date'].dt.year.value_counts().sort_index()\n",
    "print(\"\\nYearly Counts of News Entries after filtering:\")\n",
    "print(nasdaq_news_count)"
   ]
  },
  {
   "cell_type": "markdown",
   "metadata": {},
   "source": [
    "- We drop 2009"
   ]
  },
  {
   "cell_type": "code",
   "execution_count": 39,
   "metadata": {},
   "outputs": [
    {
     "name": "stdout",
     "output_type": "stream",
     "text": [
      "\n",
      "Yearly Counts of News Entries after filtering:\n",
      "Date\n",
      "2010    157\n",
      "2011    190\n",
      "2012    196\n",
      "2013    229\n",
      "2014    232\n",
      "2015    215\n",
      "2016    239\n",
      "2017    239\n",
      "2018    240\n",
      "2019    230\n",
      "Name: count, dtype: int64\n",
      "-----------\n",
      "Final size clean dataset: 2167\n"
     ]
    }
   ],
   "source": [
    "nasdaq_news = nasdaq_news[nasdaq_news['Date'].dt.year >= 2010]\n",
    "nasdaq_news = nasdaq_news[nasdaq_news['Date'].dt.year <= 2019]\n",
    "\n",
    "nasdaq_news_count = nasdaq_news['Date'].dt.year.value_counts().sort_index()\n",
    "print(\"\\nYearly Counts of News Entries after filtering:\")\n",
    "print(nasdaq_news_count)\n",
    "print(\"-----------\")\n",
    "print(f\"Final size clean dataset: {len(nasdaq_news)}\")"
   ]
  },
  {
   "cell_type": "code",
   "execution_count": 40,
   "metadata": {},
   "outputs": [],
   "source": [
    "nasdaq_news = nasdaq_news.rename(columns={'Lsa_summary': 'Summary'})[['Date', 'Summary']]"
   ]
  },
  {
   "cell_type": "code",
   "execution_count": 41,
   "metadata": {},
   "outputs": [
    {
     "name": "stdout",
     "output_type": "stream",
     "text": [
      "<class 'pandas.core.frame.DataFrame'>\n",
      "Index: 2167 entries, 28 to 2194\n",
      "Data columns (total 2 columns):\n",
      " #   Column   Non-Null Count  Dtype              \n",
      "---  ------   --------------  -----              \n",
      " 0   Date     2167 non-null   datetime64[ns, UTC]\n",
      " 1   Summary  2167 non-null   object             \n",
      "dtypes: datetime64[ns, UTC](1), object(1)\n",
      "memory usage: 50.8+ KB\n"
     ]
    }
   ],
   "source": [
    "nasdaq_news.info()"
   ]
  },
  {
   "cell_type": "code",
   "execution_count": 42,
   "metadata": {},
   "outputs": [],
   "source": [
    "nasdaq_news['label'] = nasdaq_news.apply(lambda x: 0)"
   ]
  },
  {
   "cell_type": "code",
   "execution_count": 43,
   "metadata": {},
   "outputs": [],
   "source": [
    "# nasdaq_news.to_parquet('data/nasdaq_news_index_2010_2023.parquet')"
   ]
  },
  {
   "cell_type": "code",
   "execution_count": 44,
   "metadata": {},
   "outputs": [
    {
     "name": "stdout",
     "output_type": "stream",
     "text": [
      "\n",
      "Yearly Counts of News Entries train split:\n",
      "Date\n",
      "2010    157\n",
      "2011    190\n",
      "2012    196\n",
      "2013    229\n",
      "2014    232\n",
      "2015    215\n",
      "2016    239\n",
      "2017    239\n",
      "2018    240\n",
      "2019    230\n",
      "Name: count, dtype: int64\n",
      "-----------\n",
      "Final size clean dataset: 2167\n"
     ]
    }
   ],
   "source": [
    "\n",
    "nasdaq_news_count = nasdaq_news['Date'].dt.year.value_counts().sort_index()\n",
    "print(\"\\nYearly Counts of News Entries train split:\")\n",
    "print(nasdaq_news_count)\n",
    "print(\"-----------\")\n",
    "print(f\"Final size clean dataset: {len(nasdaq_news)}\")"
   ]
  },
  {
   "cell_type": "markdown",
   "metadata": {},
   "source": [
    "---\n",
    "**Prompt for GPT labelling:**\n",
    "\n",
    "Here is a financial news article related to inflation. Please read the article and determine whether it expresses a sentiment that inflation will go up, go down, or if it makes no clear expression. Use any financial knowledge you have.\n",
    "\n",
    "Respond with a SINGLE number (no explanation needed):\n",
    "\n",
    "- 1 if the article expresses inflation will go up.\n",
    "- -1 if the article expresses inflation will go down.\n",
    "- 0 if the article sentiment about inflation is neutral.\n",
    "\n",
    "Here's the article:\n",
    "\n",
    "[Insert the text of the article here]\n",
    "\n",
    "\n",
    "---"
   ]
  },
  {
   "cell_type": "markdown",
   "metadata": {},
   "source": []
  }
 ],
 "metadata": {
  "kernelspec": {
   "display_name": "DataScience",
   "language": "python",
   "name": "python3"
  },
  "language_info": {
   "codemirror_mode": {
    "name": "ipython",
    "version": 3
   },
   "file_extension": ".py",
   "mimetype": "text/x-python",
   "name": "python",
   "nbconvert_exporter": "python",
   "pygments_lexer": "ipython3",
   "version": "3.11.4"
  }
 },
 "nbformat": 4,
 "nbformat_minor": 2
}
