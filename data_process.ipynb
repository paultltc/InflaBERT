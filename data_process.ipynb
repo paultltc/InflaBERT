{
 "cells": [
  {
   "cell_type": "code",
   "execution_count": 20,
   "metadata": {},
   "outputs": [],
   "source": [
    "from datasets import load_dataset, ClassLabel"
   ]
  },
  {
   "cell_type": "code",
   "execution_count": 28,
   "metadata": {},
   "outputs": [],
   "source": [
    "DATA_PATH = 'data/news/gpt4'"
   ]
  },
  {
   "cell_type": "markdown",
   "metadata": {},
   "source": [
    "# **SA Training Dataset**"
   ]
  },
  {
   "cell_type": "code",
   "execution_count": 30,
   "metadata": {},
   "outputs": [
    {
     "name": "stderr",
     "output_type": "stream",
     "text": [
      "Generating train split: 1835 examples [00:00, 236315.14 examples/s]\n",
      "Generating train_upsample split: 3000 examples [00:00, 214129.84 examples/s]\n",
      "Generating test split: 360 examples [00:00, 85792.58 examples/s]\n",
      "Map: 100%|██████████| 1835/1835 [00:00<00:00, 25563.05 examples/s]\n",
      "Map: 100%|██████████| 3000/3000 [00:00<00:00, 27620.51 examples/s]\n",
      "Map: 100%|██████████| 360/360 [00:00<00:00, 19199.80 examples/s]\n"
     ]
    },
    {
     "data": {
      "text/plain": [
       "DatasetDict({\n",
       "    train: Dataset({\n",
       "        features: ['text', 'label'],\n",
       "        num_rows: 1835\n",
       "    })\n",
       "    train_upsample: Dataset({\n",
       "        features: ['text', 'label'],\n",
       "        num_rows: 3000\n",
       "    })\n",
       "    test: Dataset({\n",
       "        features: ['text', 'label'],\n",
       "        num_rows: 360\n",
       "    })\n",
       "})"
      ]
     },
     "execution_count": 30,
     "metadata": {},
     "output_type": "execute_result"
    }
   ],
   "source": [
    "# Load Dataset\n",
    "ds = load_dataset('json', data_files={'train': f'{DATA_PATH}/news_train_gpt4.jsonl', \n",
    "                                      'train_upsample': f'{DATA_PATH}/news_train_upsampled_gpt4.jsonl', \n",
    "                                      'test': f'{DATA_PATH}/news_test_gpt4.jsonl'})\n",
    "#ds.update(split_hf(ds['train']))\n",
    "ds = ds.map(lambda ex: {'label': int(ex['label'] + 1)})\n",
    "ds = ds.rename_columns({'summary': 'text'}).select_columns(['text', 'label'])\n",
    "ds"
   ]
  },
  {
   "cell_type": "code",
   "execution_count": null,
   "metadata": {},
   "outputs": [],
   "source": [
    "ds.push_to_hub(\"MAPAi/Inflation_News_Sentiment_Analysis\")"
   ]
  }
 ],
 "metadata": {
  "kernelspec": {
   "display_name": "modern_nlp",
   "language": "python",
   "name": "python3"
  },
  "language_info": {
   "codemirror_mode": {
    "name": "ipython",
    "version": 3
   },
   "file_extension": ".py",
   "mimetype": "text/x-python",
   "name": "python",
   "nbconvert_exporter": "python",
   "pygments_lexer": "ipython3",
   "version": "3.10.13"
  }
 },
 "nbformat": 4,
 "nbformat_minor": 2
}
