{
 "cells": [
  {
   "cell_type": "markdown",
   "metadata": {},
   "source": [
    "Authors: Allard Marc-Antoine\n",
    "\n",
    "Course: FIN-407\n",
    "\n",
    "---\n",
    "\n",
    "## News Dataset Exploration\n",
    "\n",
    "- Exploration of the FNSPIDataset (Financial News and Stock Price Integration Dataset)\n",
    "    - Overview of the tools used\n",
    "    - Overview of the dataset\n",
    "- Comprehensive Exploratory Data Analysis (EDA) including topic extraction and analysis\n",
    "- Summary statistics\n",
    "- Introduction: Proposed methods for analysis\n",
    "\n",
    "---"
   ]
  },
  {
   "cell_type": "code",
   "execution_count": null,
   "metadata": {
    "vscode": {
     "languageId": "shellscript"
    }
   },
   "outputs": [],
   "source": [
    "# TODO in Google Colab \n",
    "# pip install requirements.txt"
   ]
  },
  {
   "cell_type": "code",
   "execution_count": 3,
   "metadata": {},
   "outputs": [
    {
     "name": "stdout",
     "output_type": "stream",
     "text": [
      "The autoreload extension is already loaded. To reload it, use:\n",
      "  %reload_ext autoreload\n"
     ]
    }
   ],
   "source": [
    "%load_ext autoreload\n",
    "%autoreload 2\n",
    "\n",
    "import warnings; warnings.simplefilter('ignore')\n",
    "import os, codecs, string, random\n",
    "import numpy as np\n",
    "from numpy.random import seed as random_seed\n",
    "from numpy.random import shuffle as random_shuffle\n",
    "import pandas as pd \n",
    "import statsmodels as sm \n",
    "import seaborn as sns \n",
    "import matplotlib.pyplot as plt\n",
    "from datetime import timedelta\n",
    "from datetime import datetime\n",
    "%matplotlib inline  \n",
    "\n",
    "seed = 42\n",
    "random.seed(seed)\n",
    "np.random.seed(seed)\n",
    "\n",
    "#NLP libraries\n",
    "import spacy, nltk, gensim, sklearn\n",
    "import pyLDAvis.gensim_models\n",
    "\n",
    "#Vader\n",
    "import vaderSentiment\n",
    "from vaderSentiment.vaderSentiment import SentimentIntensityAnalyzer\n",
    "\n",
    "# pd plotting option \n",
    "pd.options.plotting.backend = \"plotly\"\n",
    "pd.options.plotting.backend = 'matplotlib'\n",
    "# Plot styling and settings \n",
    "plt.style.use('fivethirtyeight')\n",
    "pd.set_option(\"display.max_columns\", 50)\n",
    "pd.set_option(\"display.max_rows\", 700)\n",
    "pd.set_option('display.max_colwidth', None)"
   ]
  },
  {
   "cell_type": "markdown",
   "metadata": {},
   "source": [
    "### 1. Exploration of the FNSPIDataset (Financial News and Stock Price Integration Dataset)"
   ]
  },
  {
   "cell_type": "markdown",
   "metadata": {},
   "source": [
    "#### 1.1 Overview of the sample datasets\n",
    "\n",
    "> Note that the dataset we are interesting in are the summary news and the gpt sentiment score"
   ]
  },
  {
   "cell_type": "code",
   "execution_count": 77,
   "metadata": {},
   "outputs": [
    {
     "name": "stdout",
     "output_type": "stream",
     "text": [
      "Number of summarize news: 1502\n",
      "\n",
      "Oldest Date: 2016-03-22 04:39:00+00:00\n",
      "Newest Date: 2024-01-17 03:52:00+00:00\n"
     ]
    }
   ],
   "source": [
    "# 1. news_data_preprocessed/aa.csv -> date x url x Text summary x Mark\n",
    "path_1 = '../../data/FNSPID_Financial_News_Dataset/data_processor/news_data_summarized/aa.csv'\n",
    "\n",
    "summarized_news = pd.read_csv(path_1)\n",
    "\n",
    "print(f\"Number of summarize news: {len(summarized_news)}\")\n",
    "\n",
    "oldest_date = summarized_news['Date'].min()\n",
    "newest_date = summarized_news['Date'].max()\n",
    "\n",
    "# Display the range of dates\n",
    "print()\n",
    "print(\"Oldest Date:\", oldest_date)\n",
    "print(\"Newest Date:\", newest_date)"
   ]
  },
  {
   "cell_type": "code",
   "execution_count": 79,
   "metadata": {},
   "outputs": [
    {
     "name": "stdout",
     "output_type": "stream",
     "text": [
      "Number of sentiment label news: 1502\n",
      "\n",
      "Oldest Date: 2016-03-22 04:39:00+00:00\n",
      "Newest Date: 2024-01-17 03:52:00+00:00\n"
     ]
    }
   ],
   "source": [
    "# 2. news_data_sentiment_scored_by_gpt/aa.csv -> date x url x Text summary x sentiment\n",
    "path_2 = '../../data/FNSPID_Financial_News_Dataset/data_processor/news_data_sentiment_scored_by_gpt/aa.csv'\n",
    "\n",
    "sentiment_news = pd.read_csv(path_2)\n",
    "print(f\"Number of sentiment label news: {len(sentiment_news)}\")\n",
    "\n",
    "oldest_date = sentiment_news['Date'].min()\n",
    "newest_date = sentiment_news['Date'].max()\n",
    "\n",
    "# Display the range of dates\n",
    "print()\n",
    "print(\"Oldest Date:\", oldest_date)\n",
    "print(\"Newest Date:\", newest_date)"
   ]
  },
  {
   "cell_type": "markdown",
   "metadata": {},
   "source": [
    "---\n",
    "### 2. EDA "
   ]
  },
  {
   "cell_type": "markdown",
   "metadata": {},
   "source": [
    "#### 2.1 Exploration"
   ]
  },
  {
   "cell_type": "code",
   "execution_count": 63,
   "metadata": {},
   "outputs": [
    {
     "name": "stdout",
     "output_type": "stream",
     "text": [
      "Oldest Date: 1914-09-16 00:00:00 UTC\n",
      "Newest Date: 2020-06-11 13:12:35 UTC\n"
     ]
    }
   ],
   "source": [
    "path_2 = '../../data/All_external.csv'\n",
    "\n",
    "external_news = pd.read_csv(path_2, nrows=5000000)\n",
    "\n",
    "oldest_date = external_news['Date'].min()\n",
    "newest_date = external_news['Date'].max()\n",
    "\n",
    "# Display the range of dates\n",
    "print(\"Oldest Date:\", oldest_date)\n",
    "print(\"Newest Date:\", newest_date)"
   ]
  },
  {
   "cell_type": "code",
   "execution_count": 64,
   "metadata": {},
   "outputs": [
    {
     "name": "stdout",
     "output_type": "stream",
     "text": [
      "Oldest Date after filtering: 1999-08-31 00:00:00+00:00\n",
      "Newest Date after filtering: 2020-06-11 13:12:35+00:00\n",
      "\n",
      "Yearly Counts of News Entries after filtering:\n",
      "Date\n",
      "1999      3081\n",
      "2000     16176\n",
      "2001     21974\n",
      "2002     22179\n",
      "2003     21557\n",
      "2004     24386\n",
      "2005     30718\n",
      "2006     35964\n",
      "2007     80965\n",
      "2008    175001\n",
      "2009    172170\n",
      "2010    271717\n",
      "2011    356624\n",
      "2012    359954\n",
      "2013    327242\n",
      "2014    381490\n",
      "2015    580577\n",
      "2016    469798\n",
      "2017    344705\n",
      "2018    523476\n",
      "2019    578683\n",
      "2020    201557\n",
      "Name: count, dtype: int64\n"
     ]
    }
   ],
   "source": [
    "external_news['Date'] = pd.to_datetime(external_news['Date'])\n",
    "\n",
    "# Filter rows to include only entries from 1999 or later\n",
    "external_news_filtered = external_news[external_news['Date'].dt.year >= 1999]\n",
    "\n",
    "# Display the range of dates after filtering\n",
    "oldest_date_filtered = external_news_filtered['Date'].min()\n",
    "newest_date_filtered = external_news_filtered['Date'].max()\n",
    "\n",
    "print(\"Oldest Date after filtering:\", oldest_date_filtered)\n",
    "print(\"Newest Date after filtering:\", newest_date_filtered)\n",
    "\n",
    "# Display the yearly count of entries after filtering\n",
    "yearly_counts_filtered = external_news_filtered['Date'].dt.year.value_counts().sort_index()\n",
    "print(\"\\nYearly Counts of News Entries after filtering:\")\n",
    "print(yearly_counts_filtered)"
   ]
  },
  {
   "cell_type": "code",
   "execution_count": 73,
   "metadata": {},
   "outputs": [
    {
     "data": {
      "text/html": [
       "<div>\n",
       "<style scoped>\n",
       "    .dataframe tbody tr th:only-of-type {\n",
       "        vertical-align: middle;\n",
       "    }\n",
       "\n",
       "    .dataframe tbody tr th {\n",
       "        vertical-align: top;\n",
       "    }\n",
       "\n",
       "    .dataframe thead th {\n",
       "        text-align: right;\n",
       "    }\n",
       "</style>\n",
       "<table border=\"1\" class=\"dataframe\">\n",
       "  <thead>\n",
       "    <tr style=\"text-align: right;\">\n",
       "      <th></th>\n",
       "      <th>Date</th>\n",
       "      <th>Article_title</th>\n",
       "      <th>Stock_symbol</th>\n",
       "      <th>Url</th>\n",
       "      <th>Publisher</th>\n",
       "      <th>Author</th>\n",
       "      <th>Article</th>\n",
       "      <th>Lsa_summary</th>\n",
       "      <th>Luhn_summary</th>\n",
       "      <th>Textrank_summary</th>\n",
       "      <th>Lexrank_summary</th>\n",
       "    </tr>\n",
       "  </thead>\n",
       "  <tbody>\n",
       "    <tr>\n",
       "      <th>0</th>\n",
       "      <td>2020-06-05 06:30:54+00:00</td>\n",
       "      <td>Stocks That Hit 52-Week Highs On Friday</td>\n",
       "      <td>A</td>\n",
       "      <td>https://www.benzinga.com/news/20/06/16190091/stocks-that-hit-52-week-highs-on-friday</td>\n",
       "      <td>Benzinga Insights</td>\n",
       "      <td>NaN</td>\n",
       "      <td>NaN</td>\n",
       "      <td>NaN</td>\n",
       "      <td>NaN</td>\n",
       "      <td>NaN</td>\n",
       "      <td>NaN</td>\n",
       "    </tr>\n",
       "    <tr>\n",
       "      <th>1</th>\n",
       "      <td>2020-06-03 06:45:20+00:00</td>\n",
       "      <td>Stocks That Hit 52-Week Highs On Wednesday</td>\n",
       "      <td>A</td>\n",
       "      <td>https://www.benzinga.com/news/20/06/16170189/stocks-that-hit-52-week-highs-on-wednesday</td>\n",
       "      <td>Benzinga Insights</td>\n",
       "      <td>NaN</td>\n",
       "      <td>NaN</td>\n",
       "      <td>NaN</td>\n",
       "      <td>NaN</td>\n",
       "      <td>NaN</td>\n",
       "      <td>NaN</td>\n",
       "    </tr>\n",
       "    <tr>\n",
       "      <th>2</th>\n",
       "      <td>2020-05-26 00:30:07+00:00</td>\n",
       "      <td>71 Biggest Movers From Friday</td>\n",
       "      <td>A</td>\n",
       "      <td>https://www.benzinga.com/news/20/05/16103463/71-biggest-movers-from-friday</td>\n",
       "      <td>Lisa Levin</td>\n",
       "      <td>NaN</td>\n",
       "      <td>NaN</td>\n",
       "      <td>NaN</td>\n",
       "      <td>NaN</td>\n",
       "      <td>NaN</td>\n",
       "      <td>NaN</td>\n",
       "    </tr>\n",
       "    <tr>\n",
       "      <th>3</th>\n",
       "      <td>2020-05-22 08:45:06+00:00</td>\n",
       "      <td>46 Stocks Moving In Friday's Mid-Day Session</td>\n",
       "      <td>A</td>\n",
       "      <td>https://www.benzinga.com/news/20/05/16095921/46-stocks-moving-in-fridays-mid-day-session</td>\n",
       "      <td>Lisa Levin</td>\n",
       "      <td>NaN</td>\n",
       "      <td>NaN</td>\n",
       "      <td>NaN</td>\n",
       "      <td>NaN</td>\n",
       "      <td>NaN</td>\n",
       "      <td>NaN</td>\n",
       "    </tr>\n",
       "    <tr>\n",
       "      <th>4</th>\n",
       "      <td>2020-05-22 07:38:59+00:00</td>\n",
       "      <td>B of A Securities Maintains Neutral on Agilent Technologies, Raises Price Target to $88</td>\n",
       "      <td>A</td>\n",
       "      <td>https://www.benzinga.com/news/20/05/16095304/b-of-a-securities-maintains-neutral-on-agilent-technologies-raises-price-target-to-88</td>\n",
       "      <td>Vick Meyer</td>\n",
       "      <td>NaN</td>\n",
       "      <td>NaN</td>\n",
       "      <td>NaN</td>\n",
       "      <td>NaN</td>\n",
       "      <td>NaN</td>\n",
       "      <td>NaN</td>\n",
       "    </tr>\n",
       "  </tbody>\n",
       "</table>\n",
       "</div>"
      ],
      "text/plain": [
       "                       Date  \\\n",
       "0 2020-06-05 06:30:54+00:00   \n",
       "1 2020-06-03 06:45:20+00:00   \n",
       "2 2020-05-26 00:30:07+00:00   \n",
       "3 2020-05-22 08:45:06+00:00   \n",
       "4 2020-05-22 07:38:59+00:00   \n",
       "\n",
       "                                                                             Article_title  \\\n",
       "0                                                  Stocks That Hit 52-Week Highs On Friday   \n",
       "1                                               Stocks That Hit 52-Week Highs On Wednesday   \n",
       "2                                                            71 Biggest Movers From Friday   \n",
       "3                                             46 Stocks Moving In Friday's Mid-Day Session   \n",
       "4  B of A Securities Maintains Neutral on Agilent Technologies, Raises Price Target to $88   \n",
       "\n",
       "  Stock_symbol  \\\n",
       "0            A   \n",
       "1            A   \n",
       "2            A   \n",
       "3            A   \n",
       "4            A   \n",
       "\n",
       "                                                                                                                                  Url  \\\n",
       "0                                                https://www.benzinga.com/news/20/06/16190091/stocks-that-hit-52-week-highs-on-friday   \n",
       "1                                             https://www.benzinga.com/news/20/06/16170189/stocks-that-hit-52-week-highs-on-wednesday   \n",
       "2                                                          https://www.benzinga.com/news/20/05/16103463/71-biggest-movers-from-friday   \n",
       "3                                            https://www.benzinga.com/news/20/05/16095921/46-stocks-moving-in-fridays-mid-day-session   \n",
       "4  https://www.benzinga.com/news/20/05/16095304/b-of-a-securities-maintains-neutral-on-agilent-technologies-raises-price-target-to-88   \n",
       "\n",
       "           Publisher Author Article  Lsa_summary  Luhn_summary  \\\n",
       "0  Benzinga Insights    NaN     NaN          NaN           NaN   \n",
       "1  Benzinga Insights    NaN     NaN          NaN           NaN   \n",
       "2         Lisa Levin    NaN     NaN          NaN           NaN   \n",
       "3         Lisa Levin    NaN     NaN          NaN           NaN   \n",
       "4         Vick Meyer    NaN     NaN          NaN           NaN   \n",
       "\n",
       "   Textrank_summary  Lexrank_summary  \n",
       "0               NaN              NaN  \n",
       "1               NaN              NaN  \n",
       "2               NaN              NaN  \n",
       "3               NaN              NaN  \n",
       "4               NaN              NaN  "
      ]
     },
     "execution_count": 73,
     "metadata": {},
     "output_type": "execute_result"
    }
   ],
   "source": [
    "external_news_filtered.head()"
   ]
  },
  {
   "cell_type": "code",
   "execution_count": 72,
   "metadata": {},
   "outputs": [
    {
     "name": "stdout",
     "output_type": "stream",
     "text": [
      "Average String Length of Article Titles (in words): 9.676495811794974\n"
     ]
    }
   ],
   "source": [
    "average_title_length = external_news_filtered['Article_title'].apply(lambda x: len(x.split())).mean()\n",
    "\n",
    "# Display the average string length\n",
    "print(\"Average String Length of Article Titles (in words):\", average_title_length)"
   ]
  },
  {
   "cell_type": "code",
   "execution_count": 86,
   "metadata": {},
   "outputs": [
    {
     "name": "stdout",
     "output_type": "stream",
     "text": [
      "Number of Entries with 'inflation' in Article Title: 6326\n"
     ]
    }
   ],
   "source": [
    "num_entries_with_inflation = sentiment_news_filtered['Article_title'].str.contains('inflation', case=False).sum()\n",
    "\n",
    "# Display the number of entries containing 'inflation' in the Article_title\n",
    "print(\"Number of Entries with 'inflation' in Article Title:\", num_entries_with_inflation)"
   ]
  },
  {
   "cell_type": "code",
   "execution_count": 87,
   "metadata": {},
   "outputs": [
    {
     "name": "stdout",
     "output_type": "stream",
     "text": [
      "Number of Article Titles containing any of the Lexicon Terms: 117864\n"
     ]
    }
   ],
   "source": [
    "# Define the list of lexicon terms\n",
    "lexicon_terms = [\n",
    "    \"price\", \"cost of living\", \"high bill\", \"inflation\", \"expensive\", \"gasoline price\",\n",
    "    \"high rent\", \"low rent\", \"energy costs\", \"deflation\", \"disinflation\", \"sale\",\n",
    "    \"sell-off\", \"low bill\", \"low cost\", \"cheap\" \n",
    "]\n",
    "\n",
    "# Create a regex pattern to match any of the lexicon terms as whole words\n",
    "pattern = '|'.join(r'\\b{}\\b'.format(term) for term in lexicon_terms)\n",
    "\n",
    "# Filter DataFrame to include only entries where 'Article_title' contains any of the lexicon terms\n",
    "titles_with_lexicon_terms = sentiment_news_filtered[sentiment_news_filtered['Article_title'].str.contains(pattern, case=False)]\n",
    "\n",
    "# Count the number of article titles containing any of the lexicon terms\n",
    "num_titles_with_lexicon_terms = len(titles_with_lexicon_terms)\n",
    "\n",
    "# Display the count of article titles containing any of the lexicon terms\n",
    "print(\"Number of Article Titles containing any of the Lexicon Terms:\", num_titles_with_lexicon_terms)"
   ]
  },
  {
   "cell_type": "code",
   "execution_count": 89,
   "metadata": {},
   "outputs": [
    {
     "name": "stdout",
     "output_type": "stream",
     "text": [
      "Sample of 100 Titles containing 'inflation':\n",
      "- Why CVR Refining Is So Cheap\n",
      "- Ronald Stoeferle: Gold Is Dirt Cheap Right Now\n",
      "- Jefferies Upgrades Masco to Buy, Raises Price Target to $40\n",
      "- Exxon's California refinery sale seen pushed back to 2016\n",
      "- Northland Securities Downgrades Plantronics to Market Perform, Lowers Price Target to $35\n",
      "- CreditRiskMonitor: A Cheap Micro-Cap With A Recession-Proof Business Model\n",
      "- Clarksons Platou Initiates Coverage On Alliance Resource with Buy Rating, Announces $20 Price Target\n",
      "- Dow Chemical Lifts Dividend & Buyback, Ups Asset Sale Goal - Analyst Blog\n",
      "- TREASURIES-30-year Treasury bonds trade a point higher in price\n",
      "- Good News: Emerging Markets ETFs Are Cheap\n",
      "- Oil & Gas Stocks Making Afternoon Rally: Rex Energy Shares Up 8.9%, PetroQuest Up 5.7%, Halcon, Jones, Wildhorse Up 5%, QEP, Approach Up 4%, Enduro Up 3.7%, W&T, Ring Up 3.1%; Not Seeing Specific News To Justify Sector-Wide Price Action\n",
      "- Barclays Shaves Price Targets On 3 Casino Stocks\n",
      "- If BDC Price Appreciation Is Mostly About NAV Growth, Why Are There So Many Exceptions?\n",
      "- Raymond James Maintains Outperform on Mohawk Industries, Lowers Price Target to $140\n",
      "- What Falling Estimates & Price Mean for HollyFrontier (HFC) - Tale of the Tape\n",
      "- INDIA PRESS-Cairn India under tax lens over share sale - Economic Times\n",
      "- Nokia Oyj shares are trading lower after the company cut its FY19 EPS guidance. The company also cut its FY20 operating margin guidance. JP Morgan also downgraded the stock from Overweight to Neutral and lowered the price target from $7.5 - $4.2 per share\n",
      "- Value Line: Cheap And A Great Acquisition Target\n",
      "- Nomura Maintains Buy on Lowe's Companies, Lowers Price Target to $100\n",
      "- Benzinga Pro Morning Price Check For Regional ETFs: Russia (RSX) Up 2.9%, Australia (EWA) Up 2.1%, Mexico (EWW) Up 2.0%, China ETF (FXI) Up 1.8%, Brazil (EWZ) Up 1.7%, US (SPY) Up 1.4%, Japan (EWJ) Up 1.3%, Europe (VGK) Up 1.2%\n",
      "- UBS Maintains Buy on Masimo, Raises Price Target to $207\n",
      "- Benzinga Pro Mid-Day Price Check For Regional ETFs: Mexico (EWW) Up 1.1%, Australia (EWA) Up 0.7%, Europe (VGK) Up 0.3%, US (SPY) Up 0.2%, Japan (EWJ) Flat, Canada (EWC) Down 0.1%, Brazil (EWZ) Down 0.1%, China ETF (FXI) Down 0.7%\n",
      "- Auriga Reiterates “Buy” Rating and $15 Price Target for JDSU\n",
      "- After The Massive Run In Its Stock Price, Independence Realty Trust Has Limited Further Upside Potential\n",
      "- Inflation-Busting With ETFs\n",
      "- Supervalu Closes Sale of Notes - Analyst Blog\n",
      "- Energy sector surge on drone attacks and oil price spike\n",
      "- Cantor Fitzgerald Reiterates Overweight on PTC Therapeutics, Lowers Price Target to $85\n",
      "- Benzinga Pro Morning Price Check For Regional ETFs: US (SPY) Up 1.1%, India (INDA) Up 1.0%, Japan (EWJ) Up 0.8%, Australia (EWA) Up 0.4%, Canada (EWC) Up 0.2%, Europe (VGK) Up 0.2%, China ETF (FXI) Up 0.1%, Mexico (EWW) Down 0.3%\n",
      "- CVS Health Is Cheap - Cramer's Lightning Round (6/1/16)\n",
      "- UBS Maintains Neutral on Zendesk, Lowers Price Target to $80\n",
      "- WRAPUP 1-Brazil data point to slower inflation - for now\n",
      "- UBS Maintains Buy on Bank of New York Mellon, Raises Price Target to $58\n",
      "- B. Riley FBR Maintains Buy on Pretium Resources, Lowers Price Target to $16\n",
      "- Corn Became Far Too Cheap\n",
      "- AstraZeneca shares are trading higher. Not seeing any news to justify the price action.\n",
      "- JP Morgan Maintains Overweight on Two Harbors Investment, Lowers Price Target of $6\n",
      "- BMO Capital Maintains Outperform on Capella Education, Raises Price Target to $103.00\n",
      "- Credit Suisse Maintains Outperform on Stryker, Raises Price Target to $237\n",
      "- DA Davidson Initiates Coverage On City Holding at Neutral, Announces $68.00 Price Target\n",
      "- Hagens Berman: Eleven Defendants Settle in Average Wholesale Price Litigation\n",
      "- Jefferies Initiates Coverage On Momo At Buy, Announces $30 Price Target\n",
      "- UPDATE 2-Brazil's annual inflation remains at 11-year high in mid-May\n",
      "- 7 Biggest Price Target Changes For Tuesday\n",
      "- SunTrust Robinson Humphrey Maintains Buy on Skyline Champion, Raises Price Target to $45\n",
      "- China Property on Rebound Despite Price Controls\n",
      "- Rafferty Downgrades Wells Fargo to Sell, Lowers Price Target to $54.50\n",
      "- Finish Line Looks Cheap, But Further Declines Seem Likely\n",
      "- Benzinga Pro Morning Price Check For Regional ETFs: Japan (EWJ) Up 1.9%, Russia (RSX) Up 1.5%, China ETF (FXI) Up 1.4%, Mexico (EWW) Up 1.0%, Australia (EWA) Up 0.8%, Brazil (EWZ) Up 0.6%, Europe (VGK) Up 0.6%,Canada (EWC) Up 0.6%\n",
      "- BOFI's 4 For 1 Stock Split: The Impact On Price\n",
      "- Scanning for Dirt-Cheap Stocks\n",
      "- Cantor Fitzgerald Raises Price Target for City National Corp. (CYN)\n",
      "- Stifel Nicolaus Maintains Hold on IDEX, Raises Price Target to $153\n",
      "- HC Wainwright & Co. Maintains Buy on Clovis Oncology, Raises Price Target to $33\n",
      "- Piper Jaffray: Jazz Pharmaceuticals Not Expecting Payer Pushback In Wake Of Price Hike\n",
      "- AGNC Investment's Q2 2018 Income Statement And Earnings Preview - Part 3 (Modest MBS Price Decreases)\n",
      "- 10 Biggest Price Target Changes For Friday\n",
      "- Russian Interest Rates Fall Following Sustained Drop In Inflation\n",
      "- NephroGenex Prices 1.5M Shares, Warrants at Combined Price of $5/Share, Warrants Have Exercise Price of $6.25\n",
      "- Blinds Chalet Announces Cyber Monday Sale - Lowest Price Markdown Ever On Their Window Coverings!\n",
      "- Baird Downgrades Modine Manufacturing to Neutral, Lowers Price Target to $9\n",
      "- Infinity Enters Into Asset Sale and Joint Venture Agreements With Forest Oil Corporation\n",
      "- Shares of several banking stocks are trading lower after the European Central Bank announced a program to provide cheap loan rates to banks in the Euro area in an effort to stimulate the economy; this cuts into the interest that banks receive.\n",
      "- What To Buy In This Biotech Sell-Off\n",
      "- Citigroup Maintains Buy on Monster Beverage, Raises Price Target to $71\n",
      "- Morgan Stanley Maintains Overweight on Diamondback Energy, Lowers Price Target to $131\n",
      "- Healthcare ETFs Price Gain Prospects\n",
      "- 10 Biggest Price Target Changes For Friday\n",
      "- Greenback Is Firm, While Soft Inflation Drags Sterling From Perch\n",
      "- Roth Capital's Dave King Calls Sequential's Deal for Martha Stewart 'Significant,' Believes It's 'Another Transformative Acquisition,' Price Target Raised from $16 to $20, Buy Maintained\n",
      "- Leerink Swann Maintains Outperform on HCA Healthcare, Raises Price Target to $150\n",
      "- Accelerate Diagnostics Is About To Accelerate To The Downside - $6 Price Target\n",
      "- Get A Piece Of SunRun At Half Price\n",
      "- Argus Maintains Buy on Humana, Raises Price Target to $330.00\n",
      "- H.C. Wainwright Initiates Coverage On Vanda Pharmaceuticals with Buy Rating, Announces $18.00 Price Target\n",
      "- Benzinga Pro Morning Price Check For Sector ETFs: Tech (XLK) Up 1.2%, Staples (VDC) Up 0.5%, Utilities (VPU) Up 0.3%, Financials (XLF) Up 0.2%, Energy (XLE) Flat, Healthcare (IYH) Flat, Industrials (VIS) Down 0.1%, Retail ETF (XRT) Down 0.3%\n",
      "- Opko Health, Inc.: Frost Gamma Investments Trust (10%+) Buys 10,000 @ Avg Price: $8.46 (Form4\n",
      "- UPDATE 1-Italy approves sale of energy grid stake to China\n",
      "- Lubys Director Harris J Pappas Buys 127,000 @ Avg Price: $3.21 -Form4\n",
      "- B. Riley Initiates Coverage On Eagle Point Credit Co with Buy Rating, Announces $18 Price Target\n",
      "- B of A Securities Reiterates Buy on Ritchie Bros Auctioneers, Raises Price Target to $50\n",
      "- Benzinga Pro Morning Price Check For Regional ETFs: Brazil (EWZ) Up 5.3%, Russia (RSX) Up 0.7%, Mexico (EWW) Up 0.5%, China ETF (FXI) Up 0.4%, Europe (VGK) Up 0.4%, US (SPY) Up 0.3%, Canada (EWC) Down 0.1%, Australia (EWA) Down 0.2%\n",
      "- Year-End Trades in Retail: Are There Quality Names on Sale?\n",
      "- Spokesperson from York Capital Declines Comment Following Reuters Report Tues. Suggesting Large Shareholder(s) in Co. Urging Mgmt to Explore Sale\n",
      "- SunTrust Robinson Humphrey Initiates Coverage On MEI Pharma with Buy Rating, Announces $12 Price Target\n",
      "- JP Morgan Assumes Canadian Solar at Neutral, Announces Price Target $22\n",
      "- Qualcomm shares are trading lower after the company said the coronavirus could have a material impact on its near-term profit forecasts. JP Morgan also lowered its price target on the stock from $108 to $105 per share.\n",
      "- 10 Biggest Price Target Changes For Monday\n",
      "- Trade On Momentum In Prices And Price Targets\n",
      "- Gap Shows Rising Price Performance With Jump To 83 RS Rating\n",
      "- IBD Rating Upgrades: Domtar Shows Improved Relative Price Strength\n",
      "- The TJX Companies Is A Pick In The Off-Price Retail Market\n",
      "- Best Near-Term Price Gains Ahead For: Communication Services Stocks\n",
      "- Gold Going Higher - Mining Stocks Are Historically Cheap\n",
      "- XLE Weekly: Sell-Side Continuation Early Week Through Last Week's Unsecured Low, Price Discovery Lower To 56.11s\n",
      "- Aeterna Zentaris: Considering A Re-Entry After Sell-Off\n",
      "- Benzinga Pro Mid-Day Price Check For Sector ETFs: Tech (XLK) Up 2.2%, Industrials (VIS) Up 1.9%, Energy (XLE) Up 1.9%, Retail ETF (XRT) Up 1.7%, Financials (XLF) Up 1.6%, Staples (VDC) Up 0.4%, Utilities (VPU) Down 0.2%\n",
      "- Fed's Hoenig says easy money policy risks inflation\n",
      "- Markets Sell-Off Further As Central Banks Around The Globe Act Again\n",
      "- Burberry Freak-out Puts Luxury Retailer Stocks on Sale\n"
     ]
    }
   ],
   "source": [
    "if len(titles_with_lexicon_terms) > 0:\n",
    "    print(\"Sample of 100 Titles containing 'inflation':\")\n",
    "    for title in titles_with_lexicon_terms['Article_title'].sample(min(100, len(titles_with_lexicon_terms))):\n",
    "        print(\"-\", title)\n",
    "else:\n",
    "    print(\"No titles found containing 'inflation'.\")"
   ]
  },
  {
   "cell_type": "code",
   "execution_count": 100,
   "metadata": {},
   "outputs": [
    {
     "data": {
      "text/html": [
       "<div>\n",
       "<style scoped>\n",
       "    .dataframe tbody tr th:only-of-type {\n",
       "        vertical-align: middle;\n",
       "    }\n",
       "\n",
       "    .dataframe tbody tr th {\n",
       "        vertical-align: top;\n",
       "    }\n",
       "\n",
       "    .dataframe thead th {\n",
       "        text-align: right;\n",
       "    }\n",
       "</style>\n",
       "<table border=\"1\" class=\"dataframe\">\n",
       "  <thead>\n",
       "    <tr style=\"text-align: right;\">\n",
       "      <th></th>\n",
       "      <th>Date</th>\n",
       "      <th>Article_title</th>\n",
       "      <th>Url</th>\n",
       "      <th>Lsa_summary</th>\n",
       "    </tr>\n",
       "  </thead>\n",
       "  <tbody>\n",
       "    <tr>\n",
       "      <th>0</th>\n",
       "      <td>2023-12-16 23:00:00 UTC</td>\n",
       "      <td>Interesting A Put And Call Options For August 2024</td>\n",
       "      <td>https://www.nasdaq.com/articles/interesting-a-put-and-call-options-for-august-2024</td>\n",
       "      <td>Because the $125.00 strike represents an approximate 10% discount to the current trading price of the stock (in other words it is out-of-the-money by that percentage), there is also the possibility that the put contract would expire worthless. Of course, a lot of upside could potentially be left on the table if A shares really soar, which is why looking at the trailing twelve month trading history for Agilent Technologies, Inc., as well as studying the business fundamentals becomes important. Below is a chart showing A's trailing twelve month trading history, with the $150.00 strike highlighted in red: Considering the fact that the $150.00 strike represents an approximate 8% premium to the current trading price of the stock (in other words it is out-of-the-money by that percentage), there is also the possibility that the covered call contract would expire worthless, in which case the investor would keep both their shares of stock and the premium collected.</td>\n",
       "    </tr>\n",
       "    <tr>\n",
       "      <th>1</th>\n",
       "      <td>2023-12-12 00:00:00 UTC</td>\n",
       "      <td>Wolfe Research Initiates Coverage of Agilent Technologies (A) with Outperform Recommendation</td>\n",
       "      <td>https://www.nasdaq.com/articles/wolfe-research-initiates-coverage-of-agilent-technologies-a-with-outperform-recommendation</td>\n",
       "      <td>Fintel reports that on December 13, 2023, Wolfe Research initiated coverage of Agilent Technologies (NYSE:A) with a Outperform recommendation. Agilent instruments, software, services, solutions, and people provide trusted answers to customers' most challenging questions. Fintel is one of the most comprehensive investing research platforms available to individual investors, traders, financial advisors, and small hedge funds.</td>\n",
       "    </tr>\n",
       "    <tr>\n",
       "      <th>2</th>\n",
       "      <td>2023-12-12 00:00:00 UTC</td>\n",
       "      <td>Agilent Technologies Reaches Analyst Target Price</td>\n",
       "      <td>https://www.nasdaq.com/articles/agilent-technologies-reaches-analyst-target-price-0</td>\n",
       "      <td>In recent trading, shares of Agilent Technologies, Inc. (Symbol: A) have crossed above the average analyst 12-month target price of $132.36, changing hands for $133.74/share. And so with A crossing above that average target price of $132.36/share, investors in A have been given a good signal to spend fresh time assessing the company and deciding for themselves: is $132.36 just one stop on the way to an even higher target, or has the valuation gotten stretched to the point where it is time to think about taking some chips off the table? The Top 25 Broker Analyst Picks of the S&amp;P 500 » Also see:  PXMD Insider Buying  ETM Insider Buying  Funds Holding FXG The views and opinions expressed herein are the views and opinions of the author and do not necessarily reflect those of Nasdaq, Inc.</td>\n",
       "    </tr>\n",
       "    <tr>\n",
       "      <th>3</th>\n",
       "      <td>2023-12-07 00:00:00 UTC</td>\n",
       "      <td>Agilent (A) Enhances BioTek Cytation C10 With New Technology</td>\n",
       "      <td>https://www.nasdaq.com/articles/agilent-a-enhances-biotek-cytation-c10-with-new-technology</td>\n",
       "      <td>Per a Grand View Research report, the global microplate reader market is expected to grow at a CAGR of 7.6% during the forecast period 2023-2030. A Mordor Intelligence report indicates the global live cell imaging market size will reach $2.95 billion by 2028, exhibiting a CAGR of 7.06% between 2023 and 2028. Some better-ranked stocks in the broader technology sector are Badger Meter BMI, Arista Networks ANET and Adobe ADBE.</td>\n",
       "    </tr>\n",
       "    <tr>\n",
       "      <th>4</th>\n",
       "      <td>2023-12-07 00:00:00 UTC</td>\n",
       "      <td>Pre-Market Most Active for Dec 7, 2023 : SQQQ, PLTR, TQQQ, ALT, UBER, PFE, GILD, MRK, AMD, NIO, JBLU, AI</td>\n",
       "      <td>https://www.nasdaq.com/articles/pre-market-most-active-for-dec-7-2023-%3A-sqqq-pltr-tqqq-alt-uber-pfe-gild-mrk-amd-nio-jblu</td>\n",
       "      <td>ProShares UltraPro Short QQQ (SQQQ) is -0.15 at $16.37, with 2,061,124 shares traded. Over the last four weeks they have had 6 up revisions for the earnings forecast, for the fiscal quarter ending Dec 2023. Over the last four weeks they have had 4 up revisions for the earnings forecast, for the fiscal quarter ending Mar 2024.</td>\n",
       "    </tr>\n",
       "  </tbody>\n",
       "</table>\n",
       "</div>"
      ],
      "text/plain": [
       "                      Date  \\\n",
       "0  2023-12-16 23:00:00 UTC   \n",
       "1  2023-12-12 00:00:00 UTC   \n",
       "2  2023-12-12 00:00:00 UTC   \n",
       "3  2023-12-07 00:00:00 UTC   \n",
       "4  2023-12-07 00:00:00 UTC   \n",
       "\n",
       "                                                                                              Article_title  \\\n",
       "0                                                        Interesting A Put And Call Options For August 2024   \n",
       "1              Wolfe Research Initiates Coverage of Agilent Technologies (A) with Outperform Recommendation   \n",
       "2                                                         Agilent Technologies Reaches Analyst Target Price   \n",
       "3                                              Agilent (A) Enhances BioTek Cytation C10 With New Technology   \n",
       "4  Pre-Market Most Active for Dec 7, 2023 : SQQQ, PLTR, TQQQ, ALT, UBER, PFE, GILD, MRK, AMD, NIO, JBLU, AI   \n",
       "\n",
       "                                                                                                                           Url  \\\n",
       "0                                           https://www.nasdaq.com/articles/interesting-a-put-and-call-options-for-august-2024   \n",
       "1   https://www.nasdaq.com/articles/wolfe-research-initiates-coverage-of-agilent-technologies-a-with-outperform-recommendation   \n",
       "2                                          https://www.nasdaq.com/articles/agilent-technologies-reaches-analyst-target-price-0   \n",
       "3                                   https://www.nasdaq.com/articles/agilent-a-enhances-biotek-cytation-c10-with-new-technology   \n",
       "4  https://www.nasdaq.com/articles/pre-market-most-active-for-dec-7-2023-%3A-sqqq-pltr-tqqq-alt-uber-pfe-gild-mrk-amd-nio-jblu   \n",
       "\n",
       "                                                                                                                                                                                                                                                                                                                                                                                                                                                                                                                                                                                                                                                                                                                                                                                                                                                                                                                                                                                                  Lsa_summary  \n",
       "0  Because the $125.00 strike represents an approximate 10% discount to the current trading price of the stock (in other words it is out-of-the-money by that percentage), there is also the possibility that the put contract would expire worthless. Of course, a lot of upside could potentially be left on the table if A shares really soar, which is why looking at the trailing twelve month trading history for Agilent Technologies, Inc., as well as studying the business fundamentals becomes important. Below is a chart showing A's trailing twelve month trading history, with the $150.00 strike highlighted in red: Considering the fact that the $150.00 strike represents an approximate 8% premium to the current trading price of the stock (in other words it is out-of-the-money by that percentage), there is also the possibility that the covered call contract would expire worthless, in which case the investor would keep both their shares of stock and the premium collected.  \n",
       "1                                                                                                                                                                                                                                                                                                                                                                                                                                                                                                                                                                 Fintel reports that on December 13, 2023, Wolfe Research initiated coverage of Agilent Technologies (NYSE:A) with a Outperform recommendation. Agilent instruments, software, services, solutions, and people provide trusted answers to customers' most challenging questions. Fintel is one of the most comprehensive investing research platforms available to individual investors, traders, financial advisors, and small hedge funds.  \n",
       "2                                                                                                                                                                               In recent trading, shares of Agilent Technologies, Inc. (Symbol: A) have crossed above the average analyst 12-month target price of $132.36, changing hands for $133.74/share. And so with A crossing above that average target price of $132.36/share, investors in A have been given a good signal to spend fresh time assessing the company and deciding for themselves: is $132.36 just one stop on the way to an even higher target, or has the valuation gotten stretched to the point where it is time to think about taking some chips off the table? The Top 25 Broker Analyst Picks of the S&P 500 » Also see:  PXMD Insider Buying  ETM Insider Buying  Funds Holding FXG The views and opinions expressed herein are the views and opinions of the author and do not necessarily reflect those of Nasdaq, Inc.  \n",
       "3                                                                                                                                                                                                                                                                                                                                                                                                                                                                                                                                                                 Per a Grand View Research report, the global microplate reader market is expected to grow at a CAGR of 7.6% during the forecast period 2023-2030. A Mordor Intelligence report indicates the global live cell imaging market size will reach $2.95 billion by 2028, exhibiting a CAGR of 7.06% between 2023 and 2028. Some better-ranked stocks in the broader technology sector are Badger Meter BMI, Arista Networks ANET and Adobe ADBE.  \n",
       "4                                                                                                                                                                                                                                                                                                                                                                                                                                                                                                                                                                                                                                                                     ProShares UltraPro Short QQQ (SQQQ) is -0.15 at $16.37, with 2,061,124 shares traded. Over the last four weeks they have had 6 up revisions for the earnings forecast, for the fiscal quarter ending Dec 2023. Over the last four weeks they have had 4 up revisions for the earnings forecast, for the fiscal quarter ending Mar 2024.  "
      ]
     },
     "execution_count": 100,
     "metadata": {},
     "output_type": "execute_result"
    }
   ],
   "source": [
    "# Path to the extracted CSV file\n",
    "csv_file_path = '../../data/nasdaq_external_data.csv'\n",
    "\n",
    "columns_to_read = ['Date', 'Article_title', 'Url', 'Lsa_summary']\n",
    "\n",
    "# Read the specified columns from the CSV file into a pandas DataFrame\n",
    "nasdaq_data = pd.read_csv(csv_file_path, usecols=columns_to_read, nrows=2000000)\n",
    "\n",
    "# Display the first few rows of the DataFrame to verify\n",
    "nasdaq_data.head()"
   ]
  },
  {
   "cell_type": "code",
   "execution_count": 104,
   "metadata": {},
   "outputs": [
    {
     "name": "stdout",
     "output_type": "stream",
     "text": [
      "Oldest Date after filtering: 2009-04-08 00:00:00+00:00\n",
      "Newest Date after filtering: 2024-01-09 00:00:00+00:00\n",
      "\n",
      "Yearly Counts of News Entries after filtering:\n",
      "Date\n",
      "2009       610\n",
      "2010      7658\n",
      "2011     12014\n",
      "2012     29369\n",
      "2013     55070\n",
      "2014     73541\n",
      "2015     86726\n",
      "2016    103930\n",
      "2017    133108\n",
      "2018    137456\n",
      "2019     96346\n",
      "2020    117461\n",
      "2021    143280\n",
      "2022    219785\n",
      "2023    783576\n",
      "2024        70\n",
      "Name: count, dtype: int64\n"
     ]
    }
   ],
   "source": [
    "nasdaq_data['Date'] = pd.to_datetime(nasdaq_data['Date'])\n",
    "\n",
    "# Filter rows to include only entries from 1999 or later\n",
    "nasdaq_data_filtered = nasdaq_data[nasdaq_data['Date'].dt.year >= 1999]\n",
    "\n",
    "\n",
    "# Display the range of dates after filtering\n",
    "oldest_date_filtered = nasdaq_data_filtered['Date'].min()\n",
    "newest_date_filtered = nasdaq_data_filtered['Date'].max()\n",
    "\n",
    "print(\"Oldest Date after filtering:\", oldest_date_filtered)\n",
    "print(\"Newest Date after filtering:\", newest_date_filtered)\n",
    "\n",
    "# Display the yearly count of entries after filtering\n",
    "yearly_counts_filtered = nasdaq_data_filtered['Date'].dt.year.value_counts().sort_index()\n",
    "print(\"\\nYearly Counts of News Entries after filtering:\")\n",
    "print(yearly_counts_filtered)"
   ]
  },
  {
   "cell_type": "code",
   "execution_count": 107,
   "metadata": {},
   "outputs": [],
   "source": [
    "nasdaq_data_filtered.dropna(inplace=True)"
   ]
  },
  {
   "cell_type": "code",
   "execution_count": 112,
   "metadata": {},
   "outputs": [
    {
     "name": "stdout",
     "output_type": "stream",
     "text": [
      "Number of Article Titles containing any of the Lexicon Terms: 53600\n"
     ]
    }
   ],
   "source": [
    "# Define the list of lexicon terms\n",
    "lexicon_terms = [\n",
    "    \"price\", \"cost of living\", \"high bill\", \"inflation\", \"expensive\", \"gasoline price\",\n",
    "    \"high rent\", \"low rent\", \"energy costs\", \"deflation\", \"disinflation\", \"sale\",\n",
    "    \"sell-off\", \"low bill\", \"low cost\", \"cheap\" \n",
    "]\n",
    "\n",
    "# Create a regex pattern to match any of the lexicon terms as whole words\n",
    "pattern = '|'.join(r'\\b{}\\b'.format(term) for term in lexicon_terms)\n",
    "\n",
    "# Filter DataFrame to include only entries where 'Article_title' contains any of the lexicon terms\n",
    "titles_with_lexicon_terms = nasdaq_data_filtered[nasdaq_data_filtered['Lsa_summary'].str.contains('inflation', case=False)]\n",
    "\n",
    "# Count the number of article titles containing any of the lexicon terms\n",
    "num_titles_with_lexicon_terms = len(titles_with_lexicon_terms)\n",
    "\n",
    "# Display the count of article titles containing any of the lexicon terms\n",
    "print(\"Number of Article Titles containing any of the Lexicon Terms:\", num_titles_with_lexicon_terms)"
   ]
  },
  {
   "cell_type": "code",
   "execution_count": 113,
   "metadata": {},
   "outputs": [
    {
     "name": "stdout",
     "output_type": "stream",
     "text": [
      "Sample of 100 Titles containing 'inflation':\n",
      "- United Airlines stock (NASDAQ: UAL) currently trades at $49 per share, more than 20% below its level in March 2021, and it has the potential for sizable gains. Our detailed analysis of United Airlines’ upside post-inflation shock captures trends in the company’s stock during the turbulent market conditions seen over 2022. Its steady increase in ASM and load factor will likely bolster its top-line growth, and a higher operating margin would translate into bottom-line expansion in the near term, boding well for its stock. \n",
      "\n",
      "- Anticipating Further Moves Gold’s future trajectory remains uncertain, as accelerating inflation and the resilience of the U.S. economy could herald a rate hike as early as November. Echoing this sentiment, Loretta Mester from the Cleveland Federal Reserve Bank stated that quelling inflation might necessitate another interest rate increment, followed by a period of stability. This article was originally posted on FX Empire More From FXEMPIRE: S&P 500 Price Forecast – Stock Market Hangs Around and 50-Day EMA XRP News: Memo Twist Sheds Light on Internal SEC Discussions Remitly: One Chart Explains the Mega-Rally The views and opinions expressed herein are the views and opinions of the author and do not necessarily reflect those of Nasdaq, Inc. \n",
      "\n",
      "- Instacart's strong debut, along with that of chip designer Arm and RayzeBioRYZB.O last week, could encourage other startups to test the waters and potentially revive the IPO market after a near 18-month dry spell. Instacart is debuting almost three years after kicking off preparations for going public and several startups have had to take a cut to their valuations since 2022 as inflation, geopolitical tensions and the Federal Reserve's rapid rate hikes soured the economic climate. In 2021, its co-founder Apoorva Mehta stepped down after seven years at the helm and Fidji Simo, the former head of Meta's META.O Facebook app, its CEO. \n",
      "\n"
     ]
    }
   ],
   "source": [
    "if len(titles_with_lexicon_terms) > 0:\n",
    "    print(\"Sample of 100 Titles containing 'inflation':\")\n",
    "    for title in titles_with_lexicon_terms['Lsa_summary'].sample(min(3, len(titles_with_lexicon_terms))):\n",
    "        print(\"-\", title, '\\n')\n",
    "else:\n",
    "    print(\"No titles found containing 'inflation'.\")"
   ]
  },
  {
   "cell_type": "markdown",
   "metadata": {},
   "source": [
    "#### 2.1 Summary Stats"
   ]
  },
  {
   "cell_type": "code",
   "execution_count": null,
   "metadata": {},
   "outputs": [],
   "source": [
    "# TODO"
   ]
  },
  {
   "cell_type": "markdown",
   "metadata": {},
   "source": [
    "#### 2.1 Topic Analysis (inflation related)"
   ]
  },
  {
   "cell_type": "code",
   "execution_count": null,
   "metadata": {},
   "outputs": [],
   "source": [
    "# TODO"
   ]
  },
  {
   "cell_type": "markdown",
   "metadata": {},
   "source": [
    "---\n",
    "### 3. Continuation and Proposed Methods"
   ]
  },
  {
   "cell_type": "markdown",
   "metadata": {},
   "source": [
    "> ..."
   ]
  }
 ],
 "metadata": {
  "kernelspec": {
   "display_name": "DataScience",
   "language": "python",
   "name": "python3"
  },
  "language_info": {
   "codemirror_mode": {
    "name": "ipython",
    "version": 3
   },
   "file_extension": ".py",
   "mimetype": "text/x-python",
   "name": "python",
   "nbconvert_exporter": "python",
   "pygments_lexer": "ipython3",
   "version": "3.11.4"
  }
 },
 "nbformat": 4,
 "nbformat_minor": 2
}
