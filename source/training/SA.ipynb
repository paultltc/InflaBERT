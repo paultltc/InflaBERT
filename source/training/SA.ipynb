{
 "cells": [
  {
   "cell_type": "markdown",
   "metadata": {},
   "source": [
    "Authors: Allard Marc-Antoine\n",
    "\n",
    "Course: FIN-407\n",
    "\n",
    "---\n",
    "\n",
    "## Sentiment Analysis Benchmark\n",
    "\n",
    "1. Exploration of the training set\n",
    "\n",
    "\n",
    "2. Models training:\n",
    "    1. CBOW + Classification Algo\n",
    "    2. FastText\n",
    "    3. LSTM/GRU\n",
    "    4. RoBERTa\n",
    "    5. FinBERT\n"
   ]
  },
  {
   "cell_type": "markdown",
   "metadata": {},
   "source": [
    "---\n",
    "### Import"
   ]
  },
  {
   "cell_type": "code",
   "execution_count": null,
   "metadata": {},
   "outputs": [],
   "source": [
    "# For Colab\n",
    "# !pip instal requirements.txt"
   ]
  },
  {
   "cell_type": "code",
   "execution_count": 40,
   "metadata": {},
   "outputs": [
    {
     "name": "stdout",
     "output_type": "stream",
     "text": [
      "The autoreload extension is already loaded. To reload it, use:\n",
      "  %reload_ext autoreload\n"
     ]
    }
   ],
   "source": [
    "%load_ext autoreload\n",
    "%autoreload 2\n",
    "\n",
    "from torch.utils.data import Dataset\n",
    "import pandas as pd\n",
    "pd.options.plotting.backend = \"plotly\"\n",
    "pd.options.plotting.backend = 'matplotlib'\n",
    "import plotly.express as px\n",
    "\n",
    "import numpy as np\n",
    "import torch\n",
    "import torch.nn as nn\n",
    "from torch.optim import RAdam\n",
    "import random\n",
    "from tqdm import tqdm\n",
    "import statsmodels as sm \n",
    "import seaborn as sns \n",
    "%matplotlib inline \n",
    "\n",
    "import spacy, nltk, gensim, sklearn\n",
    "import pyLDAvis.gensim_models\n",
    "\n",
    "from datasets import Dataset as HFDataset\n",
    "from datasets import concatenate_datasets\n",
    "from torch.utils.data import DataLoader\n",
    "\n",
    "from transformers import (AutoConfig,\n",
    "                          AutoTokenizer,\n",
    "                          AutoModelForSequenceClassification,\n",
    "                          DataCollatorWithPadding,\n",
    "                          TrainingArguments,\n",
    "                          AdamW,\n",
    "                          get_scheduler,\n",
    "                          Trainer)\n",
    "\n",
    "import evaluate\n",
    "accuracy = evaluate.load(\"accuracy\")"
   ]
  },
  {
   "cell_type": "markdown",
   "metadata": {},
   "source": [
    "---\n",
    "### Helper func"
   ]
  },
  {
   "cell_type": "code",
   "execution_count": 45,
   "metadata": {},
   "outputs": [],
   "source": [
    "def plot_timeseries(df): \n",
    "    # Convert 'Date' column to datetime\n",
    "    df['Date'] = pd.to_datetime(df['Date'])\n",
    "\n",
    "    # Extract the year and month from the Date column\n",
    "    df['YearMonth'] = df['Date'].dt.to_period('M').astype(str)\n",
    "\n",
    "    # Group by YearMonth and count the number of articles for each sentiment label\n",
    "    monthly_counts = df.groupby(['YearMonth', 'label']).size().reset_index(name='Count')\n",
    "\n",
    "    # Create a bar plot using Plotly Express with hue for the sentiment label\n",
    "    fig = px.bar(monthly_counts, \n",
    "                 x='YearMonth', \n",
    "                 y='Count', \n",
    "                 title='Monthly Count of Sentiment-Labeled News Articles', \n",
    "                 color='label', \n",
    "                 color_discrete_map={'-1': 'red', '0': 'blue', '1': 'green'},\n",
    "                 labels={'YearMonth': 'Month', 'Count': 'Number of Articles'},\n",
    "                 category_orders={'label': ['-1', '0', '1']})\n",
    "\n",
    "    # Update the x-axis tick format and angle for better readability\n",
    "    fig.update_xaxes(tickangle=-45)\n",
    "\n",
    "    # Show the plot\n",
    "    fig.show()"
   ]
  },
  {
   "cell_type": "markdown",
   "metadata": {},
   "source": [
    "---\n",
    "### Exploration of the training set"
   ]
  },
  {
   "cell_type": "code",
   "execution_count": 29,
   "metadata": {},
   "outputs": [
    {
     "data": {
      "text/html": [
       "<div>\n",
       "<style scoped>\n",
       "    .dataframe tbody tr th:only-of-type {\n",
       "        vertical-align: middle;\n",
       "    }\n",
       "\n",
       "    .dataframe tbody tr th {\n",
       "        vertical-align: top;\n",
       "    }\n",
       "\n",
       "    .dataframe thead th {\n",
       "        text-align: right;\n",
       "    }\n",
       "</style>\n",
       "<table border=\"1\" class=\"dataframe\">\n",
       "  <thead>\n",
       "    <tr style=\"text-align: right;\">\n",
       "      <th></th>\n",
       "      <th>Summary</th>\n",
       "      <th>Date</th>\n",
       "      <th>label</th>\n",
       "    </tr>\n",
       "    <tr>\n",
       "      <th>id</th>\n",
       "      <th></th>\n",
       "      <th></th>\n",
       "      <th></th>\n",
       "    </tr>\n",
       "  </thead>\n",
       "  <tbody>\n",
       "    <tr>\n",
       "      <th>1</th>\n",
       "      <td>Today, the United States wakes up at 2, smokes...</td>\n",
       "      <td>2010-01-12 00:00:00+00:00</td>\n",
       "      <td>-1.0</td>\n",
       "    </tr>\n",
       "    <tr>\n",
       "      <th>2</th>\n",
       "      <td>Today, the United States wakes up at 2, smokes...</td>\n",
       "      <td>2010-01-12 00:00:00+00:00</td>\n",
       "      <td>0.0</td>\n",
       "    </tr>\n",
       "    <tr>\n",
       "      <th>3</th>\n",
       "      <td>Short treasuries via TBT. That 4.7% return on ...</td>\n",
       "      <td>2010-02-12 00:00:00+00:00</td>\n",
       "      <td>1.0</td>\n",
       "    </tr>\n",
       "    <tr>\n",
       "      <th>4</th>\n",
       "      <td>Hard Assets Investor submits: By Brad Zigler R...</td>\n",
       "      <td>2010-02-26 00:00:00+00:00</td>\n",
       "      <td>0.0</td>\n",
       "    </tr>\n",
       "    <tr>\n",
       "      <th>5</th>\n",
       "      <td>After seeing the debacle 1999-2002 in CDOs, mo...</td>\n",
       "      <td>2010-02-26 00:00:00+00:00</td>\n",
       "      <td>1.0</td>\n",
       "    </tr>\n",
       "  </tbody>\n",
       "</table>\n",
       "</div>"
      ],
      "text/plain": [
       "                                              Summary  \\\n",
       "id                                                      \n",
       "1   Today, the United States wakes up at 2, smokes...   \n",
       "2   Today, the United States wakes up at 2, smokes...   \n",
       "3   Short treasuries via TBT. That 4.7% return on ...   \n",
       "4   Hard Assets Investor submits: By Brad Zigler R...   \n",
       "5   After seeing the debacle 1999-2002 in CDOs, mo...   \n",
       "\n",
       "                        Date  label  \n",
       "id                                   \n",
       "1  2010-01-12 00:00:00+00:00   -1.0  \n",
       "2  2010-01-12 00:00:00+00:00    0.0  \n",
       "3  2010-02-12 00:00:00+00:00    1.0  \n",
       "4  2010-02-26 00:00:00+00:00    0.0  \n",
       "5  2010-02-26 00:00:00+00:00    1.0  "
      ]
     },
     "execution_count": 29,
     "metadata": {},
     "output_type": "execute_result"
    }
   ],
   "source": [
    "training_path = \"../../data/training/\"\n",
    "# Load the data\n",
    "training_news = pd.read_json(training_path+\"train_answers.json\")\n",
    "\n",
    "# Add unique identifier\n",
    "training_news['id'] = range(1, len(training_news) + 1)\n",
    "# label to float\n",
    "training_news['label'] = training_news['label'].str.replace(\" \", \"\")\n",
    "training_news['label'] = training_news['label'].astype(float)\n",
    "\n",
    "training_news.set_index('id', inplace=True)\n",
    "\n",
    "training_news.head()"
   ]
  },
  {
   "cell_type": "code",
   "execution_count": 30,
   "metadata": {},
   "outputs": [
    {
     "name": "stdout",
     "output_type": "stream",
     "text": [
      "<class 'pandas.core.frame.DataFrame'>\n",
      "Index: 3931 entries, 1 to 3931\n",
      "Data columns (total 3 columns):\n",
      " #   Column   Non-Null Count  Dtype              \n",
      "---  ------   --------------  -----              \n",
      " 0   Summary  3931 non-null   object             \n",
      " 1   Date     3931 non-null   datetime64[ns, UTC]\n",
      " 2   label    3931 non-null   float64            \n",
      "dtypes: datetime64[ns, UTC](1), float64(1), object(1)\n",
      "memory usage: 122.8+ KB\n"
     ]
    }
   ],
   "source": [
    "training_news.info()"
   ]
  },
  {
   "cell_type": "code",
   "execution_count": 47,
   "metadata": {},
   "outputs": [
    {
     "data": {
      "application/vnd.plotly.v1+json": {
       "config": {
        "plotlyServerURL": "https://plot.ly"
       },
       "data": [
        {
         "alignmentgroup": "True",
         "hovertemplate": "variable=count<br>label=%{x}<br>value=%{y}<extra></extra>",
         "legendgroup": "count",
         "marker": {
          "color": "#636efa",
          "pattern": {
           "shape": ""
          }
         },
         "name": "count",
         "offsetgroup": "count",
         "orientation": "v",
         "showlegend": true,
         "textposition": "auto",
         "type": "bar",
         "x": [
          1,
          0,
          -1
         ],
         "xaxis": "x",
         "y": [
          1781,
          1336,
          814
         ],
         "yaxis": "y"
        }
       ],
       "layout": {
        "barmode": "relative",
        "legend": {
         "title": {
          "text": "variable"
         },
         "tracegroupgap": 0
        },
        "margin": {
         "t": 60
        },
        "template": {
         "data": {
          "bar": [
           {
            "error_x": {
             "color": "#2a3f5f"
            },
            "error_y": {
             "color": "#2a3f5f"
            },
            "marker": {
             "line": {
              "color": "#E5ECF6",
              "width": 0.5
             },
             "pattern": {
              "fillmode": "overlay",
              "size": 10,
              "solidity": 0.2
             }
            },
            "type": "bar"
           }
          ],
          "barpolar": [
           {
            "marker": {
             "line": {
              "color": "#E5ECF6",
              "width": 0.5
             },
             "pattern": {
              "fillmode": "overlay",
              "size": 10,
              "solidity": 0.2
             }
            },
            "type": "barpolar"
           }
          ],
          "carpet": [
           {
            "aaxis": {
             "endlinecolor": "#2a3f5f",
             "gridcolor": "white",
             "linecolor": "white",
             "minorgridcolor": "white",
             "startlinecolor": "#2a3f5f"
            },
            "baxis": {
             "endlinecolor": "#2a3f5f",
             "gridcolor": "white",
             "linecolor": "white",
             "minorgridcolor": "white",
             "startlinecolor": "#2a3f5f"
            },
            "type": "carpet"
           }
          ],
          "choropleth": [
           {
            "colorbar": {
             "outlinewidth": 0,
             "ticks": ""
            },
            "type": "choropleth"
           }
          ],
          "contour": [
           {
            "colorbar": {
             "outlinewidth": 0,
             "ticks": ""
            },
            "colorscale": [
             [
              0,
              "#0d0887"
             ],
             [
              0.1111111111111111,
              "#46039f"
             ],
             [
              0.2222222222222222,
              "#7201a8"
             ],
             [
              0.3333333333333333,
              "#9c179e"
             ],
             [
              0.4444444444444444,
              "#bd3786"
             ],
             [
              0.5555555555555556,
              "#d8576b"
             ],
             [
              0.6666666666666666,
              "#ed7953"
             ],
             [
              0.7777777777777778,
              "#fb9f3a"
             ],
             [
              0.8888888888888888,
              "#fdca26"
             ],
             [
              1,
              "#f0f921"
             ]
            ],
            "type": "contour"
           }
          ],
          "contourcarpet": [
           {
            "colorbar": {
             "outlinewidth": 0,
             "ticks": ""
            },
            "type": "contourcarpet"
           }
          ],
          "heatmap": [
           {
            "colorbar": {
             "outlinewidth": 0,
             "ticks": ""
            },
            "colorscale": [
             [
              0,
              "#0d0887"
             ],
             [
              0.1111111111111111,
              "#46039f"
             ],
             [
              0.2222222222222222,
              "#7201a8"
             ],
             [
              0.3333333333333333,
              "#9c179e"
             ],
             [
              0.4444444444444444,
              "#bd3786"
             ],
             [
              0.5555555555555556,
              "#d8576b"
             ],
             [
              0.6666666666666666,
              "#ed7953"
             ],
             [
              0.7777777777777778,
              "#fb9f3a"
             ],
             [
              0.8888888888888888,
              "#fdca26"
             ],
             [
              1,
              "#f0f921"
             ]
            ],
            "type": "heatmap"
           }
          ],
          "heatmapgl": [
           {
            "colorbar": {
             "outlinewidth": 0,
             "ticks": ""
            },
            "colorscale": [
             [
              0,
              "#0d0887"
             ],
             [
              0.1111111111111111,
              "#46039f"
             ],
             [
              0.2222222222222222,
              "#7201a8"
             ],
             [
              0.3333333333333333,
              "#9c179e"
             ],
             [
              0.4444444444444444,
              "#bd3786"
             ],
             [
              0.5555555555555556,
              "#d8576b"
             ],
             [
              0.6666666666666666,
              "#ed7953"
             ],
             [
              0.7777777777777778,
              "#fb9f3a"
             ],
             [
              0.8888888888888888,
              "#fdca26"
             ],
             [
              1,
              "#f0f921"
             ]
            ],
            "type": "heatmapgl"
           }
          ],
          "histogram": [
           {
            "marker": {
             "pattern": {
              "fillmode": "overlay",
              "size": 10,
              "solidity": 0.2
             }
            },
            "type": "histogram"
           }
          ],
          "histogram2d": [
           {
            "colorbar": {
             "outlinewidth": 0,
             "ticks": ""
            },
            "colorscale": [
             [
              0,
              "#0d0887"
             ],
             [
              0.1111111111111111,
              "#46039f"
             ],
             [
              0.2222222222222222,
              "#7201a8"
             ],
             [
              0.3333333333333333,
              "#9c179e"
             ],
             [
              0.4444444444444444,
              "#bd3786"
             ],
             [
              0.5555555555555556,
              "#d8576b"
             ],
             [
              0.6666666666666666,
              "#ed7953"
             ],
             [
              0.7777777777777778,
              "#fb9f3a"
             ],
             [
              0.8888888888888888,
              "#fdca26"
             ],
             [
              1,
              "#f0f921"
             ]
            ],
            "type": "histogram2d"
           }
          ],
          "histogram2dcontour": [
           {
            "colorbar": {
             "outlinewidth": 0,
             "ticks": ""
            },
            "colorscale": [
             [
              0,
              "#0d0887"
             ],
             [
              0.1111111111111111,
              "#46039f"
             ],
             [
              0.2222222222222222,
              "#7201a8"
             ],
             [
              0.3333333333333333,
              "#9c179e"
             ],
             [
              0.4444444444444444,
              "#bd3786"
             ],
             [
              0.5555555555555556,
              "#d8576b"
             ],
             [
              0.6666666666666666,
              "#ed7953"
             ],
             [
              0.7777777777777778,
              "#fb9f3a"
             ],
             [
              0.8888888888888888,
              "#fdca26"
             ],
             [
              1,
              "#f0f921"
             ]
            ],
            "type": "histogram2dcontour"
           }
          ],
          "mesh3d": [
           {
            "colorbar": {
             "outlinewidth": 0,
             "ticks": ""
            },
            "type": "mesh3d"
           }
          ],
          "parcoords": [
           {
            "line": {
             "colorbar": {
              "outlinewidth": 0,
              "ticks": ""
             }
            },
            "type": "parcoords"
           }
          ],
          "pie": [
           {
            "automargin": true,
            "type": "pie"
           }
          ],
          "scatter": [
           {
            "fillpattern": {
             "fillmode": "overlay",
             "size": 10,
             "solidity": 0.2
            },
            "type": "scatter"
           }
          ],
          "scatter3d": [
           {
            "line": {
             "colorbar": {
              "outlinewidth": 0,
              "ticks": ""
             }
            },
            "marker": {
             "colorbar": {
              "outlinewidth": 0,
              "ticks": ""
             }
            },
            "type": "scatter3d"
           }
          ],
          "scattercarpet": [
           {
            "marker": {
             "colorbar": {
              "outlinewidth": 0,
              "ticks": ""
             }
            },
            "type": "scattercarpet"
           }
          ],
          "scattergeo": [
           {
            "marker": {
             "colorbar": {
              "outlinewidth": 0,
              "ticks": ""
             }
            },
            "type": "scattergeo"
           }
          ],
          "scattergl": [
           {
            "marker": {
             "colorbar": {
              "outlinewidth": 0,
              "ticks": ""
             }
            },
            "type": "scattergl"
           }
          ],
          "scattermapbox": [
           {
            "marker": {
             "colorbar": {
              "outlinewidth": 0,
              "ticks": ""
             }
            },
            "type": "scattermapbox"
           }
          ],
          "scatterpolar": [
           {
            "marker": {
             "colorbar": {
              "outlinewidth": 0,
              "ticks": ""
             }
            },
            "type": "scatterpolar"
           }
          ],
          "scatterpolargl": [
           {
            "marker": {
             "colorbar": {
              "outlinewidth": 0,
              "ticks": ""
             }
            },
            "type": "scatterpolargl"
           }
          ],
          "scatterternary": [
           {
            "marker": {
             "colorbar": {
              "outlinewidth": 0,
              "ticks": ""
             }
            },
            "type": "scatterternary"
           }
          ],
          "surface": [
           {
            "colorbar": {
             "outlinewidth": 0,
             "ticks": ""
            },
            "colorscale": [
             [
              0,
              "#0d0887"
             ],
             [
              0.1111111111111111,
              "#46039f"
             ],
             [
              0.2222222222222222,
              "#7201a8"
             ],
             [
              0.3333333333333333,
              "#9c179e"
             ],
             [
              0.4444444444444444,
              "#bd3786"
             ],
             [
              0.5555555555555556,
              "#d8576b"
             ],
             [
              0.6666666666666666,
              "#ed7953"
             ],
             [
              0.7777777777777778,
              "#fb9f3a"
             ],
             [
              0.8888888888888888,
              "#fdca26"
             ],
             [
              1,
              "#f0f921"
             ]
            ],
            "type": "surface"
           }
          ],
          "table": [
           {
            "cells": {
             "fill": {
              "color": "#EBF0F8"
             },
             "line": {
              "color": "white"
             }
            },
            "header": {
             "fill": {
              "color": "#C8D4E3"
             },
             "line": {
              "color": "white"
             }
            },
            "type": "table"
           }
          ]
         },
         "layout": {
          "annotationdefaults": {
           "arrowcolor": "#2a3f5f",
           "arrowhead": 0,
           "arrowwidth": 1
          },
          "autotypenumbers": "strict",
          "coloraxis": {
           "colorbar": {
            "outlinewidth": 0,
            "ticks": ""
           }
          },
          "colorscale": {
           "diverging": [
            [
             0,
             "#8e0152"
            ],
            [
             0.1,
             "#c51b7d"
            ],
            [
             0.2,
             "#de77ae"
            ],
            [
             0.3,
             "#f1b6da"
            ],
            [
             0.4,
             "#fde0ef"
            ],
            [
             0.5,
             "#f7f7f7"
            ],
            [
             0.6,
             "#e6f5d0"
            ],
            [
             0.7,
             "#b8e186"
            ],
            [
             0.8,
             "#7fbc41"
            ],
            [
             0.9,
             "#4d9221"
            ],
            [
             1,
             "#276419"
            ]
           ],
           "sequential": [
            [
             0,
             "#0d0887"
            ],
            [
             0.1111111111111111,
             "#46039f"
            ],
            [
             0.2222222222222222,
             "#7201a8"
            ],
            [
             0.3333333333333333,
             "#9c179e"
            ],
            [
             0.4444444444444444,
             "#bd3786"
            ],
            [
             0.5555555555555556,
             "#d8576b"
            ],
            [
             0.6666666666666666,
             "#ed7953"
            ],
            [
             0.7777777777777778,
             "#fb9f3a"
            ],
            [
             0.8888888888888888,
             "#fdca26"
            ],
            [
             1,
             "#f0f921"
            ]
           ],
           "sequentialminus": [
            [
             0,
             "#0d0887"
            ],
            [
             0.1111111111111111,
             "#46039f"
            ],
            [
             0.2222222222222222,
             "#7201a8"
            ],
            [
             0.3333333333333333,
             "#9c179e"
            ],
            [
             0.4444444444444444,
             "#bd3786"
            ],
            [
             0.5555555555555556,
             "#d8576b"
            ],
            [
             0.6666666666666666,
             "#ed7953"
            ],
            [
             0.7777777777777778,
             "#fb9f3a"
            ],
            [
             0.8888888888888888,
             "#fdca26"
            ],
            [
             1,
             "#f0f921"
            ]
           ]
          },
          "colorway": [
           "#636efa",
           "#EF553B",
           "#00cc96",
           "#ab63fa",
           "#FFA15A",
           "#19d3f3",
           "#FF6692",
           "#B6E880",
           "#FF97FF",
           "#FECB52"
          ],
          "font": {
           "color": "#2a3f5f"
          },
          "geo": {
           "bgcolor": "white",
           "lakecolor": "white",
           "landcolor": "#E5ECF6",
           "showlakes": true,
           "showland": true,
           "subunitcolor": "white"
          },
          "hoverlabel": {
           "align": "left"
          },
          "hovermode": "closest",
          "mapbox": {
           "style": "light"
          },
          "paper_bgcolor": "white",
          "plot_bgcolor": "#E5ECF6",
          "polar": {
           "angularaxis": {
            "gridcolor": "white",
            "linecolor": "white",
            "ticks": ""
           },
           "bgcolor": "#E5ECF6",
           "radialaxis": {
            "gridcolor": "white",
            "linecolor": "white",
            "ticks": ""
           }
          },
          "scene": {
           "xaxis": {
            "backgroundcolor": "#E5ECF6",
            "gridcolor": "white",
            "gridwidth": 2,
            "linecolor": "white",
            "showbackground": true,
            "ticks": "",
            "zerolinecolor": "white"
           },
           "yaxis": {
            "backgroundcolor": "#E5ECF6",
            "gridcolor": "white",
            "gridwidth": 2,
            "linecolor": "white",
            "showbackground": true,
            "ticks": "",
            "zerolinecolor": "white"
           },
           "zaxis": {
            "backgroundcolor": "#E5ECF6",
            "gridcolor": "white",
            "gridwidth": 2,
            "linecolor": "white",
            "showbackground": true,
            "ticks": "",
            "zerolinecolor": "white"
           }
          },
          "shapedefaults": {
           "line": {
            "color": "#2a3f5f"
           }
          },
          "ternary": {
           "aaxis": {
            "gridcolor": "white",
            "linecolor": "white",
            "ticks": ""
           },
           "baxis": {
            "gridcolor": "white",
            "linecolor": "white",
            "ticks": ""
           },
           "bgcolor": "#E5ECF6",
           "caxis": {
            "gridcolor": "white",
            "linecolor": "white",
            "ticks": ""
           }
          },
          "title": {
           "x": 0.05
          },
          "xaxis": {
           "automargin": true,
           "gridcolor": "white",
           "linecolor": "white",
           "ticks": "",
           "title": {
            "standoff": 15
           },
           "zerolinecolor": "white",
           "zerolinewidth": 2
          },
          "yaxis": {
           "automargin": true,
           "gridcolor": "white",
           "linecolor": "white",
           "ticks": "",
           "title": {
            "standoff": 15
           },
           "zerolinecolor": "white",
           "zerolinewidth": 2
          }
         }
        },
        "xaxis": {
         "anchor": "y",
         "domain": [
          0,
          1
         ],
         "title": {
          "text": "Count"
         }
        },
        "yaxis": {
         "anchor": "x",
         "domain": [
          0,
          1
         ],
         "title": {
          "text": "Number of Articles"
         }
        }
       }
      }
     },
     "metadata": {},
     "output_type": "display_data"
    }
   ],
   "source": [
    "import matplotlib.pyplot as plt\n",
    "\n",
    "fig = training_news.label.value_counts().plot(kind='bar', backend='plotly')\n",
    "\n",
    "fig.update_layout(\n",
    "    xaxis_title='Count',\n",
    "    yaxis_title='Number of Articles',\n",
    ")"
   ]
  },
  {
   "cell_type": "code",
   "execution_count": 44,
   "metadata": {},
   "outputs": [
    {
     "name": "stderr",
     "output_type": "stream",
     "text": [
      "/var/folders/gx/b0gl84xd4rjflbpgs2bhddcc0000gp/T/ipykernel_89028/2776964306.py:28: UserWarning:\n",
      "\n",
      "Converting to PeriodArray/Index representation will drop timezone information.\n",
      "\n"
     ]
    },
    {
     "data": {
      "application/vnd.plotly.v1+json": {
       "config": {
        "plotlyServerURL": "https://plot.ly"
       },
       "data": [
        {
         "alignmentgroup": "True",
         "hovertemplate": "Month=%{x}<br>Number of Articles=%{y}<br>label=%{marker.color}<extra></extra>",
         "legendgroup": "",
         "marker": {
          "color": [
           -1,
           0,
           0,
           1,
           -1,
           0,
           1,
           0,
           1,
           -1,
           0,
           1,
           -1,
           0,
           1,
           0,
           -1,
           0,
           1,
           -1,
           0,
           1,
           -1,
           0,
           1,
           -1,
           0,
           1,
           -1,
           0,
           1,
           -1,
           0,
           1,
           -1,
           0,
           1,
           -1,
           0,
           1,
           -1,
           0,
           1,
           -1,
           0,
           1,
           -1,
           0,
           1,
           -1,
           0,
           1,
           -1,
           0,
           1,
           -1,
           0,
           1,
           -1,
           0,
           1,
           0,
           1,
           -1,
           0,
           1,
           0,
           1,
           -1,
           0,
           1,
           -1,
           0,
           1,
           -1,
           0,
           1,
           -1,
           0,
           1,
           -1,
           0,
           1,
           -1,
           0,
           1,
           -1,
           0,
           1,
           -1,
           0,
           1,
           -1,
           0,
           1,
           -1,
           0,
           1,
           -1,
           0,
           1,
           -1,
           0,
           1,
           -1,
           0,
           1,
           -1,
           0,
           1,
           -1,
           0,
           1,
           -1,
           0,
           1,
           -1,
           0,
           1,
           -1,
           0,
           1,
           -1,
           0,
           1,
           -1,
           0,
           1,
           -1,
           0,
           1,
           -1,
           0,
           1,
           -1,
           0,
           1,
           -1,
           0,
           1,
           -1,
           0,
           1,
           -1,
           0,
           1,
           -1,
           0,
           1,
           -1,
           0,
           1,
           -1,
           0,
           1,
           -1,
           0,
           1,
           -1,
           0,
           1,
           -1,
           0,
           1,
           -1,
           0,
           1,
           -1,
           0,
           1,
           -1,
           0,
           1,
           -1,
           0,
           1,
           -1,
           0,
           1,
           -1,
           0,
           1,
           -1,
           0,
           1,
           -1,
           0,
           1,
           -1,
           0,
           -1,
           0,
           1,
           -1,
           0,
           1,
           -1,
           0,
           1,
           -1,
           0,
           1,
           -1,
           0,
           1,
           -1,
           0,
           1,
           -1,
           0,
           1,
           -1,
           0,
           1,
           -1,
           0,
           1,
           -1,
           0,
           1,
           -1,
           0,
           1,
           -1,
           0,
           1,
           -1,
           0,
           1,
           -1,
           0,
           1,
           -1,
           0,
           1,
           -1,
           0,
           1,
           -1,
           0,
           1,
           -1,
           0,
           1,
           -1,
           0,
           1,
           -1,
           0,
           1,
           -1,
           0,
           1,
           -1,
           0,
           1,
           -1,
           0,
           1,
           -1,
           0,
           1,
           -1,
           0,
           1,
           -1,
           0,
           1,
           -1,
           0,
           1,
           -1,
           0,
           1,
           -1,
           0,
           1,
           -1,
           0,
           1,
           -1,
           0,
           1,
           -1,
           0,
           1,
           -1,
           0,
           1,
           -1,
           0,
           1,
           -1,
           0,
           1,
           -1,
           0,
           1,
           -1,
           0,
           1,
           -1,
           0,
           1,
           -1,
           0,
           1,
           -1,
           0,
           1,
           -1,
           0,
           1,
           -1,
           0,
           1,
           -1,
           0,
           1,
           -1,
           0,
           1,
           -1,
           0,
           1,
           -1,
           0,
           1,
           -1,
           0,
           1,
           -1,
           0,
           1,
           -1,
           0,
           1,
           -1,
           0,
           1,
           -1,
           0,
           1,
           -1,
           0,
           1,
           0,
           1,
           -1,
           0,
           1,
           0,
           1,
           -1,
           0,
           1,
           -1,
           0,
           1,
           -1,
           0,
           1,
           -1,
           0,
           1,
           -1,
           0,
           1,
           -1,
           0,
           1,
           -1,
           0,
           1,
           -1,
           0,
           1,
           -1,
           0,
           1,
           -1,
           0,
           1,
           -1,
           0,
           1
          ],
          "coloraxis": "coloraxis",
          "pattern": {
           "shape": ""
          }
         },
         "name": "",
         "offsetgroup": "",
         "orientation": "v",
         "showlegend": false,
         "textposition": "auto",
         "type": "bar",
         "x": [
          "2010-01",
          "2010-01",
          "2010-02",
          "2010-02",
          "2010-03",
          "2010-03",
          "2010-03",
          "2010-04",
          "2010-04",
          "2010-05",
          "2010-05",
          "2010-05",
          "2010-06",
          "2010-06",
          "2010-06",
          "2010-07",
          "2010-08",
          "2010-08",
          "2010-08",
          "2010-09",
          "2010-09",
          "2010-09",
          "2010-10",
          "2010-10",
          "2010-10",
          "2010-11",
          "2010-11",
          "2010-11",
          "2010-12",
          "2010-12",
          "2010-12",
          "2011-01",
          "2011-01",
          "2011-01",
          "2011-02",
          "2011-02",
          "2011-02",
          "2011-03",
          "2011-03",
          "2011-03",
          "2011-04",
          "2011-04",
          "2011-04",
          "2011-05",
          "2011-05",
          "2011-05",
          "2011-06",
          "2011-06",
          "2011-06",
          "2011-07",
          "2011-07",
          "2011-07",
          "2011-08",
          "2011-08",
          "2011-08",
          "2011-09",
          "2011-09",
          "2011-09",
          "2011-10",
          "2011-10",
          "2011-10",
          "2011-11",
          "2011-11",
          "2011-12",
          "2011-12",
          "2011-12",
          "2012-01",
          "2012-01",
          "2012-02",
          "2012-02",
          "2012-02",
          "2012-03",
          "2012-03",
          "2012-03",
          "2012-04",
          "2012-04",
          "2012-04",
          "2012-05",
          "2012-05",
          "2012-05",
          "2012-06",
          "2012-06",
          "2012-06",
          "2012-07",
          "2012-07",
          "2012-07",
          "2012-08",
          "2012-08",
          "2012-08",
          "2012-09",
          "2012-09",
          "2012-09",
          "2012-10",
          "2012-10",
          "2012-10",
          "2012-11",
          "2012-11",
          "2012-11",
          "2012-12",
          "2012-12",
          "2012-12",
          "2013-01",
          "2013-01",
          "2013-01",
          "2013-02",
          "2013-02",
          "2013-02",
          "2013-03",
          "2013-03",
          "2013-03",
          "2013-04",
          "2013-04",
          "2013-04",
          "2013-05",
          "2013-05",
          "2013-05",
          "2013-06",
          "2013-06",
          "2013-06",
          "2013-07",
          "2013-07",
          "2013-07",
          "2013-08",
          "2013-08",
          "2013-08",
          "2013-09",
          "2013-09",
          "2013-09",
          "2013-10",
          "2013-10",
          "2013-10",
          "2013-11",
          "2013-11",
          "2013-11",
          "2013-12",
          "2013-12",
          "2013-12",
          "2014-01",
          "2014-01",
          "2014-01",
          "2014-02",
          "2014-02",
          "2014-02",
          "2014-03",
          "2014-03",
          "2014-03",
          "2014-04",
          "2014-04",
          "2014-04",
          "2014-05",
          "2014-05",
          "2014-05",
          "2014-06",
          "2014-06",
          "2014-06",
          "2014-07",
          "2014-07",
          "2014-07",
          "2014-08",
          "2014-08",
          "2014-08",
          "2014-09",
          "2014-09",
          "2014-09",
          "2014-10",
          "2014-10",
          "2014-10",
          "2014-11",
          "2014-11",
          "2014-11",
          "2014-12",
          "2014-12",
          "2014-12",
          "2015-01",
          "2015-01",
          "2015-01",
          "2015-02",
          "2015-02",
          "2015-02",
          "2015-03",
          "2015-03",
          "2015-03",
          "2015-04",
          "2015-04",
          "2015-04",
          "2015-05",
          "2015-05",
          "2015-05",
          "2015-06",
          "2015-06",
          "2015-07",
          "2015-07",
          "2015-07",
          "2015-08",
          "2015-08",
          "2015-08",
          "2015-09",
          "2015-09",
          "2015-09",
          "2015-10",
          "2015-10",
          "2015-10",
          "2015-11",
          "2015-11",
          "2015-11",
          "2015-12",
          "2015-12",
          "2015-12",
          "2016-01",
          "2016-01",
          "2016-01",
          "2016-02",
          "2016-02",
          "2016-02",
          "2016-03",
          "2016-03",
          "2016-03",
          "2016-04",
          "2016-04",
          "2016-04",
          "2016-05",
          "2016-05",
          "2016-05",
          "2016-06",
          "2016-06",
          "2016-06",
          "2016-07",
          "2016-07",
          "2016-07",
          "2016-08",
          "2016-08",
          "2016-08",
          "2016-09",
          "2016-09",
          "2016-09",
          "2016-10",
          "2016-10",
          "2016-10",
          "2016-11",
          "2016-11",
          "2016-11",
          "2016-12",
          "2016-12",
          "2016-12",
          "2017-01",
          "2017-01",
          "2017-01",
          "2017-02",
          "2017-02",
          "2017-02",
          "2017-03",
          "2017-03",
          "2017-03",
          "2017-04",
          "2017-04",
          "2017-04",
          "2017-05",
          "2017-05",
          "2017-05",
          "2017-06",
          "2017-06",
          "2017-06",
          "2017-07",
          "2017-07",
          "2017-07",
          "2017-08",
          "2017-08",
          "2017-08",
          "2017-09",
          "2017-09",
          "2017-09",
          "2017-10",
          "2017-10",
          "2017-10",
          "2017-11",
          "2017-11",
          "2017-11",
          "2017-12",
          "2017-12",
          "2017-12",
          "2018-01",
          "2018-01",
          "2018-01",
          "2018-02",
          "2018-02",
          "2018-02",
          "2018-03",
          "2018-03",
          "2018-03",
          "2018-04",
          "2018-04",
          "2018-04",
          "2018-05",
          "2018-05",
          "2018-05",
          "2018-06",
          "2018-06",
          "2018-06",
          "2018-07",
          "2018-07",
          "2018-07",
          "2018-08",
          "2018-08",
          "2018-08",
          "2018-09",
          "2018-09",
          "2018-09",
          "2018-10",
          "2018-10",
          "2018-10",
          "2018-11",
          "2018-11",
          "2018-11",
          "2018-12",
          "2018-12",
          "2018-12",
          "2019-01",
          "2019-01",
          "2019-01",
          "2019-02",
          "2019-02",
          "2019-02",
          "2019-03",
          "2019-03",
          "2019-03",
          "2019-04",
          "2019-04",
          "2019-04",
          "2019-05",
          "2019-05",
          "2019-05",
          "2019-06",
          "2019-06",
          "2019-06",
          "2019-07",
          "2019-07",
          "2019-07",
          "2019-08",
          "2019-08",
          "2019-08",
          "2019-09",
          "2019-09",
          "2019-09",
          "2019-10",
          "2019-10",
          "2019-10",
          "2019-11",
          "2019-11",
          "2019-12",
          "2019-12",
          "2019-12",
          "2020-01",
          "2020-01",
          "2020-02",
          "2020-02",
          "2020-02",
          "2020-03",
          "2020-03",
          "2020-03",
          "2020-04",
          "2020-04",
          "2020-04",
          "2020-05",
          "2020-05",
          "2020-05",
          "2020-06",
          "2020-06",
          "2020-06",
          "2020-07",
          "2020-07",
          "2020-07",
          "2020-08",
          "2020-08",
          "2020-08",
          "2020-09",
          "2020-09",
          "2020-09",
          "2020-10",
          "2020-10",
          "2020-10",
          "2020-11",
          "2020-11",
          "2020-11",
          "2020-12",
          "2020-12",
          "2020-12"
         ],
         "xaxis": "x",
         "y": [
          1,
          1,
          3,
          7,
          3,
          2,
          6,
          2,
          7,
          9,
          5,
          7,
          1,
          2,
          17,
          1,
          4,
          2,
          6,
          5,
          2,
          5,
          5,
          8,
          20,
          11,
          7,
          27,
          2,
          9,
          9,
          1,
          9,
          10,
          1,
          2,
          17,
          1,
          11,
          15,
          3,
          7,
          24,
          7,
          4,
          7,
          2,
          3,
          9,
          3,
          6,
          23,
          10,
          6,
          18,
          7,
          3,
          4,
          1,
          1,
          8,
          2,
          4,
          3,
          4,
          1,
          1,
          6,
          1,
          10,
          7,
          3,
          4,
          8,
          4,
          3,
          5,
          7,
          6,
          2,
          2,
          6,
          6,
          6,
          4,
          5,
          9,
          12,
          14,
          6,
          8,
          14,
          8,
          15,
          10,
          3,
          16,
          10,
          2,
          11,
          15,
          2,
          15,
          29,
          7,
          12,
          21,
          3,
          9,
          11,
          14,
          12,
          24,
          12,
          13,
          6,
          12,
          12,
          8,
          10,
          8,
          6,
          10,
          5,
          16,
          3,
          5,
          4,
          4,
          11,
          6,
          7,
          5,
          7,
          3,
          10,
          5,
          11,
          5,
          6,
          7,
          7,
          8,
          5,
          6,
          8,
          4,
          5,
          12,
          4,
          5,
          4,
          3,
          7,
          12,
          10,
          10,
          6,
          4,
          11,
          5,
          3,
          12,
          14,
          9,
          12,
          11,
          7,
          11,
          9,
          7,
          14,
          12,
          12,
          13,
          17,
          4,
          11,
          10,
          4,
          13,
          6,
          2,
          11,
          5,
          7,
          11,
          17,
          1,
          10,
          6,
          5,
          5,
          3,
          4,
          5,
          8,
          8,
          8,
          3,
          18,
          8,
          4,
          9,
          5,
          7,
          5,
          8,
          5,
          8,
          6,
          5,
          8,
          17,
          8,
          18,
          6,
          12,
          19,
          8,
          10,
          23,
          7,
          8,
          10,
          11,
          4,
          13,
          10,
          6,
          15,
          14,
          9,
          18,
          11,
          2,
          10,
          15,
          4,
          18,
          26,
          3,
          10,
          33,
          5,
          6,
          24,
          7,
          4,
          14,
          6,
          8,
          18,
          4,
          4,
          11,
          4,
          14,
          5,
          8,
          6,
          15,
          20,
          15,
          18,
          7,
          15,
          15,
          9,
          15,
          33,
          11,
          12,
          28,
          15,
          8,
          26,
          8,
          6,
          23,
          6,
          16,
          27,
          12,
          18,
          67,
          20,
          28,
          43,
          10,
          17,
          50,
          13,
          17,
          50,
          4,
          17,
          28,
          6,
          13,
          32,
          10,
          17,
          34,
          8,
          20,
          24,
          14,
          23,
          41,
          8,
          14,
          25,
          17,
          16,
          14,
          19,
          19,
          19,
          21,
          25,
          18,
          13,
          23,
          25,
          18,
          14,
          15,
          7,
          20,
          18,
          3,
          16,
          6,
          2,
          9,
          5,
          7,
          6,
          10,
          2,
          6,
          10,
          6,
          7,
          3,
          12,
          13,
          3,
          15,
          3,
          10,
          10,
          2,
          4,
          6,
          3,
          3,
          1,
          3,
          5,
          5,
          9,
          11,
          14,
          8,
          11,
          11,
          5,
          12,
          13,
          7,
          20,
          11,
          6,
          8,
          7,
          4,
          19,
          11,
          2,
          9,
          9,
          3,
          15,
          12
         ],
         "yaxis": "y"
        }
       ],
       "layout": {
        "barmode": "relative",
        "coloraxis": {
         "colorbar": {
          "title": {
           "text": "label"
          }
         },
         "colorscale": [
          [
           0,
           "#0d0887"
          ],
          [
           0.1111111111111111,
           "#46039f"
          ],
          [
           0.2222222222222222,
           "#7201a8"
          ],
          [
           0.3333333333333333,
           "#9c179e"
          ],
          [
           0.4444444444444444,
           "#bd3786"
          ],
          [
           0.5555555555555556,
           "#d8576b"
          ],
          [
           0.6666666666666666,
           "#ed7953"
          ],
          [
           0.7777777777777778,
           "#fb9f3a"
          ],
          [
           0.8888888888888888,
           "#fdca26"
          ],
          [
           1,
           "#f0f921"
          ]
         ]
        },
        "legend": {
         "tracegroupgap": 0
        },
        "template": {
         "data": {
          "bar": [
           {
            "error_x": {
             "color": "#2a3f5f"
            },
            "error_y": {
             "color": "#2a3f5f"
            },
            "marker": {
             "line": {
              "color": "#E5ECF6",
              "width": 0.5
             },
             "pattern": {
              "fillmode": "overlay",
              "size": 10,
              "solidity": 0.2
             }
            },
            "type": "bar"
           }
          ],
          "barpolar": [
           {
            "marker": {
             "line": {
              "color": "#E5ECF6",
              "width": 0.5
             },
             "pattern": {
              "fillmode": "overlay",
              "size": 10,
              "solidity": 0.2
             }
            },
            "type": "barpolar"
           }
          ],
          "carpet": [
           {
            "aaxis": {
             "endlinecolor": "#2a3f5f",
             "gridcolor": "white",
             "linecolor": "white",
             "minorgridcolor": "white",
             "startlinecolor": "#2a3f5f"
            },
            "baxis": {
             "endlinecolor": "#2a3f5f",
             "gridcolor": "white",
             "linecolor": "white",
             "minorgridcolor": "white",
             "startlinecolor": "#2a3f5f"
            },
            "type": "carpet"
           }
          ],
          "choropleth": [
           {
            "colorbar": {
             "outlinewidth": 0,
             "ticks": ""
            },
            "type": "choropleth"
           }
          ],
          "contour": [
           {
            "colorbar": {
             "outlinewidth": 0,
             "ticks": ""
            },
            "colorscale": [
             [
              0,
              "#0d0887"
             ],
             [
              0.1111111111111111,
              "#46039f"
             ],
             [
              0.2222222222222222,
              "#7201a8"
             ],
             [
              0.3333333333333333,
              "#9c179e"
             ],
             [
              0.4444444444444444,
              "#bd3786"
             ],
             [
              0.5555555555555556,
              "#d8576b"
             ],
             [
              0.6666666666666666,
              "#ed7953"
             ],
             [
              0.7777777777777778,
              "#fb9f3a"
             ],
             [
              0.8888888888888888,
              "#fdca26"
             ],
             [
              1,
              "#f0f921"
             ]
            ],
            "type": "contour"
           }
          ],
          "contourcarpet": [
           {
            "colorbar": {
             "outlinewidth": 0,
             "ticks": ""
            },
            "type": "contourcarpet"
           }
          ],
          "heatmap": [
           {
            "colorbar": {
             "outlinewidth": 0,
             "ticks": ""
            },
            "colorscale": [
             [
              0,
              "#0d0887"
             ],
             [
              0.1111111111111111,
              "#46039f"
             ],
             [
              0.2222222222222222,
              "#7201a8"
             ],
             [
              0.3333333333333333,
              "#9c179e"
             ],
             [
              0.4444444444444444,
              "#bd3786"
             ],
             [
              0.5555555555555556,
              "#d8576b"
             ],
             [
              0.6666666666666666,
              "#ed7953"
             ],
             [
              0.7777777777777778,
              "#fb9f3a"
             ],
             [
              0.8888888888888888,
              "#fdca26"
             ],
             [
              1,
              "#f0f921"
             ]
            ],
            "type": "heatmap"
           }
          ],
          "heatmapgl": [
           {
            "colorbar": {
             "outlinewidth": 0,
             "ticks": ""
            },
            "colorscale": [
             [
              0,
              "#0d0887"
             ],
             [
              0.1111111111111111,
              "#46039f"
             ],
             [
              0.2222222222222222,
              "#7201a8"
             ],
             [
              0.3333333333333333,
              "#9c179e"
             ],
             [
              0.4444444444444444,
              "#bd3786"
             ],
             [
              0.5555555555555556,
              "#d8576b"
             ],
             [
              0.6666666666666666,
              "#ed7953"
             ],
             [
              0.7777777777777778,
              "#fb9f3a"
             ],
             [
              0.8888888888888888,
              "#fdca26"
             ],
             [
              1,
              "#f0f921"
             ]
            ],
            "type": "heatmapgl"
           }
          ],
          "histogram": [
           {
            "marker": {
             "pattern": {
              "fillmode": "overlay",
              "size": 10,
              "solidity": 0.2
             }
            },
            "type": "histogram"
           }
          ],
          "histogram2d": [
           {
            "colorbar": {
             "outlinewidth": 0,
             "ticks": ""
            },
            "colorscale": [
             [
              0,
              "#0d0887"
             ],
             [
              0.1111111111111111,
              "#46039f"
             ],
             [
              0.2222222222222222,
              "#7201a8"
             ],
             [
              0.3333333333333333,
              "#9c179e"
             ],
             [
              0.4444444444444444,
              "#bd3786"
             ],
             [
              0.5555555555555556,
              "#d8576b"
             ],
             [
              0.6666666666666666,
              "#ed7953"
             ],
             [
              0.7777777777777778,
              "#fb9f3a"
             ],
             [
              0.8888888888888888,
              "#fdca26"
             ],
             [
              1,
              "#f0f921"
             ]
            ],
            "type": "histogram2d"
           }
          ],
          "histogram2dcontour": [
           {
            "colorbar": {
             "outlinewidth": 0,
             "ticks": ""
            },
            "colorscale": [
             [
              0,
              "#0d0887"
             ],
             [
              0.1111111111111111,
              "#46039f"
             ],
             [
              0.2222222222222222,
              "#7201a8"
             ],
             [
              0.3333333333333333,
              "#9c179e"
             ],
             [
              0.4444444444444444,
              "#bd3786"
             ],
             [
              0.5555555555555556,
              "#d8576b"
             ],
             [
              0.6666666666666666,
              "#ed7953"
             ],
             [
              0.7777777777777778,
              "#fb9f3a"
             ],
             [
              0.8888888888888888,
              "#fdca26"
             ],
             [
              1,
              "#f0f921"
             ]
            ],
            "type": "histogram2dcontour"
           }
          ],
          "mesh3d": [
           {
            "colorbar": {
             "outlinewidth": 0,
             "ticks": ""
            },
            "type": "mesh3d"
           }
          ],
          "parcoords": [
           {
            "line": {
             "colorbar": {
              "outlinewidth": 0,
              "ticks": ""
             }
            },
            "type": "parcoords"
           }
          ],
          "pie": [
           {
            "automargin": true,
            "type": "pie"
           }
          ],
          "scatter": [
           {
            "fillpattern": {
             "fillmode": "overlay",
             "size": 10,
             "solidity": 0.2
            },
            "type": "scatter"
           }
          ],
          "scatter3d": [
           {
            "line": {
             "colorbar": {
              "outlinewidth": 0,
              "ticks": ""
             }
            },
            "marker": {
             "colorbar": {
              "outlinewidth": 0,
              "ticks": ""
             }
            },
            "type": "scatter3d"
           }
          ],
          "scattercarpet": [
           {
            "marker": {
             "colorbar": {
              "outlinewidth": 0,
              "ticks": ""
             }
            },
            "type": "scattercarpet"
           }
          ],
          "scattergeo": [
           {
            "marker": {
             "colorbar": {
              "outlinewidth": 0,
              "ticks": ""
             }
            },
            "type": "scattergeo"
           }
          ],
          "scattergl": [
           {
            "marker": {
             "colorbar": {
              "outlinewidth": 0,
              "ticks": ""
             }
            },
            "type": "scattergl"
           }
          ],
          "scattermapbox": [
           {
            "marker": {
             "colorbar": {
              "outlinewidth": 0,
              "ticks": ""
             }
            },
            "type": "scattermapbox"
           }
          ],
          "scatterpolar": [
           {
            "marker": {
             "colorbar": {
              "outlinewidth": 0,
              "ticks": ""
             }
            },
            "type": "scatterpolar"
           }
          ],
          "scatterpolargl": [
           {
            "marker": {
             "colorbar": {
              "outlinewidth": 0,
              "ticks": ""
             }
            },
            "type": "scatterpolargl"
           }
          ],
          "scatterternary": [
           {
            "marker": {
             "colorbar": {
              "outlinewidth": 0,
              "ticks": ""
             }
            },
            "type": "scatterternary"
           }
          ],
          "surface": [
           {
            "colorbar": {
             "outlinewidth": 0,
             "ticks": ""
            },
            "colorscale": [
             [
              0,
              "#0d0887"
             ],
             [
              0.1111111111111111,
              "#46039f"
             ],
             [
              0.2222222222222222,
              "#7201a8"
             ],
             [
              0.3333333333333333,
              "#9c179e"
             ],
             [
              0.4444444444444444,
              "#bd3786"
             ],
             [
              0.5555555555555556,
              "#d8576b"
             ],
             [
              0.6666666666666666,
              "#ed7953"
             ],
             [
              0.7777777777777778,
              "#fb9f3a"
             ],
             [
              0.8888888888888888,
              "#fdca26"
             ],
             [
              1,
              "#f0f921"
             ]
            ],
            "type": "surface"
           }
          ],
          "table": [
           {
            "cells": {
             "fill": {
              "color": "#EBF0F8"
             },
             "line": {
              "color": "white"
             }
            },
            "header": {
             "fill": {
              "color": "#C8D4E3"
             },
             "line": {
              "color": "white"
             }
            },
            "type": "table"
           }
          ]
         },
         "layout": {
          "annotationdefaults": {
           "arrowcolor": "#2a3f5f",
           "arrowhead": 0,
           "arrowwidth": 1
          },
          "autotypenumbers": "strict",
          "coloraxis": {
           "colorbar": {
            "outlinewidth": 0,
            "ticks": ""
           }
          },
          "colorscale": {
           "diverging": [
            [
             0,
             "#8e0152"
            ],
            [
             0.1,
             "#c51b7d"
            ],
            [
             0.2,
             "#de77ae"
            ],
            [
             0.3,
             "#f1b6da"
            ],
            [
             0.4,
             "#fde0ef"
            ],
            [
             0.5,
             "#f7f7f7"
            ],
            [
             0.6,
             "#e6f5d0"
            ],
            [
             0.7,
             "#b8e186"
            ],
            [
             0.8,
             "#7fbc41"
            ],
            [
             0.9,
             "#4d9221"
            ],
            [
             1,
             "#276419"
            ]
           ],
           "sequential": [
            [
             0,
             "#0d0887"
            ],
            [
             0.1111111111111111,
             "#46039f"
            ],
            [
             0.2222222222222222,
             "#7201a8"
            ],
            [
             0.3333333333333333,
             "#9c179e"
            ],
            [
             0.4444444444444444,
             "#bd3786"
            ],
            [
             0.5555555555555556,
             "#d8576b"
            ],
            [
             0.6666666666666666,
             "#ed7953"
            ],
            [
             0.7777777777777778,
             "#fb9f3a"
            ],
            [
             0.8888888888888888,
             "#fdca26"
            ],
            [
             1,
             "#f0f921"
            ]
           ],
           "sequentialminus": [
            [
             0,
             "#0d0887"
            ],
            [
             0.1111111111111111,
             "#46039f"
            ],
            [
             0.2222222222222222,
             "#7201a8"
            ],
            [
             0.3333333333333333,
             "#9c179e"
            ],
            [
             0.4444444444444444,
             "#bd3786"
            ],
            [
             0.5555555555555556,
             "#d8576b"
            ],
            [
             0.6666666666666666,
             "#ed7953"
            ],
            [
             0.7777777777777778,
             "#fb9f3a"
            ],
            [
             0.8888888888888888,
             "#fdca26"
            ],
            [
             1,
             "#f0f921"
            ]
           ]
          },
          "colorway": [
           "#636efa",
           "#EF553B",
           "#00cc96",
           "#ab63fa",
           "#FFA15A",
           "#19d3f3",
           "#FF6692",
           "#B6E880",
           "#FF97FF",
           "#FECB52"
          ],
          "font": {
           "color": "#2a3f5f"
          },
          "geo": {
           "bgcolor": "white",
           "lakecolor": "white",
           "landcolor": "#E5ECF6",
           "showlakes": true,
           "showland": true,
           "subunitcolor": "white"
          },
          "hoverlabel": {
           "align": "left"
          },
          "hovermode": "closest",
          "mapbox": {
           "style": "light"
          },
          "paper_bgcolor": "white",
          "plot_bgcolor": "#E5ECF6",
          "polar": {
           "angularaxis": {
            "gridcolor": "white",
            "linecolor": "white",
            "ticks": ""
           },
           "bgcolor": "#E5ECF6",
           "radialaxis": {
            "gridcolor": "white",
            "linecolor": "white",
            "ticks": ""
           }
          },
          "scene": {
           "xaxis": {
            "backgroundcolor": "#E5ECF6",
            "gridcolor": "white",
            "gridwidth": 2,
            "linecolor": "white",
            "showbackground": true,
            "ticks": "",
            "zerolinecolor": "white"
           },
           "yaxis": {
            "backgroundcolor": "#E5ECF6",
            "gridcolor": "white",
            "gridwidth": 2,
            "linecolor": "white",
            "showbackground": true,
            "ticks": "",
            "zerolinecolor": "white"
           },
           "zaxis": {
            "backgroundcolor": "#E5ECF6",
            "gridcolor": "white",
            "gridwidth": 2,
            "linecolor": "white",
            "showbackground": true,
            "ticks": "",
            "zerolinecolor": "white"
           }
          },
          "shapedefaults": {
           "line": {
            "color": "#2a3f5f"
           }
          },
          "ternary": {
           "aaxis": {
            "gridcolor": "white",
            "linecolor": "white",
            "ticks": ""
           },
           "baxis": {
            "gridcolor": "white",
            "linecolor": "white",
            "ticks": ""
           },
           "bgcolor": "#E5ECF6",
           "caxis": {
            "gridcolor": "white",
            "linecolor": "white",
            "ticks": ""
           }
          },
          "title": {
           "x": 0.05
          },
          "xaxis": {
           "automargin": true,
           "gridcolor": "white",
           "linecolor": "white",
           "ticks": "",
           "title": {
            "standoff": 15
           },
           "zerolinecolor": "white",
           "zerolinewidth": 2
          },
          "yaxis": {
           "automargin": true,
           "gridcolor": "white",
           "linecolor": "white",
           "ticks": "",
           "title": {
            "standoff": 15
           },
           "zerolinecolor": "white",
           "zerolinewidth": 2
          }
         }
        },
        "title": {
         "text": "Monthly Count of Sentiment-Labeled News Articles"
        },
        "xaxis": {
         "anchor": "y",
         "domain": [
          0,
          1
         ],
         "tickangle": -45,
         "title": {
          "text": "Month"
         }
        },
        "yaxis": {
         "anchor": "x",
         "domain": [
          0,
          1
         ],
         "title": {
          "text": "Number of Articles"
         }
        }
       }
      }
     },
     "metadata": {},
     "output_type": "display_data"
    }
   ],
   "source": [
    "plot_timeseries(training_news)"
   ]
  },
  {
   "cell_type": "markdown",
   "metadata": {},
   "source": [
    "---\n",
    "### Models training"
   ]
  },
  {
   "cell_type": "markdown",
   "metadata": {},
   "source": [
    "#### 1. CBOW"
   ]
  },
  {
   "cell_type": "markdown",
   "metadata": {},
   "source": [
    "#### 2. FastText"
   ]
  },
  {
   "cell_type": "markdown",
   "metadata": {},
   "source": [
    "#### 3. LSTM/GRU"
   ]
  },
  {
   "cell_type": "markdown",
   "metadata": {},
   "source": [
    "#### 4. RoBERTa"
   ]
  },
  {
   "cell_type": "markdown",
   "metadata": {},
   "source": [
    "#### 5. FinBERT"
   ]
  }
 ],
 "metadata": {
  "kernelspec": {
   "display_name": "DataScience",
   "language": "python",
   "name": "python3"
  },
  "language_info": {
   "codemirror_mode": {
    "name": "ipython",
    "version": 3
   },
   "file_extension": ".py",
   "mimetype": "text/x-python",
   "name": "python",
   "nbconvert_exporter": "python",
   "pygments_lexer": "ipython3",
   "version": "3.11.4"
  }
 },
 "nbformat": 4,
 "nbformat_minor": 2
}
